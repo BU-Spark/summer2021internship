{
 "cells": [
  {
   "cell_type": "code",
   "execution_count": 1,
   "metadata": {},
   "outputs": [],
   "source": [
    "import pandas as pd\n",
    "import numpy as np\n",
    "import ast"
   ]
  },
  {
   "cell_type": "code",
   "execution_count": 2,
   "metadata": {},
   "outputs": [],
   "source": [
    "# data cleaning\n",
    "# remove special characters and extra whitespace\n",
    "def remove_specChar(df):\n",
    "\n",
    "    spec_chars = [\"!\",'\"',\"#\",\"%\",\"&\",\"'\",\"(\",\")\", \"*\",\"+\",\",\",\n",
    "                  \"-\",\".\",\"/\",\":\",\";\",\"<\", \"=\",\">\",\"?\",\"@\",\"[\",\n",
    "                  \"\\\\\",\"]\",\"^\",\"_\", \"`\",\"{\",\"|\",\"}\",\"~\",\"–\", \n",
    "                  \"\\xc2\", \"\\xa0\", \"\\x80\", \"\\x9c\", \"\\x99\", \"\\x94\", \n",
    "                  \"\\xad\", \"\\xe2\", \"\\x9d\", \"\\n\", \" n \", \"xc2\", \"xa0\",\n",
    "                  \"x80\", \"x9c\", \"x99\", \"x94\", \"xad\", \"xed\", \"x9d\"]\n",
    "\n",
    "    for char in spec_chars:\n",
    "        df['text'] = df['text'].str.strip()\n",
    "        df['text'] = df['text'].str.replace(char, ' ')\n",
    "        \n",
    "    return df"
   ]
  },
  {
   "cell_type": "code",
   "execution_count": 3,
   "metadata": {},
   "outputs": [
    {
     "name": "stdout",
     "output_type": "stream",
     "text": [
      "shape:  (8291, 1)\n"
     ]
    }
   ],
   "source": [
    "# read in CSV of articles\n",
    "data = pd.read_csv('../Word2Vec/globe_data/bostonglobe2018.csv')\n",
    "\n",
    "data = remove_specChar(data)\n",
    "print(\"shape: \", data.shape)"
   ]
  },
  {
   "cell_type": "code",
   "execution_count": 4,
   "metadata": {},
   "outputs": [],
   "source": [
    "black_neighborhoods = ['dorchester', 'roxbury', 'mattapan', 'hyde_park']\n",
    "white_neighborhoods = ['fenway', 'beacon_hill', 'downtown', 'south_boston', 'east_boston', 'back_bay', 'jamaica_plain',\n",
    "                      'south_end', 'charlestown', 'brighton', 'allston', 'west_end', 'roslindale', 'north_end',\n",
    "                      'mission_hill', 'harbor_islands', 'longwood_medical_area', 'west_roxbury'] #south_boston_waterfront\n",
    "\n",
    "keywords = black_neighborhoods + white_neighborhoods"
   ]
  },
  {
   "cell_type": "code",
   "execution_count": 5,
   "metadata": {},
   "outputs": [],
   "source": [
    "# documents = []\n",
    "neighborhood_separated_articles = pd.DataFrame(columns=keywords, data=[[('no article', 'no_id')] * 22], index=range(100))\n",
    "\n",
    "num_articles = {'hyde_park': 0, 'beacon_hill': 0, 'south_boston': 0, 'jamaica_plain': 0, 'east_boston': 0,\n",
    "                'south_end': 0, 'back_bay': 0, 'north_end': 0, 'west_roxbury': 0, 'mission_hill': 0,\n",
    "                'harbor_islands': 0, 'west_end': 0, 'longwood_medical_area': 0,\n",
    "                'dorchester': 0, 'roxbury': 0, 'downtown': 0, 'fenway': 0, 'mattapan': 0, 'brighton': 0,\n",
    "                'charlestown': 0, 'roslindale': 0, 'allston': 0}\n",
    "article_id = 0\n",
    "df = pd.DataFrame(columns=['text'])\n",
    "df['text'] = list(set(data['text']))\n",
    "for row in df.itertuples(index=False):\n",
    "    #[temp] = ast.literal_eval(row.text)\n",
    "    row = row.text\n",
    "    temp = str(row)\n",
    "    temp = temp.lower().split()\n",
    "    length = len(temp) - 1\n",
    "    num_mentions = {'hyde_park': 0, 'beacon_hill': 0, 'south_boston': 0, 'jamaica_plain': 0, 'east_boston': 0,\n",
    "           'south_end': 0, 'back_bay': 0, 'north_end': 0, 'west_roxbury': 0, 'mission_hill': 0,\n",
    "           'harbor_islands': 0, 'west_end': 0, 'south_boston_waterfront': 0, 'longwood_medical_area': 0,\n",
    "           'dorchester': 0, 'roxbury': 0, 'downtown': 0, 'fenway': 0, 'mattapan': 0, 'brighton': 0,\n",
    "           'charlestown': 0, 'roslindale': 0, 'allston': 0}\n",
    "    for i in range(length):\n",
    "        if temp[i] == 'hyde' and temp[i + 1] == 'park':\n",
    "            temp[i] = 'hyde_park'\n",
    "            temp.pop(i + 1)\n",
    "            length -= 1\n",
    "            num_mentions['hyde_park'] += 1\n",
    "        elif temp[i] == 'dorchester':\n",
    "            num_mentions['dorchester'] += 1\n",
    "        elif temp[i] == 'roxbury':\n",
    "            num_mentions['roxbury'] += 1\n",
    "        elif temp[i] == 'downtown':\n",
    "            num_mentions['downtown'] += 1\n",
    "        elif temp[i] == 'fenway':\n",
    "            num_mentions['fenway'] += 1\n",
    "        elif temp[i] == 'mattapan':\n",
    "            num_mentions['mattapan'] += 1\n",
    "        elif temp[i] == 'brighton':\n",
    "            num_mentions['brighton'] += 1\n",
    "        elif temp[i] == 'charlestown':\n",
    "            num_mentions['charlestown'] += 1\n",
    "        elif temp[i] == 'roslindale':\n",
    "            num_mentions['roslindale'] += 1\n",
    "        elif temp[i] == 'allston':\n",
    "            num_mentions['allston'] += 1\n",
    "        elif temp[i] == 'beacon' and temp[i + 1] == 'hill':\n",
    "            temp[i] = 'beacon_hill'\n",
    "            temp.pop(i + 1)\n",
    "            length -= 1\n",
    "            num_mentions['beacon_hill'] += 1\n",
    "        elif temp[i] == 'south' and temp[i + 1] == 'boston':\n",
    "            temp[i] = 'south_boston'\n",
    "            temp.pop(i + 1)\n",
    "            length -= 1\n",
    "            num_mentions['south_boston'] += 1\n",
    "        elif temp[i] == 'jamaica' and temp[i + 1] == 'plain':\n",
    "            temp[i] = 'jamaica_plain'\n",
    "            temp.pop(i + 1)\n",
    "            length -= 1\n",
    "            num_mentions['jamaica_plain'] += 1\n",
    "        elif temp[i] == 'east' and temp[i + 1] == 'boston':\n",
    "            temp[i] = 'east_boston'\n",
    "            temp.pop(i + 1)\n",
    "            length -= 1\n",
    "            num_mentions['east_boston'] += 1\n",
    "        elif temp[i] == 'south' and temp[i + 1] == 'end':\n",
    "            temp[i] = 'south_end'\n",
    "            temp.pop(i + 1)\n",
    "            length -= 1\n",
    "            num_mentions['south_end'] += 1\n",
    "        elif temp[i] == 'back' and temp[i + 1] == 'bay':\n",
    "            temp[i] = 'back_bay'\n",
    "            temp.pop(i + 1)\n",
    "            length -= 1\n",
    "            num_mentions['back_bay'] += 1\n",
    "        elif temp[i] == 'north' and temp[i + 1] == 'end':\n",
    "            temp[i] = 'north_end'\n",
    "            temp.pop(i + 1)\n",
    "            length -= 1\n",
    "            num_mentions['north_end'] += 1\n",
    "        elif temp[i] == 'west' and temp[i + 1] == 'roxbury':\n",
    "            temp[i] = 'west_roxbury'\n",
    "            temp.pop(i + 1)\n",
    "            length -= 1\n",
    "            num_mentions['west_roxbury'] += 1\n",
    "        elif temp[i] == 'mission' and temp[i + 1] == 'hill':\n",
    "            temp[i] = 'mission_hill'\n",
    "            temp.pop(i + 1)\n",
    "            length -= 1\n",
    "            num_mentions['mission_hill'] += 1\n",
    "        elif temp[i] == 'harbor' and temp[i + 1] == 'islands':\n",
    "            temp[i] = 'harbor_islands'\n",
    "            temp.pop(i + 1)\n",
    "            length -= 1\n",
    "            num_mentions['harbor_islands'] += 1\n",
    "        elif temp[i] == 'west' and temp[i + 1] == 'end':\n",
    "            temp[i] = 'west_end'\n",
    "            temp.pop(i + 1)\n",
    "            length -= 1\n",
    "            num_mentions['west_end'] += 1\n",
    "        elif i > 0 and temp[i - 1] == 'south' and temp[i] == 'boston' and temp[i + 1] == 'waterfront':\n",
    "            temp[i - 1] = 'south_boston_waterfront'\n",
    "            temp.pop(i + 1)\n",
    "            temp.pop(i)\n",
    "            length -= 2\n",
    "            num_mentions['south_boston_waterfront'] += 1\n",
    "        elif i > 0 and temp[i - 1] == 'longwood' and temp[i] == 'medical' and temp[i + 1] == 'area':\n",
    "            temp[i - 1] = 'longwood_medical_area'\n",
    "            temp.pop(i + 1)\n",
    "            temp.pop(i)\n",
    "            length -= 1\n",
    "            num_mentions['longwood_medical_area'] += 1\n",
    "        elif i >= length - 3:\n",
    "            break\n",
    "    most_discussed = max(num_mentions, key=num_mentions.get)\n",
    "    if num_mentions[most_discussed] > 0:\n",
    "        neighborhood_separated_articles.loc[num_articles[most_discussed], [most_discussed]] = [(row, '2018_' + str(article_id))]\n",
    "        article_id += 1\n",
    "        num_articles[most_discussed] += 1"
   ]
  },
  {
   "cell_type": "code",
   "execution_count": 6,
   "metadata": {},
   "outputs": [],
   "source": [
    "neighborhood_separated_articles.to_csv('Neighborhood_Separated_Articles/2018.csv')"
   ]
  },
  {
   "cell_type": "code",
   "execution_count": 7,
   "metadata": {},
   "outputs": [
    {
     "data": {
      "text/plain": [
       "tuple"
      ]
     },
     "execution_count": 7,
     "metadata": {},
     "output_type": "execute_result"
    }
   ],
   "source": [
    "type(neighborhood_separated_articles.loc[0, 'dorchester'])"
   ]
  },
  {
   "cell_type": "code",
   "execution_count": 8,
   "metadata": {
    "scrolled": true,
    "tags": []
   },
   "outputs": [
    {
     "data": {
      "text/plain": [
       "{'hyde_park': 169,\n",
       " 'beacon_hill': 67,\n",
       " 'south_boston': 182,\n",
       " 'jamaica_plain': 100,\n",
       " 'east_boston': 67,\n",
       " 'south_end': 82,\n",
       " 'back_bay': 47,\n",
       " 'north_end': 21,\n",
       " 'west_roxbury': 79,\n",
       " 'mission_hill': 29,\n",
       " 'harbor_islands': 1,\n",
       " 'west_end': 7,\n",
       " 'longwood_medical_area': 1,\n",
       " 'dorchester': 854,\n",
       " 'roxbury': 370,\n",
       " 'downtown': 80,\n",
       " 'fenway': 55,\n",
       " 'mattapan': 119,\n",
       " 'brighton': 21,\n",
       " 'charlestown': 29,\n",
       " 'roslindale': 86,\n",
       " 'allston': 16}"
      ]
     },
     "execution_count": 8,
     "metadata": {},
     "output_type": "execute_result"
    }
   ],
   "source": [
    "num_articles"
   ]
  },
  {
   "cell_type": "code",
   "execution_count": 9,
   "metadata": {},
   "outputs": [
    {
     "name": "stdout",
     "output_type": "stream",
     "text": [
      "Articles about black neighborhoods: 1512\n",
      "Articles about white neighborhoods: 970\n"
     ]
    }
   ],
   "source": [
    "black_arts = 0\n",
    "white_arts = 0\n",
    "for key in num_articles:\n",
    "    if key in ['hyde_park', 'dorchester', 'mattapan', 'roxbury']:\n",
    "        black_arts += num_articles[key]\n",
    "    else:\n",
    "        white_arts += num_articles[key]\n",
    "\n",
    "print(\"Articles about black neighborhoods: \" + str(black_arts))\n",
    "print(\"Articles about white neighborhoods: \" + str(white_arts))"
   ]
  },
  {
   "cell_type": "code",
   "execution_count": 10,
   "metadata": {},
   "outputs": [],
   "source": [
    "# 2014:\n",
    "    # Articles about black neighborhoods: 788\n",
    "    # Articles about white neighborhoods: 490\n",
    "\n",
    "# 2015: \n",
    "    # Articles about black neighborhoods: 1071\n",
    "    # Articles about white neighborhoods: 717\n",
    "    \n",
    "# 2016:\n",
    "    # Articles about black neighborhoods: 1027\n",
    "    # Articles about white neighborhoods: 705\n",
    "    \n",
    "# 2017: \n",
    "    # Articles about black neighborhoods: 1111\n",
    "    # Articles about white neighborhoods: 729\n",
    "    \n",
    "# 2018:\n",
    "    # Articles about black neighborhoods: 1512\n",
    "    # Articles about white neighborhoods: 970"
   ]
  },
  {
   "cell_type": "code",
   "execution_count": null,
   "metadata": {},
   "outputs": [],
   "source": []
  }
 ],
 "metadata": {
  "kernelspec": {
   "display_name": "Python 3",
   "language": "python",
   "name": "python3"
  },
  "language_info": {
   "codemirror_mode": {
    "name": "ipython",
    "version": 3
   },
   "file_extension": ".py",
   "mimetype": "text/x-python",
   "name": "python",
   "nbconvert_exporter": "python",
   "pygments_lexer": "ipython3",
   "version": "3.6.13"
  }
 },
 "nbformat": 4,
 "nbformat_minor": 4
}
