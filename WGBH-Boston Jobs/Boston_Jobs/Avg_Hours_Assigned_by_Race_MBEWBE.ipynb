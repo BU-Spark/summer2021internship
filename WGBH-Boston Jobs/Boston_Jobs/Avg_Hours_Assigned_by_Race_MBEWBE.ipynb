{
 "cells": [
  {
   "cell_type": "code",
   "execution_count": 1,
   "id": "9285c447",
   "metadata": {},
   "outputs": [],
   "source": [
    "import pandas as pd"
   ]
  },
  {
   "cell_type": "code",
   "execution_count": 2,
   "id": "eb4e4ee4",
   "metadata": {},
   "outputs": [],
   "source": [
    "df = pd.read_csv('MBE_WBE_Matches_in_GBH_Data.csv')\n",
    "df = df.drop(['LEGEND', 'Unnamed: 2'], axis=1)\n",
    "\n",
    "df_contractors = df['Contractors']\n",
    "df_contractors.columns = ['GeneralContractor']\n",
    "df_sub = df['Sub-Contractors']\n",
    "df_sub.columns = ['SubContractor']"
   ]
  },
  {
   "cell_type": "code",
   "execution_count": 3,
   "id": "425f60d8",
   "metadata": {},
   "outputs": [],
   "source": [
    "def cleaner(dirty_list):\n",
    "    \"\"\"\n",
    "    takes in a list of strings and cleans those by removing special characters\n",
    "    and trimming excess whitespace\n",
    "    to get rid of potential duplicates\n",
    "    \"\"\"\n",
    "    spec_chars = [\"!\",'\"',\"#\",\"%\",\"&\",\"'\",\"(\",\")\", \"*\",\"+\",\",\",\n",
    "                  \"-\",\".\",\"/\",\":\",\";\",\"<\", \"=\",\">\",\"?\",\"@\",\"[\",\n",
    "                  \"\\\\\",\"]\",\"^\",\"_\", \"`\",\"{\",\"|\",\"}\",\"~\",\"–\", \n",
    "                  \"\\xc2\", \"\\xa0\", \"\\x80\", \"\\x9c\", \"\\x99\", \"\\x94\", \n",
    "                  \"\\xad\", \"\\xe2\", \"\\x9d\", \"\\n\"]\n",
    "    for i in range(len(dirty_list)):\n",
    "        for char in spec_chars:\n",
    "            dirty_list[i] = dirty_list[i].replace(char, ' ')\n",
    "            dirty_list[i] = dirty_list[i].strip()\n",
    "            dirty_list[i] = dirty_list[i].split()\n",
    "            dirty_list[i] = ' '.join(dirty_list[i])\n",
    "    return dirty_list"
   ]
  },
  {
   "cell_type": "code",
   "execution_count": 4,
   "id": "0cd499dd",
   "metadata": {},
   "outputs": [],
   "source": [
    "data = pd.read_csv('Copy_of_wgbh.csv', index_col='DateEntered', parse_dates=True)\n",
    "\n",
    "# convert index to yearly DateTime object\n",
    "data.index = data.index.to_period('Y')\n",
    "\n",
    "# drop everything but race, sub-contractor columns\n",
    "data_sub = data.drop(['Agency', 'ProjectName', 'ProjectAddress_1',\n",
    "       'GeneralContractor', 'Developer', 'SubContractorAddress_1',\n",
    "       'SubContractorAddress_2', 'Trade', 'MINOR'], axis=1)\n",
    "\n",
    "data_contractors = data.drop(['Agency', 'ProjectName', 'ProjectAddress_1',\n",
    "       'SubContractor', 'Developer', 'SubContractorAddress_1',\n",
    "       'SubContractorAddress_2', 'Trade', 'MINOR'], axis=1)"
   ]
  },
  {
   "cell_type": "code",
   "execution_count": 5,
   "id": "7b712a35",
   "metadata": {},
   "outputs": [],
   "source": [
    "data_sub = data_sub.drop(['SEX', 'RESIDENT'], axis=1)\n",
    "data_contractors = data_contractors.drop(['SEX', 'RESIDENT'], axis=1)\n",
    "\n",
    "cleaned_subs = cleaner(data_sub['SubContractor'].to_list())\n",
    "data_sub['SubContractor'] = cleaned_subs\n",
    "\n",
    "cleaned_contractors = cleaner(data_contractors['GeneralContractor'].to_list())\n",
    "data_contractors['GeneralContractor'] = cleaned_contractors"
   ]
  },
  {
   "cell_type": "code",
   "execution_count": 6,
   "id": "afe5689e",
   "metadata": {},
   "outputs": [
    {
     "data": {
      "text/html": [
       "<div>\n",
       "<style scoped>\n",
       "    .dataframe tbody tr th:only-of-type {\n",
       "        vertical-align: middle;\n",
       "    }\n",
       "\n",
       "    .dataframe tbody tr th {\n",
       "        vertical-align: top;\n",
       "    }\n",
       "\n",
       "    .dataframe thead th {\n",
       "        text-align: right;\n",
       "    }\n",
       "</style>\n",
       "<table border=\"1\" class=\"dataframe\">\n",
       "  <thead>\n",
       "    <tr style=\"text-align: right;\">\n",
       "      <th></th>\n",
       "      <th>SubContractor</th>\n",
       "      <th>Race_Desc</th>\n",
       "      <th>TotalHours</th>\n",
       "    </tr>\n",
       "    <tr>\n",
       "      <th>DateEntered</th>\n",
       "      <th></th>\n",
       "      <th></th>\n",
       "      <th></th>\n",
       "    </tr>\n",
       "  </thead>\n",
       "  <tbody>\n",
       "    <tr>\n",
       "      <th>2025</th>\n",
       "      <td>KAPILOFF S GLASS INC</td>\n",
       "      <td>CAUCASIAN</td>\n",
       "      <td>0.0</td>\n",
       "    </tr>\n",
       "    <tr>\n",
       "      <th>2021</th>\n",
       "      <td>NORTH EAST ENERGY CONTROL</td>\n",
       "      <td>CAUCASIAN</td>\n",
       "      <td>0.0</td>\n",
       "    </tr>\n",
       "    <tr>\n",
       "      <th>2021</th>\n",
       "      <td>J R J CONSTRUCTION CO</td>\n",
       "      <td>CAUCASIAN</td>\n",
       "      <td>0.0</td>\n",
       "    </tr>\n",
       "    <tr>\n",
       "      <th>2021</th>\n",
       "      <td>RICMOR CONSTRUCTION INC</td>\n",
       "      <td>CAUCASIAN</td>\n",
       "      <td>0.0</td>\n",
       "    </tr>\n",
       "    <tr>\n",
       "      <th>2021</th>\n",
       "      <td>BACK BAY CONCRETE</td>\n",
       "      <td>CAUCASIAN</td>\n",
       "      <td>0.0</td>\n",
       "    </tr>\n",
       "    <tr>\n",
       "      <th>...</th>\n",
       "      <td>...</td>\n",
       "      <td>...</td>\n",
       "      <td>...</td>\n",
       "    </tr>\n",
       "    <tr>\n",
       "      <th>2016</th>\n",
       "      <td>LYNNWELL ASSOCIATES INC</td>\n",
       "      <td>BLACK</td>\n",
       "      <td>32.0</td>\n",
       "    </tr>\n",
       "    <tr>\n",
       "      <th>2016</th>\n",
       "      <td>LYNNWELL ASSOCIATES INC</td>\n",
       "      <td>HISPANIC</td>\n",
       "      <td>40.0</td>\n",
       "    </tr>\n",
       "    <tr>\n",
       "      <th>2016</th>\n",
       "      <td>LYNNWELL ASSOCIATES INC</td>\n",
       "      <td>CAUCASIAN</td>\n",
       "      <td>296.0</td>\n",
       "    </tr>\n",
       "    <tr>\n",
       "      <th>2016</th>\n",
       "      <td>BOWLINE CO</td>\n",
       "      <td>CAUCASIAN</td>\n",
       "      <td>50.5</td>\n",
       "    </tr>\n",
       "    <tr>\n",
       "      <th>2016</th>\n",
       "      <td>W L FRENCH EXCAVATING</td>\n",
       "      <td>CAUCASIAN</td>\n",
       "      <td>48.0</td>\n",
       "    </tr>\n",
       "  </tbody>\n",
       "</table>\n",
       "<p>634463 rows × 3 columns</p>\n",
       "</div>"
      ],
      "text/plain": [
       "                         SubContractor  Race_Desc  TotalHours\n",
       "DateEntered                                                  \n",
       "2025              KAPILOFF S GLASS INC  CAUCASIAN         0.0\n",
       "2021         NORTH EAST ENERGY CONTROL  CAUCASIAN         0.0\n",
       "2021             J R J CONSTRUCTION CO  CAUCASIAN         0.0\n",
       "2021           RICMOR CONSTRUCTION INC  CAUCASIAN         0.0\n",
       "2021                 BACK BAY CONCRETE  CAUCASIAN         0.0\n",
       "...                                ...        ...         ...\n",
       "2016           LYNNWELL ASSOCIATES INC      BLACK        32.0\n",
       "2016           LYNNWELL ASSOCIATES INC   HISPANIC        40.0\n",
       "2016           LYNNWELL ASSOCIATES INC  CAUCASIAN       296.0\n",
       "2016                        BOWLINE CO  CAUCASIAN        50.5\n",
       "2016             W L FRENCH EXCAVATING  CAUCASIAN        48.0\n",
       "\n",
       "[634463 rows x 3 columns]"
      ]
     },
     "execution_count": 6,
     "metadata": {},
     "output_type": "execute_result"
    }
   ],
   "source": [
    "data_sub"
   ]
  },
  {
   "cell_type": "code",
   "execution_count": 7,
   "id": "1adf218c",
   "metadata": {},
   "outputs": [
    {
     "name": "stdout",
     "output_type": "stream",
     "text": [
      "Beginning Grouping\n",
      "Done Grouping By SubContractor\n"
     ]
    },
    {
     "name": "stderr",
     "output_type": "stream",
     "text": [
      "<ipython-input-7-bad77c5c110f>:22: RuntimeWarning: invalid value encountered in double_scalars\n",
      "  ASIAN_hours = ASIAN['TotalHours'].sum() / ASIAN.shape[0]\n",
      "<ipython-input-7-bad77c5c110f>:23: RuntimeWarning: invalid value encountered in double_scalars\n",
      "  HISPANIC_hours = HISPANIC['TotalHours'].sum() / HISPANIC.shape[0]\n",
      "<ipython-input-7-bad77c5c110f>:24: RuntimeWarning: invalid value encountered in double_scalars\n",
      "  OTHER_hours = OTHER['TotalHours'].sum() / OTHER.shape[0]\n",
      "<ipython-input-7-bad77c5c110f>:21: RuntimeWarning: invalid value encountered in double_scalars\n",
      "  BLACK_hours = BLACK['TotalHours'].sum() / BLACK.shape[0]\n",
      "<ipython-input-7-bad77c5c110f>:20: RuntimeWarning: invalid value encountered in double_scalars\n",
      "  CAUCASIAN_hours = CAUCASIAN['TotalHours'].sum() / CAUCASIAN.shape[0]\n"
     ]
    }
   ],
   "source": [
    "summary_subs = pd.DataFrame(columns=['SubContractor', 'CAUCASIAN', 'BLACK', 'HISPANIC', 'ASIAN', 'OTHER', 'Total'])\n",
    "subs = data_sub['SubContractor'].unique()\n",
    "print('Beginning Grouping')\n",
    "groups = data_sub.groupby(data_sub.SubContractor)\n",
    "print('Done Grouping By SubContractor')\n",
    "\n",
    "# compute percentage of employees for each developer by race\n",
    "for i in range(len(subs)):\n",
    "    temp = groups.get_group(subs[i])\n",
    "    filt1 = temp['Race_Desc'] == 'CAUCASIAN'\n",
    "    filt2 = temp['Race_Desc'] == 'BLACK'\n",
    "    filt3 = temp['Race_Desc'] == 'ASIAN'\n",
    "    filt4 = temp['Race_Desc'] == 'HISPANIC'\n",
    "    filt5 = temp['Race_Desc'] == 'OTHER'\n",
    "    CAUCASIAN = temp[filt1]\n",
    "    BLACK = temp[filt2]\n",
    "    ASIAN = temp[filt3]\n",
    "    HISPANIC = temp[filt4]\n",
    "    OTHER = temp[filt5]\n",
    "    CAUCASIAN_hours = CAUCASIAN['TotalHours'].sum() / CAUCASIAN.shape[0]\n",
    "    BLACK_hours = BLACK['TotalHours'].sum() / BLACK.shape[0]\n",
    "    ASIAN_hours = ASIAN['TotalHours'].sum() / ASIAN.shape[0]\n",
    "    HISPANIC_hours = HISPANIC['TotalHours'].sum() / HISPANIC.shape[0]\n",
    "    OTHER_hours = OTHER['TotalHours'].sum() / OTHER.shape[0]\n",
    "    summary_subs.loc[len(summary_subs.index)] = [subs[i], CAUCASIAN_hours, BLACK_hours, HISPANIC_hours, ASIAN_hours, OTHER_hours, (CAUCASIAN_hours + BLACK_hours + HISPANIC_hours + ASIAN_hours + OTHER_hours)]\n",
    "    summary_subs = summary_subs.fillna(0)\n",
    "    summary_subs.loc[len(summary_subs.index) - 1, ['Total']] = summary_subs.loc[len(summary_subs.index) - 1]['ASIAN'] + summary_subs.loc[len(summary_subs.index) - 1]['CAUCASIAN'] + summary_subs.loc[len(summary_subs.index) - 1]['HISPANIC'] + summary_subs.loc[len(summary_subs.index) - 1]['BLACK'] + summary_subs.loc[len(summary_subs.index) - 1]['OTHER']"
   ]
  },
  {
   "cell_type": "code",
   "execution_count": 8,
   "id": "e68ade4b",
   "metadata": {},
   "outputs": [
    {
     "name": "stdout",
     "output_type": "stream",
     "text": [
      "Beginning Grouping\n",
      "Done Grouping By GeneralContractor\n"
     ]
    },
    {
     "name": "stderr",
     "output_type": "stream",
     "text": [
      "<ipython-input-8-ec54358a1e88>:22: RuntimeWarning: invalid value encountered in double_scalars\n",
      "  ASIAN_hours = ASIAN['TotalHours'].sum() / ASIAN.shape[0]\n",
      "<ipython-input-8-ec54358a1e88>:24: RuntimeWarning: invalid value encountered in double_scalars\n",
      "  OTHER_hours = OTHER['TotalHours'].sum() / OTHER.shape[0]\n",
      "<ipython-input-8-ec54358a1e88>:21: RuntimeWarning: invalid value encountered in double_scalars\n",
      "  BLACK_hours = BLACK['TotalHours'].sum() / BLACK.shape[0]\n",
      "<ipython-input-8-ec54358a1e88>:23: RuntimeWarning: invalid value encountered in double_scalars\n",
      "  HISPANIC_hours = HISPANIC['TotalHours'].sum() / HISPANIC.shape[0]\n",
      "<ipython-input-8-ec54358a1e88>:20: RuntimeWarning: invalid value encountered in double_scalars\n",
      "  CAUCASIAN_hours = CAUCASIAN['TotalHours'].sum() / CAUCASIAN.shape[0]\n"
     ]
    }
   ],
   "source": [
    "summary_contractors = pd.DataFrame(columns=['GeneralContractor', 'CAUCASIAN', 'BLACK', 'HISPANIC', 'ASIAN', 'OTHER', 'Total'])\n",
    "contractors = data_contractors['GeneralContractor'].unique()\n",
    "print('Beginning Grouping')\n",
    "groups = data_contractors.groupby(data_contractors.GeneralContractor)\n",
    "print('Done Grouping By GeneralContractor')\n",
    "\n",
    "# compute percentage of employees for each developer by race\n",
    "for i in range(len(contractors)):\n",
    "    temp = groups.get_group(contractors[i])\n",
    "    filt1 = temp['Race_Desc'] == 'CAUCASIAN'\n",
    "    filt2 = temp['Race_Desc'] == 'BLACK'\n",
    "    filt3 = temp['Race_Desc'] == 'ASIAN'\n",
    "    filt4 = temp['Race_Desc'] == 'HISPANIC'\n",
    "    filt5 = temp['Race_Desc'] == 'OTHER'\n",
    "    CAUCASIAN = temp[filt1]\n",
    "    BLACK = temp[filt2]\n",
    "    ASIAN = temp[filt3]\n",
    "    HISPANIC = temp[filt4]\n",
    "    OTHER = temp[filt5]\n",
    "    CAUCASIAN_hours = CAUCASIAN['TotalHours'].sum() / CAUCASIAN.shape[0]\n",
    "    BLACK_hours = BLACK['TotalHours'].sum() / BLACK.shape[0]\n",
    "    ASIAN_hours = ASIAN['TotalHours'].sum() / ASIAN.shape[0]\n",
    "    HISPANIC_hours = HISPANIC['TotalHours'].sum() / HISPANIC.shape[0]\n",
    "    OTHER_hours = OTHER['TotalHours'].sum() / OTHER.shape[0]\n",
    "    summary_contractors.loc[len(summary_contractors.index)] = [contractors[i], CAUCASIAN_hours, BLACK_hours, HISPANIC_hours, ASIAN_hours, OTHER_hours, (CAUCASIAN_hours + BLACK_hours + HISPANIC_hours + ASIAN_hours + OTHER_hours)]\n",
    "    summary_contractors = summary_contractors.fillna(0)\n",
    "    summary_contractors.loc[len(summary_contractors.index) - 1, ['Total']] = summary_contractors.loc[len(summary_contractors.index) - 1]['ASIAN'] + summary_contractors.loc[len(summary_contractors.index) - 1]['CAUCASIAN'] + summary_contractors.loc[len(summary_contractors.index) - 1]['HISPANIC'] + summary_contractors.loc[len(summary_contractors.index) - 1]['BLACK'] + summary_contractors.loc[len(summary_contractors.index) - 1]['OTHER']"
   ]
  },
  {
   "cell_type": "code",
   "execution_count": 9,
   "id": "7e236678",
   "metadata": {},
   "outputs": [
    {
     "data": {
      "text/html": [
       "<div>\n",
       "<style scoped>\n",
       "    .dataframe tbody tr th:only-of-type {\n",
       "        vertical-align: middle;\n",
       "    }\n",
       "\n",
       "    .dataframe tbody tr th {\n",
       "        vertical-align: top;\n",
       "    }\n",
       "\n",
       "    .dataframe thead th {\n",
       "        text-align: right;\n",
       "    }\n",
       "</style>\n",
       "<table border=\"1\" class=\"dataframe\">\n",
       "  <thead>\n",
       "    <tr style=\"text-align: right;\">\n",
       "      <th></th>\n",
       "      <th>GeneralContractor</th>\n",
       "      <th>CAUCASIAN</th>\n",
       "      <th>BLACK</th>\n",
       "      <th>HISPANIC</th>\n",
       "      <th>ASIAN</th>\n",
       "      <th>OTHER</th>\n",
       "      <th>Total</th>\n",
       "    </tr>\n",
       "  </thead>\n",
       "  <tbody>\n",
       "    <tr>\n",
       "      <th>0</th>\n",
       "      <td>COLANTONIO INCORPORATED</td>\n",
       "      <td>25.788227</td>\n",
       "      <td>30.837613</td>\n",
       "      <td>22.350225</td>\n",
       "      <td>31.083333</td>\n",
       "      <td>55.347222</td>\n",
       "      <td>165.406621</td>\n",
       "    </tr>\n",
       "    <tr>\n",
       "      <th>1</th>\n",
       "      <td>J J CONTRACTORS INC</td>\n",
       "      <td>27.311261</td>\n",
       "      <td>31.472087</td>\n",
       "      <td>31.653061</td>\n",
       "      <td>30.608696</td>\n",
       "      <td>27.322222</td>\n",
       "      <td>148.367328</td>\n",
       "    </tr>\n",
       "    <tr>\n",
       "      <th>2</th>\n",
       "      <td>BOSTON BUILDING BRIDGE</td>\n",
       "      <td>24.501765</td>\n",
       "      <td>31.044396</td>\n",
       "      <td>39.135529</td>\n",
       "      <td>23.593750</td>\n",
       "      <td>27.000000</td>\n",
       "      <td>145.275439</td>\n",
       "    </tr>\n",
       "    <tr>\n",
       "      <th>3</th>\n",
       "      <td>BILT RITE CONSTRUCTION</td>\n",
       "      <td>32.921880</td>\n",
       "      <td>41.058428</td>\n",
       "      <td>45.003407</td>\n",
       "      <td>24.645529</td>\n",
       "      <td>32.453571</td>\n",
       "      <td>176.082817</td>\n",
       "    </tr>\n",
       "    <tr>\n",
       "      <th>4</th>\n",
       "      <td>JOHN MORIARTY ASSOCIATES</td>\n",
       "      <td>110.849589</td>\n",
       "      <td>55.378514</td>\n",
       "      <td>75.812227</td>\n",
       "      <td>50.517567</td>\n",
       "      <td>41.063030</td>\n",
       "      <td>333.620927</td>\n",
       "    </tr>\n",
       "    <tr>\n",
       "      <th>...</th>\n",
       "      <td>...</td>\n",
       "      <td>...</td>\n",
       "      <td>...</td>\n",
       "      <td>...</td>\n",
       "      <td>...</td>\n",
       "      <td>...</td>\n",
       "      <td>...</td>\n",
       "    </tr>\n",
       "    <tr>\n",
       "      <th>236</th>\n",
       "      <td>SEQUOIA CONSTRUCTION INC</td>\n",
       "      <td>43.000000</td>\n",
       "      <td>0.000000</td>\n",
       "      <td>16.666667</td>\n",
       "      <td>0.000000</td>\n",
       "      <td>0.000000</td>\n",
       "      <td>59.666667</td>\n",
       "    </tr>\n",
       "    <tr>\n",
       "      <th>237</th>\n",
       "      <td>PELLETIER MILLWRIGHTS LLC</td>\n",
       "      <td>61.240000</td>\n",
       "      <td>0.000000</td>\n",
       "      <td>0.000000</td>\n",
       "      <td>0.000000</td>\n",
       "      <td>0.000000</td>\n",
       "      <td>61.240000</td>\n",
       "    </tr>\n",
       "    <tr>\n",
       "      <th>238</th>\n",
       "      <td>MORGAN AWNING CO</td>\n",
       "      <td>6.000000</td>\n",
       "      <td>14.000000</td>\n",
       "      <td>0.000000</td>\n",
       "      <td>0.000000</td>\n",
       "      <td>0.000000</td>\n",
       "      <td>20.000000</td>\n",
       "    </tr>\n",
       "    <tr>\n",
       "      <th>239</th>\n",
       "      <td>TURNER CONSTRUCTION COMPANY</td>\n",
       "      <td>75.833333</td>\n",
       "      <td>0.000000</td>\n",
       "      <td>31.333333</td>\n",
       "      <td>0.000000</td>\n",
       "      <td>0.000000</td>\n",
       "      <td>107.166667</td>\n",
       "    </tr>\n",
       "    <tr>\n",
       "      <th>240</th>\n",
       "      <td>JOSHUA LEVIN</td>\n",
       "      <td>50.000000</td>\n",
       "      <td>40.000000</td>\n",
       "      <td>0.000000</td>\n",
       "      <td>0.000000</td>\n",
       "      <td>0.000000</td>\n",
       "      <td>90.000000</td>\n",
       "    </tr>\n",
       "  </tbody>\n",
       "</table>\n",
       "<p>241 rows × 7 columns</p>\n",
       "</div>"
      ],
      "text/plain": [
       "               GeneralContractor   CAUCASIAN      BLACK   HISPANIC      ASIAN  \\\n",
       "0        COLANTONIO INCORPORATED   25.788227  30.837613  22.350225  31.083333   \n",
       "1            J J CONTRACTORS INC   27.311261  31.472087  31.653061  30.608696   \n",
       "2         BOSTON BUILDING BRIDGE   24.501765  31.044396  39.135529  23.593750   \n",
       "3         BILT RITE CONSTRUCTION   32.921880  41.058428  45.003407  24.645529   \n",
       "4       JOHN MORIARTY ASSOCIATES  110.849589  55.378514  75.812227  50.517567   \n",
       "..                           ...         ...        ...        ...        ...   \n",
       "236     SEQUOIA CONSTRUCTION INC   43.000000   0.000000  16.666667   0.000000   \n",
       "237    PELLETIER MILLWRIGHTS LLC   61.240000   0.000000   0.000000   0.000000   \n",
       "238             MORGAN AWNING CO    6.000000  14.000000   0.000000   0.000000   \n",
       "239  TURNER CONSTRUCTION COMPANY   75.833333   0.000000  31.333333   0.000000   \n",
       "240                 JOSHUA LEVIN   50.000000  40.000000   0.000000   0.000000   \n",
       "\n",
       "         OTHER       Total  \n",
       "0    55.347222  165.406621  \n",
       "1    27.322222  148.367328  \n",
       "2    27.000000  145.275439  \n",
       "3    32.453571  176.082817  \n",
       "4    41.063030  333.620927  \n",
       "..         ...         ...  \n",
       "236   0.000000   59.666667  \n",
       "237   0.000000   61.240000  \n",
       "238   0.000000   20.000000  \n",
       "239   0.000000  107.166667  \n",
       "240   0.000000   90.000000  \n",
       "\n",
       "[241 rows x 7 columns]"
      ]
     },
     "execution_count": 9,
     "metadata": {},
     "output_type": "execute_result"
    }
   ],
   "source": [
    "summary_contractors"
   ]
  },
  {
   "cell_type": "code",
   "execution_count": 10,
   "id": "59e76937",
   "metadata": {},
   "outputs": [],
   "source": [
    "summary_subs.to_csv('Avg_Hours_Assigned_by_Race_SubContractors.csv')\n",
    "summary_contractors.to_csv('Avg_Hours_Assigned_by_Race_Contractors.csv')"
   ]
  },
  {
   "cell_type": "code",
   "execution_count": 11,
   "id": "4187ac71",
   "metadata": {},
   "outputs": [],
   "source": [
    "mbe_subs = df_sub.to_list()\n",
    "summary_subs_mbe_wbe = summary_subs.loc[summary_subs['SubContractor'].isin(mbe_subs)]\n",
    "\n",
    "mbe_contractors = df_contractors.to_list()\n",
    "summary_contractors_mbe_wbe = summary_contractors.loc[summary_contractors['GeneralContractor'].isin(mbe_contractors)]"
   ]
  },
  {
   "cell_type": "code",
   "execution_count": 12,
   "id": "f4faec53",
   "metadata": {},
   "outputs": [],
   "source": [
    "summary_subs_mbe_wbe.to_csv('Avg_Hours_Assigned_By_Race_MBEorWBE_Subcontractors.csv')\n",
    "summary_contractors_mbe_wbe.to_csv('Avg_Hours_Assigned_By_Race_MBEorWBE_Contractors.csv')"
   ]
  },
  {
   "cell_type": "code",
   "execution_count": 13,
   "id": "3e00d619",
   "metadata": {},
   "outputs": [],
   "source": [
    "non_mbe_wbe_subs = summary_subs.loc[~summary_subs['SubContractor'].isin(mbe_subs)]\n",
    "non_mbe_wbe_contractors = summary_contractors.loc[~summary_contractors['GeneralContractor'].isin(mbe_contractors)]"
   ]
  },
  {
   "cell_type": "code",
   "execution_count": 14,
   "id": "7f97aa02",
   "metadata": {},
   "outputs": [],
   "source": [
    "avg_non_mbe_wbe_contractors = non_mbe_wbe_contractors[['CAUCASIAN', 'BLACK', 'HISPANIC', 'ASIAN', 'OTHER']].sum() / non_mbe_wbe_contractors.shape[0]"
   ]
  },
  {
   "cell_type": "code",
   "execution_count": 15,
   "id": "6d046d5e",
   "metadata": {},
   "outputs": [
    {
     "data": {
      "text/plain": [
       "CAUCASIAN    38.476972\n",
       "BLACK        21.512340\n",
       "HISPANIC     32.015722\n",
       "ASIAN        13.411096\n",
       "OTHER        12.153211\n",
       "dtype: float64"
      ]
     },
     "execution_count": 15,
     "metadata": {},
     "output_type": "execute_result"
    }
   ],
   "source": [
    "avg_non_mbe_wbe_contractors"
   ]
  },
  {
   "cell_type": "code",
   "execution_count": 16,
   "id": "14f2dcf1",
   "metadata": {},
   "outputs": [],
   "source": [
    "avg_non_mbe_wbe_subs = non_mbe_wbe_subs[['CAUCASIAN', 'BLACK', 'HISPANIC', 'ASIAN', 'OTHER']].sum() / non_mbe_wbe_subs.shape[0]"
   ]
  },
  {
   "cell_type": "code",
   "execution_count": 17,
   "id": "d85e8cbe",
   "metadata": {},
   "outputs": [
    {
     "data": {
      "text/plain": [
       "CAUCASIAN    39.407021\n",
       "BLACK        19.234545\n",
       "HISPANIC     30.540036\n",
       "ASIAN         6.559492\n",
       "OTHER         5.472101\n",
       "dtype: float64"
      ]
     },
     "execution_count": 17,
     "metadata": {},
     "output_type": "execute_result"
    }
   ],
   "source": [
    "avg_non_mbe_wbe_subs"
   ]
  },
  {
   "cell_type": "code",
   "execution_count": 18,
   "id": "2e9eab2b",
   "metadata": {},
   "outputs": [
    {
     "data": {
      "text/plain": [
       "CAUCASIAN    26.882756\n",
       "BLACK         5.224769\n",
       "HISPANIC     14.640376\n",
       "ASIAN         0.000000\n",
       "OTHER         0.000000\n",
       "dtype: float64"
      ]
     },
     "execution_count": 18,
     "metadata": {},
     "output_type": "execute_result"
    }
   ],
   "source": [
    "avg_mbe_wbe_contractors = summary_contractors_mbe_wbe[['CAUCASIAN', 'BLACK', 'HISPANIC', 'ASIAN', 'OTHER']].sum() / summary_contractors_mbe_wbe.shape[0]\n",
    "avg_mbe_wbe_contractors"
   ]
  },
  {
   "cell_type": "code",
   "execution_count": 19,
   "id": "c87db0b0",
   "metadata": {},
   "outputs": [
    {
     "data": {
      "text/plain": [
       "CAUCASIAN    32.152586\n",
       "BLACK        28.793540\n",
       "HISPANIC     30.950277\n",
       "ASIAN         1.703061\n",
       "OTHER         7.083922\n",
       "dtype: float64"
      ]
     },
     "execution_count": 19,
     "metadata": {},
     "output_type": "execute_result"
    }
   ],
   "source": [
    "avg_mbe_wbe_subs = summary_subs_mbe_wbe[['CAUCASIAN', 'BLACK', 'HISPANIC', 'ASIAN', 'OTHER']].sum() / summary_subs_mbe_wbe.shape[0]\n",
    "avg_mbe_wbe_subs"
   ]
  },
  {
   "cell_type": "code",
   "execution_count": 20,
   "id": "d21081f4",
   "metadata": {},
   "outputs": [
    {
     "data": {
      "text/plain": [
       "<AxesSubplot:ylabel='Hours Assigned'>"
      ]
     },
     "execution_count": 20,
     "metadata": {},
     "output_type": "execute_result"
    },
    {
     "data": {
      "image/png": "[encoded data removed]",
      "text/plain": [
       "<Figure size 864x432 with 1 Axes>"
      ]
     },
     "metadata": {
      "needs_background": "light"
     },
     "output_type": "display_data"
    }
   ],
   "source": [
    "sub_avgs = pd.concat([avg_non_mbe_wbe_subs, avg_mbe_wbe_subs], axis=1)\n",
    "sub_avgs.columns = ['Non-MBE/WBE Sub-Contractors', 'MBE/WBE Sub-Contractors']\n",
    "sub_avgs.plot(kind='bar', figsize=(12, 6), ylabel='Hours Assigned')"
   ]
  },
  {
   "cell_type": "code",
   "execution_count": 21,
   "id": "00d52d0c",
   "metadata": {},
   "outputs": [
    {
     "data": {
      "text/plain": [
       "<AxesSubplot:ylabel='Hours Assigned'>"
      ]
     },
     "execution_count": 21,
     "metadata": {},
     "output_type": "execute_result"
    },
    {
     "data": {
      "image/png": "[encoded data removed]",
      "text/plain": [
       "<Figure size 864x432 with 1 Axes>"
      ]
     },
     "metadata": {
      "needs_background": "light"
     },
     "output_type": "display_data"
    }
   ],
   "source": [
    "contractor_avgs = pd.concat([avg_non_mbe_wbe_contractors, avg_mbe_wbe_contractors], axis=1)\n",
    "contractor_avgs.columns = ['Non-MBE/WBE Contractors', 'MBE/WBE Contractors']\n",
    "contractor_avgs.plot(kind='bar', figsize=(12, 6), ylabel='Hours Assigned')"
   ]
  },
  {
   "cell_type": "code",
   "execution_count": 39,
   "id": "e0d69507",
   "metadata": {},
   "outputs": [],
   "source": [
    "non_avg, avg = contractor_avgs.sum()\n",
    "contractor_avgs_pct = contractor_avgs.copy()\n",
    "for i in range(contractor_avgs_pct.shape[0]):\n",
    "    contractor_avgs_pct.iloc[i]['Non-MBE/WBE Contractors'] = contractor_avgs_pct.iloc[i]['Non-MBE/WBE Contractors'] / non_avg\n",
    "    contractor_avgs_pct.iloc[i]['MBE/WBE Contractors'] = contractor_avgs_pct.iloc[i]['MBE/WBE Contractors'] / avg"
   ]
  },
  {
   "cell_type": "code",
   "execution_count": 42,
   "id": "0408a64e",
   "metadata": {},
   "outputs": [
    {
     "data": {
      "text/plain": [
       "<AxesSubplot:ylabel='Percentage of Hours Assigned'>"
      ]
     },
     "execution_count": 42,
     "metadata": {},
     "output_type": "execute_result"
    },
    {
     "data": {
      "image/png": "[encoded data removed]",
      "text/plain": [
       "<Figure size 864x432 with 1 Axes>"
      ]
     },
     "metadata": {
      "needs_background": "light"
     },
     "output_type": "display_data"
    }
   ],
   "source": [
    "contractor_avgs_pct.plot(kind='bar', figsize=(12, 6), ylabel='Percentage of Hours Assigned')"
   ]
  },
  {
   "cell_type": "code",
   "execution_count": 45,
   "id": "d125ab27",
   "metadata": {},
   "outputs": [],
   "source": [
    "non_avg_subs, avg_subs = sub_avgs.sum()\n",
    "subs_avgs_pct = sub_avgs.copy()\n",
    "for i in range(subs_avgs_pct.shape[0]):\n",
    "    subs_avgs_pct.iloc[i]['Non-MBE/WBE Sub-Contractors'] = subs_avgs_pct.iloc[i]['Non-MBE/WBE Sub-Contractors'] / non_avg_subs\n",
    "    subs_avgs_pct.iloc[i]['MBE/WBE Sub-Contractors'] = subs_avgs_pct.iloc[i]['MBE/WBE Sub-Contractors'] / avg_subs"
   ]
  },
  {
   "cell_type": "code",
   "execution_count": 46,
   "id": "99ce8d6b",
   "metadata": {},
   "outputs": [
    {
     "data": {
      "text/plain": [
       "<AxesSubplot:ylabel='Percentage of Hours Assigned'>"
      ]
     },
     "execution_count": 46,
     "metadata": {},
     "output_type": "execute_result"
    },
    {
     "data": {
      "image/png": "[encoded data removed]",
      "text/plain": [
       "<Figure size 864x432 with 1 Axes>"
      ]
     },
     "metadata": {
      "needs_background": "light"
     },
     "output_type": "display_data"
    }
   ],
   "source": [
    "subs_avgs_pct.plot(kind='bar', figsize=(12, 6), ylabel='Percentage of Hours Assigned')"
   ]
  },
  {
   "cell_type": "code",
   "execution_count": null,
   "id": "b4d8cb47",
   "metadata": {},
   "outputs": [],
   "source": []
  },
  {
   "cell_type": "code",
   "execution_count": null,
   "id": "232eb994",
   "metadata": {},
   "outputs": [],
   "source": []
  },
  {
   "cell_type": "code",
   "execution_count": null,
   "id": "d8628d74",
   "metadata": {},
   "outputs": [],
   "source": []
  }
 ],
 "metadata": {
  "kernelspec": {
   "display_name": "Python 3",
   "language": "python",
   "name": "python3"
  },
  "language_info": {
   "codemirror_mode": {
    "name": "ipython",
    "version": 3
   },
   "file_extension": ".py",
   "mimetype": "text/x-python",
   "name": "python",
   "nbconvert_exporter": "python",
   "pygments_lexer": "ipython3",
   "version": "3.6.13"
  }
 },
 "nbformat": 4,
 "nbformat_minor": 5
}
