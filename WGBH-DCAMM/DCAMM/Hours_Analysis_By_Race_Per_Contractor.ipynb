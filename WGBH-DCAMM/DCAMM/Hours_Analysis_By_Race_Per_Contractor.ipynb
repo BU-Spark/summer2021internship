{
 "cells": [
  {
   "cell_type": "code",
   "execution_count": 1,
   "metadata": {},
   "outputs": [],
   "source": [
    "import pandas as pd\n",
    "import numpy as np"
   ]
  },
  {
   "cell_type": "code",
   "execution_count": 2,
   "metadata": {},
   "outputs": [
    {
     "name": "stdout",
     "output_type": "stream",
     "text": [
      "(7422, 18)\n"
     ]
    },
    {
     "data": {
      "text/plain": [
       "(14844, 18)"
      ]
     },
     "execution_count": 2,
     "metadata": {},
     "output_type": "execute_result"
    }
   ],
   "source": [
    "# combine data for apprentices and journeymen\n",
    "filename1 = 'WorkforceUtilizationReport-Apprentice.csv'\n",
    "filename2 = 'WorkforceUtilizationReport-Journeymen.csv'\n",
    "df = pd.read_csv(filename1)\n",
    "temp_df = pd.read_csv(filename2)\n",
    "\n",
    "df = pd.concat([df, temp_df], join='inner')\n",
    "\n",
    "print(temp_df.shape)\n",
    "df.shape"
   ]
  },
  {
   "cell_type": "code",
   "execution_count": 3,
   "metadata": {},
   "outputs": [],
   "source": [
    "# get the list of unique contractors\n",
    "contractors_list = df['CONTRACTOR'].unique()\n",
    "\n",
    "# group into different DataFrames by contractor name\n",
    "contractor_groups = df.groupby(df.CONTRACTOR)"
   ]
  },
  {
   "cell_type": "code",
   "execution_count": 4,
   "metadata": {},
   "outputs": [],
   "source": [
    "agg_df = pd.DataFrame(columns=['CONTRACTOR', 'CAUCASIAN', 'AFRICAN_AMERICAN', 'HISPANIC', 'ASIAN', 'NATIVE_AMERICAN'])\n",
    "\n",
    "# for each contractor, find the mean hours assigned to employees from different races\n",
    "for i in range(len(contractors_list)):\n",
    "    temp_df = contractor_groups.get_group(contractors_list[i])\n",
    "    agg_df.loc[i] = [contractors_list[i], temp_df['CAUCASIAN'].mean(), temp_df['AFRICAN_AMERICAN'].mean(), temp_df['HISPANIC'].mean(),\n",
    "                     temp_df['ASIAN'].mean(), temp_df['NATIVE_AMERICAN'].mean()]"
   ]
  },
  {
   "cell_type": "code",
   "execution_count": 5,
   "metadata": {},
   "outputs": [
    {
     "data": {
      "text/html": [
       "<div>\n",
       "<style scoped>\n",
       "    .dataframe tbody tr th:only-of-type {\n",
       "        vertical-align: middle;\n",
       "    }\n",
       "\n",
       "    .dataframe tbody tr th {\n",
       "        vertical-align: top;\n",
       "    }\n",
       "\n",
       "    .dataframe thead th {\n",
       "        text-align: right;\n",
       "    }\n",
       "</style>\n",
       "<table border=\"1\" class=\"dataframe\">\n",
       "  <thead>\n",
       "    <tr style=\"text-align: right;\">\n",
       "      <th></th>\n",
       "      <th>CONTRACTOR</th>\n",
       "      <th>CAUCASIAN</th>\n",
       "      <th>AFRICAN_AMERICAN</th>\n",
       "      <th>HISPANIC</th>\n",
       "      <th>ASIAN</th>\n",
       "      <th>NATIVE_AMERICAN</th>\n",
       "    </tr>\n",
       "  </thead>\n",
       "  <tbody>\n",
       "    <tr>\n",
       "      <th>0</th>\n",
       "      <td>Rise engineering</td>\n",
       "      <td>5.183333</td>\n",
       "      <td>0.000000</td>\n",
       "      <td>14.325000</td>\n",
       "      <td>0.533333</td>\n",
       "      <td>0.0</td>\n",
       "    </tr>\n",
       "    <tr>\n",
       "      <th>1</th>\n",
       "      <td>Crestview construction &amp; trucking inc.</td>\n",
       "      <td>32.272959</td>\n",
       "      <td>0.000000</td>\n",
       "      <td>0.000000</td>\n",
       "      <td>0.000000</td>\n",
       "      <td>0.0</td>\n",
       "    </tr>\n",
       "    <tr>\n",
       "      <th>2</th>\n",
       "      <td>Hop river concrete, inc</td>\n",
       "      <td>25.066667</td>\n",
       "      <td>0.266667</td>\n",
       "      <td>45.983333</td>\n",
       "      <td>0.000000</td>\n",
       "      <td>0.0</td>\n",
       "    </tr>\n",
       "    <tr>\n",
       "      <th>3</th>\n",
       "      <td>Orlando annulli &amp; sons, inc.</td>\n",
       "      <td>90.087500</td>\n",
       "      <td>0.000000</td>\n",
       "      <td>0.000000</td>\n",
       "      <td>0.000000</td>\n",
       "      <td>0.0</td>\n",
       "    </tr>\n",
       "    <tr>\n",
       "      <th>4</th>\n",
       "      <td>Universal electric company, inc.</td>\n",
       "      <td>79.773810</td>\n",
       "      <td>4.190476</td>\n",
       "      <td>9.654762</td>\n",
       "      <td>0.190476</td>\n",
       "      <td>0.0</td>\n",
       "    </tr>\n",
       "    <tr>\n",
       "      <th>...</th>\n",
       "      <td>...</td>\n",
       "      <td>...</td>\n",
       "      <td>...</td>\n",
       "      <td>...</td>\n",
       "      <td>...</td>\n",
       "      <td>...</td>\n",
       "    </tr>\n",
       "    <tr>\n",
       "      <th>456</th>\n",
       "      <td>Envirogreen llc</td>\n",
       "      <td>0.000000</td>\n",
       "      <td>0.000000</td>\n",
       "      <td>30.000000</td>\n",
       "      <td>0.000000</td>\n",
       "      <td>0.0</td>\n",
       "    </tr>\n",
       "    <tr>\n",
       "      <th>457</th>\n",
       "      <td>North east foam solutions, inc.</td>\n",
       "      <td>8.000000</td>\n",
       "      <td>0.000000</td>\n",
       "      <td>0.000000</td>\n",
       "      <td>0.000000</td>\n",
       "      <td>0.0</td>\n",
       "    </tr>\n",
       "    <tr>\n",
       "      <th>458</th>\n",
       "      <td>Save-on-wall</td>\n",
       "      <td>18.000000</td>\n",
       "      <td>0.000000</td>\n",
       "      <td>2.000000</td>\n",
       "      <td>0.000000</td>\n",
       "      <td>0.0</td>\n",
       "    </tr>\n",
       "    <tr>\n",
       "      <th>459</th>\n",
       "      <td>Jerez llc</td>\n",
       "      <td>0.000000</td>\n",
       "      <td>0.000000</td>\n",
       "      <td>68.000000</td>\n",
       "      <td>0.000000</td>\n",
       "      <td>0.0</td>\n",
       "    </tr>\n",
       "    <tr>\n",
       "      <th>460</th>\n",
       "      <td>Kne corporation</td>\n",
       "      <td>12.000000</td>\n",
       "      <td>0.000000</td>\n",
       "      <td>0.000000</td>\n",
       "      <td>0.000000</td>\n",
       "      <td>0.0</td>\n",
       "    </tr>\n",
       "  </tbody>\n",
       "</table>\n",
       "<p>461 rows × 6 columns</p>\n",
       "</div>"
      ],
      "text/plain": [
       "                                 CONTRACTOR  CAUCASIAN  AFRICAN_AMERICAN  \\\n",
       "0                          Rise engineering   5.183333          0.000000   \n",
       "1    Crestview construction & trucking inc.  32.272959          0.000000   \n",
       "2                   Hop river concrete, inc  25.066667          0.266667   \n",
       "3              Orlando annulli & sons, inc.  90.087500          0.000000   \n",
       "4          Universal electric company, inc.  79.773810          4.190476   \n",
       "..                                      ...        ...               ...   \n",
       "456                         Envirogreen llc   0.000000          0.000000   \n",
       "457         North east foam solutions, inc.   8.000000          0.000000   \n",
       "458                            Save-on-wall  18.000000          0.000000   \n",
       "459                               Jerez llc   0.000000          0.000000   \n",
       "460                         Kne corporation  12.000000          0.000000   \n",
       "\n",
       "      HISPANIC     ASIAN  NATIVE_AMERICAN  \n",
       "0    14.325000  0.533333              0.0  \n",
       "1     0.000000  0.000000              0.0  \n",
       "2    45.983333  0.000000              0.0  \n",
       "3     0.000000  0.000000              0.0  \n",
       "4     9.654762  0.190476              0.0  \n",
       "..         ...       ...              ...  \n",
       "456  30.000000  0.000000              0.0  \n",
       "457   0.000000  0.000000              0.0  \n",
       "458   2.000000  0.000000              0.0  \n",
       "459  68.000000  0.000000              0.0  \n",
       "460   0.000000  0.000000              0.0  \n",
       "\n",
       "[461 rows x 6 columns]"
      ]
     },
     "execution_count": 5,
     "metadata": {},
     "output_type": "execute_result"
    }
   ],
   "source": [
    "agg_df"
   ]
  },
  {
   "cell_type": "code",
   "execution_count": 6,
   "metadata": {},
   "outputs": [],
   "source": [
    "filename = r'Mean_Hours_Assigned_By_Contractor.csv'\n",
    "agg_df.to_csv(filename, index = True)"
   ]
  },
  {
   "cell_type": "code",
   "execution_count": null,
   "metadata": {},
   "outputs": [],
   "source": []
  }
 ],
 "metadata": {
  "hide_input": false,
  "kernelspec": {
   "display_name": "Python 3",
   "language": "python",
   "name": "python3"
  },
  "language_info": {
   "codemirror_mode": {
    "name": "ipython",
    "version": 3
   },
   "file_extension": ".py",
   "mimetype": "text/x-python",
   "name": "python",
   "nbconvert_exporter": "python",
   "pygments_lexer": "ipython3",
   "version": "3.8.8"
  }
 },
 "nbformat": 4,
 "nbformat_minor": 4
}
