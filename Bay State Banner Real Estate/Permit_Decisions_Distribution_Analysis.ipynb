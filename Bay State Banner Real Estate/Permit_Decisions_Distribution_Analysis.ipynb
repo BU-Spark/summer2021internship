{
 "cells": [
  {
   "cell_type": "code",
   "execution_count": 2,
   "id": "b50063dc-3270-4b95-9683-d9a879a16237",
   "metadata": {},
   "outputs": [],
   "source": [
    "import pandas as pd\n",
    "import matplotlib.pyplot as plt\n",
    "import numpy as np"
   ]
  },
  {
   "cell_type": "code",
   "execution_count": 6,
   "id": "3dd0f40f-2f81-41bb-b74a-2e0647b5d708",
   "metadata": {
    "collapsed": true,
    "jupyter": {
     "outputs_hidden": true
    },
    "tags": []
   },
   "outputs": [
    {
     "data": {
      "text/html": [
       "<div>\n",
       "<style scoped>\n",
       "    .dataframe tbody tr th:only-of-type {\n",
       "        vertical-align: middle;\n",
       "    }\n",
       "\n",
       "    .dataframe tbody tr th {\n",
       "        vertical-align: top;\n",
       "    }\n",
       "\n",
       "    .dataframe thead th {\n",
       "        text-align: right;\n",
       "    }\n",
       "</style>\n",
       "<table border=\"1\" class=\"dataframe\">\n",
       "  <thead>\n",
       "    <tr style=\"text-align: right;\">\n",
       "      <th></th>\n",
       "      <th>Unnamed: 0</th>\n",
       "      <th>permitnumber</th>\n",
       "      <th>worktype</th>\n",
       "      <th>permittypedescr</th>\n",
       "      <th>description</th>\n",
       "      <th>comments</th>\n",
       "      <th>applicant</th>\n",
       "      <th>declared_valuation</th>\n",
       "      <th>total_fees</th>\n",
       "      <th>issued_date</th>\n",
       "      <th>...</th>\n",
       "      <th>Male</th>\n",
       "      <th>Male Proportion</th>\n",
       "      <th>Female</th>\n",
       "      <th>Female Proportion</th>\n",
       "      <th>Lat</th>\n",
       "      <th>Long</th>\n",
       "      <th>Primary Sub-Neighborhood</th>\n",
       "      <th>Secondary Sub-Neighborhood</th>\n",
       "      <th>Teritriary Sub-Neighborhood(s)</th>\n",
       "      <th>T-Stop/Commuter Rail</th>\n",
       "    </tr>\n",
       "  </thead>\n",
       "  <tbody>\n",
       "    <tr>\n",
       "      <th>0</th>\n",
       "      <td>0</td>\n",
       "      <td>A1048</td>\n",
       "      <td>ERECT</td>\n",
       "      <td>Amendment to a Long Form</td>\n",
       "      <td>Erect</td>\n",
       "      <td>Revise rear apartment layout. Add roof deck to...</td>\n",
       "      <td>Hugh Meehan</td>\n",
       "      <td>0.0</td>\n",
       "      <td>39.0</td>\n",
       "      <td>3/30/10 11:51</td>\n",
       "      <td>...</td>\n",
       "      <td>2,274</td>\n",
       "      <td>50.34%</td>\n",
       "      <td>2,243</td>\n",
       "      <td>49.66%</td>\n",
       "      <td>42.334606</td>\n",
       "      <td>-71.09621</td>\n",
       "      <td>Frederick Douglas Square Historic District</td>\n",
       "      <td>Lower Roxbury</td>\n",
       "      <td>Fenway-Kenmore</td>\n",
       "      <td>Longwood Medical Area/Ruggles</td>\n",
       "    </tr>\n",
       "    <tr>\n",
       "      <th>1</th>\n",
       "      <td>1</td>\n",
       "      <td>A21302</td>\n",
       "      <td>NEWCON</td>\n",
       "      <td>Amendment to a Long Form</td>\n",
       "      <td>New construction</td>\n",
       "      <td>Add 2 individual roof decks to 2 top floor uni...</td>\n",
       "      <td>Philip Hresko</td>\n",
       "      <td>15000.0</td>\n",
       "      <td>246.0</td>\n",
       "      <td>5/13/10 13:59</td>\n",
       "      <td>...</td>\n",
       "      <td>2,274</td>\n",
       "      <td>50.34%</td>\n",
       "      <td>2,243</td>\n",
       "      <td>49.66%</td>\n",
       "      <td>42.334606</td>\n",
       "      <td>-71.09621</td>\n",
       "      <td>Frederick Douglas Square Historic District</td>\n",
       "      <td>Lower Roxbury</td>\n",
       "      <td>Fenway-Kenmore</td>\n",
       "      <td>Longwood Medical Area/Ruggles</td>\n",
       "    </tr>\n",
       "    <tr>\n",
       "      <th>2</th>\n",
       "      <td>2</td>\n",
       "      <td>COO752522</td>\n",
       "      <td>ERECT</td>\n",
       "      <td>Certificate of Occupancy</td>\n",
       "      <td>Erect</td>\n",
       "      <td>(18) Residential units and;retail space on fir...</td>\n",
       "      <td>Ken McLaughlin</td>\n",
       "      <td>0.0</td>\n",
       "      <td>560.0</td>\n",
       "      <td>3/27/18 0:00</td>\n",
       "      <td>...</td>\n",
       "      <td>2,274</td>\n",
       "      <td>50.34%</td>\n",
       "      <td>2,243</td>\n",
       "      <td>49.66%</td>\n",
       "      <td>42.334606</td>\n",
       "      <td>-71.09621</td>\n",
       "      <td>Frederick Douglas Square Historic District</td>\n",
       "      <td>Lower Roxbury</td>\n",
       "      <td>Fenway-Kenmore</td>\n",
       "      <td>Longwood Medical Area/Ruggles</td>\n",
       "    </tr>\n",
       "    <tr>\n",
       "      <th>3</th>\n",
       "      <td>3</td>\n",
       "      <td>COO752522</td>\n",
       "      <td>ERECT</td>\n",
       "      <td>Certificate of Occupancy</td>\n",
       "      <td>Erect</td>\n",
       "      <td>(18) Residential units and;retail space on fir...</td>\n",
       "      <td>Ken McLaughlin</td>\n",
       "      <td>0.0</td>\n",
       "      <td>560.0</td>\n",
       "      <td>3/27/18 0:00</td>\n",
       "      <td>...</td>\n",
       "      <td>2,274</td>\n",
       "      <td>50.34%</td>\n",
       "      <td>2,243</td>\n",
       "      <td>49.66%</td>\n",
       "      <td>42.334606</td>\n",
       "      <td>-71.09621</td>\n",
       "      <td>Frederick Douglas Square Historic District</td>\n",
       "      <td>Lower Roxbury</td>\n",
       "      <td>Fenway-Kenmore</td>\n",
       "      <td>Longwood Medical Area/Ruggles</td>\n",
       "    </tr>\n",
       "    <tr>\n",
       "      <th>4</th>\n",
       "      <td>4</td>\n",
       "      <td>COO752522</td>\n",
       "      <td>ERECT</td>\n",
       "      <td>Certificate of Occupancy</td>\n",
       "      <td>Erect</td>\n",
       "      <td>(18) Residential units and;retail space on fir...</td>\n",
       "      <td>Ken McLaughlin</td>\n",
       "      <td>0.0</td>\n",
       "      <td>560.0</td>\n",
       "      <td>3/27/18 0:00</td>\n",
       "      <td>...</td>\n",
       "      <td>2,274</td>\n",
       "      <td>50.34%</td>\n",
       "      <td>2,243</td>\n",
       "      <td>49.66%</td>\n",
       "      <td>42.334606</td>\n",
       "      <td>-71.09621</td>\n",
       "      <td>Frederick Douglas Square Historic District</td>\n",
       "      <td>Lower Roxbury</td>\n",
       "      <td>Fenway-Kenmore</td>\n",
       "      <td>Longwood Medical Area/Ruggles</td>\n",
       "    </tr>\n",
       "  </tbody>\n",
       "</table>\n",
       "<p>5 rows × 44 columns</p>\n",
       "</div>"
      ],
      "text/plain": [
       "   Unnamed: 0 permitnumber worktype           permittypedescr  \\\n",
       "0           0        A1048    ERECT  Amendment to a Long Form   \n",
       "1           1       A21302   NEWCON  Amendment to a Long Form   \n",
       "2           2    COO752522    ERECT  Certificate of Occupancy   \n",
       "3           3    COO752522    ERECT  Certificate of Occupancy   \n",
       "4           4    COO752522    ERECT  Certificate of Occupancy   \n",
       "\n",
       "        description                                           comments  \\\n",
       "0             Erect  Revise rear apartment layout. Add roof deck to...   \n",
       "1  New construction  Add 2 individual roof decks to 2 top floor uni...   \n",
       "2             Erect  (18) Residential units and;retail space on fir...   \n",
       "3             Erect  (18) Residential units and;retail space on fir...   \n",
       "4             Erect  (18) Residential units and;retail space on fir...   \n",
       "\n",
       "        applicant  declared_valuation  total_fees    issued_date  ...  Male   \\\n",
       "0     Hugh Meehan                 0.0        39.0  3/30/10 11:51  ...  2,274   \n",
       "1   Philip Hresko             15000.0       246.0  5/13/10 13:59  ...  2,274   \n",
       "2  Ken McLaughlin                 0.0       560.0   3/27/18 0:00  ...  2,274   \n",
       "3  Ken McLaughlin                 0.0       560.0   3/27/18 0:00  ...  2,274   \n",
       "4  Ken McLaughlin                 0.0       560.0   3/27/18 0:00  ...  2,274   \n",
       "\n",
       "  Male Proportion Female  Female Proportion         Lat      Long  \\\n",
       "0          50.34%   2,243             49.66%  42.334606 -71.09621   \n",
       "1          50.34%   2,243             49.66%  42.334606 -71.09621   \n",
       "2          50.34%   2,243             49.66%  42.334606 -71.09621   \n",
       "3          50.34%   2,243             49.66%  42.334606 -71.09621   \n",
       "4          50.34%   2,243             49.66%  42.334606 -71.09621   \n",
       "\n",
       "                     Primary Sub-Neighborhood Secondary Sub-Neighborhood  \\\n",
       "0  Frederick Douglas Square Historic District              Lower Roxbury   \n",
       "1  Frederick Douglas Square Historic District              Lower Roxbury   \n",
       "2  Frederick Douglas Square Historic District              Lower Roxbury   \n",
       "3  Frederick Douglas Square Historic District              Lower Roxbury   \n",
       "4  Frederick Douglas Square Historic District              Lower Roxbury   \n",
       "\n",
       "  Teritriary Sub-Neighborhood(s)           T-Stop/Commuter Rail  \n",
       "0                 Fenway-Kenmore  Longwood Medical Area/Ruggles  \n",
       "1                 Fenway-Kenmore  Longwood Medical Area/Ruggles  \n",
       "2                 Fenway-Kenmore  Longwood Medical Area/Ruggles  \n",
       "3                 Fenway-Kenmore  Longwood Medical Area/Ruggles  \n",
       "4                 Fenway-Kenmore  Longwood Medical Area/Ruggles  \n",
       "\n",
       "[5 rows x 44 columns]"
      ]
     },
     "execution_count": 6,
     "metadata": {},
     "output_type": "execute_result"
    }
   ],
   "source": [
    "df = pd.read_csv('approved_projects_with_demographics.csv')\n",
    "#df = df[['permitnumber', 'worktype', 'permittypedescr', 'declared_valuation', 'occupancytype', 'city']]\n",
    "df.head()"
   ]
  },
  {
   "cell_type": "code",
   "execution_count": 23,
   "id": "6b05c4ca-bd64-4889-b2af-251c99d0753d",
   "metadata": {
    "tags": []
   },
   "outputs": [
    {
     "data": {
      "text/html": [
       "<div>\n",
       "<style scoped>\n",
       "    .dataframe tbody tr th:only-of-type {\n",
       "        vertical-align: middle;\n",
       "    }\n",
       "\n",
       "    .dataframe tbody tr th {\n",
       "        vertical-align: top;\n",
       "    }\n",
       "\n",
       "    .dataframe thead th {\n",
       "        text-align: right;\n",
       "    }\n",
       "</style>\n",
       "<table border=\"1\" class=\"dataframe\">\n",
       "  <thead>\n",
       "    <tr style=\"text-align: right;\">\n",
       "      <th></th>\n",
       "      <th>worktype</th>\n",
       "      <th>count</th>\n",
       "    </tr>\n",
       "  </thead>\n",
       "  <tbody>\n",
       "    <tr>\n",
       "      <th>0</th>\n",
       "      <td>ERECT</td>\n",
       "      <td>815</td>\n",
       "    </tr>\n",
       "    <tr>\n",
       "      <th>1</th>\n",
       "      <td>NEWCON</td>\n",
       "      <td>219</td>\n",
       "    </tr>\n",
       "    <tr>\n",
       "      <th>2</th>\n",
       "      <td>INTEXT</td>\n",
       "      <td>1</td>\n",
       "    </tr>\n",
       "    <tr>\n",
       "      <th>3</th>\n",
       "      <td>EXTREN</td>\n",
       "      <td>2</td>\n",
       "    </tr>\n",
       "    <tr>\n",
       "      <th>4</th>\n",
       "      <td>GARAGE</td>\n",
       "      <td>3</td>\n",
       "    </tr>\n",
       "    <tr>\n",
       "      <th>5</th>\n",
       "      <td></td>\n",
       "      <td>4</td>\n",
       "    </tr>\n",
       "    <tr>\n",
       "      <th>6</th>\n",
       "      <td>CONVRT</td>\n",
       "      <td>28</td>\n",
       "    </tr>\n",
       "    <tr>\n",
       "      <th>7</th>\n",
       "      <td>COB</td>\n",
       "      <td>12</td>\n",
       "    </tr>\n",
       "    <tr>\n",
       "      <th>8</th>\n",
       "      <td>CHGOCC</td>\n",
       "      <td>1</td>\n",
       "    </tr>\n",
       "    <tr>\n",
       "      <th>9</th>\n",
       "      <td>UNLABELED</td>\n",
       "      <td>19</td>\n",
       "    </tr>\n",
       "    <tr>\n",
       "      <th>10</th>\n",
       "      <td>CELL</td>\n",
       "      <td>1</td>\n",
       "    </tr>\n",
       "    <tr>\n",
       "      <th>11</th>\n",
       "      <td>OTHER</td>\n",
       "      <td>3</td>\n",
       "    </tr>\n",
       "  </tbody>\n",
       "</table>\n",
       "</div>"
      ],
      "text/plain": [
       "     worktype count\n",
       "0       ERECT   815\n",
       "1      NEWCON   219\n",
       "2      INTEXT     1\n",
       "3      EXTREN     2\n",
       "4      GARAGE     3\n",
       "5                 4\n",
       "6      CONVRT    28\n",
       "7         COB    12\n",
       "8      CHGOCC     1\n",
       "9   UNLABELED    19\n",
       "10       CELL     1\n",
       "11      OTHER     3"
      ]
     },
     "execution_count": 23,
     "metadata": {},
     "output_type": "execute_result"
    }
   ],
   "source": [
    "worktypes_df = pd.DataFrame(columns = ['worktype', 'count'])\n",
    "\n",
    "worktypes = df['worktype'].unique()\n",
    "\n",
    "work_groups = df.groupby(df.worktype)\n",
    "\n",
    "for i in range(len(worktypes)):\n",
    "    temp_df = work_groups.get_group(worktypes[i])\n",
    "    worktypes_df.loc[i] = [worktypes[i], len(temp_df)]\n",
    "\n",
    "worktypes_df.loc[9] = ['UNLABELED', 19]\n",
    "worktypes_df"
   ]
  },
  {
   "cell_type": "code",
   "execution_count": 24,
   "id": "56a2b69a-34a0-4d21-805a-277d8d05635f",
   "metadata": {},
   "outputs": [
    {
     "data": {
      "text/plain": [
       "Text(0, 0.5, 'Count')"
      ]
     },
     "execution_count": 24,
     "metadata": {},
     "output_type": "execute_result"
    },
    {
     "data": {
      "image/png": "[encoded data removed]",
      "text/plain": [
       "<Figure size 432x288 with 1 Axes>"
      ]
     },
     "metadata": {
      "needs_background": "light"
     },
     "output_type": "display_data"
    }
   ],
   "source": [
    "plt.bar(worktypes_df['worktype'], worktypes_df['count'])\n",
    "plt.xticks(rotation=90)\n",
    "plt.title('Amounts of Different Project Types')\n",
    "plt.xlabel('Project Type')\n",
    "plt.ylabel('Count')"
   ]
  },
  {
   "cell_type": "code",
   "execution_count": 25,
   "id": "dee32c9a-5017-4647-86cb-7055cbf6cd27",
   "metadata": {},
   "outputs": [
    {
     "data": {
      "text/html": [
       "<div>\n",
       "<style scoped>\n",
       "    .dataframe tbody tr th:only-of-type {\n",
       "        vertical-align: middle;\n",
       "    }\n",
       "\n",
       "    .dataframe tbody tr th {\n",
       "        vertical-align: top;\n",
       "    }\n",
       "\n",
       "    .dataframe thead th {\n",
       "        text-align: right;\n",
       "    }\n",
       "</style>\n",
       "<table border=\"1\" class=\"dataframe\">\n",
       "  <thead>\n",
       "    <tr style=\"text-align: right;\">\n",
       "      <th></th>\n",
       "      <th>permittype</th>\n",
       "      <th>count</th>\n",
       "    </tr>\n",
       "  </thead>\n",
       "  <tbody>\n",
       "    <tr>\n",
       "      <th>0</th>\n",
       "      <td>Erect/New Construction</td>\n",
       "      <td>970</td>\n",
       "    </tr>\n",
       "    <tr>\n",
       "      <th>1</th>\n",
       "      <td>Long Form/Alteration Permit</td>\n",
       "      <td>72</td>\n",
       "    </tr>\n",
       "    <tr>\n",
       "      <th>2</th>\n",
       "      <td>Amendment to a Long Form</td>\n",
       "      <td>48</td>\n",
       "    </tr>\n",
       "  </tbody>\n",
       "</table>\n",
       "</div>"
      ],
      "text/plain": [
       "                    permittype count\n",
       "0       Erect/New Construction   970\n",
       "1  Long Form/Alteration Permit    72\n",
       "2     Amendment to a Long Form    48"
      ]
     },
     "execution_count": 25,
     "metadata": {},
     "output_type": "execute_result"
    }
   ],
   "source": [
    "permit_type_df = pd.DataFrame(columns = ['permittype', 'count'])\n",
    "\n",
    "permittypes = df['permittypedescr'].unique()\n",
    "\n",
    "types_groups = df.groupby(df.permittypedescr)\n",
    "\n",
    "for i in range(len(permittypes)):\n",
    "    temp_df = types_groups.get_group(permittypes[i])\n",
    "    permit_type_df.loc[i] = [permittypes[i], len(temp_df)]\n",
    "\n",
    "permit_type_df"
   ]
  },
  {
   "cell_type": "code",
   "execution_count": 26,
   "id": "803851de-6a45-431d-825f-def6c55dc10b",
   "metadata": {},
   "outputs": [
    {
     "data": {
      "text/plain": [
       "Text(0, 0.5, 'Count')"
      ]
     },
     "execution_count": 26,
     "metadata": {},
     "output_type": "execute_result"
    },
    {
     "data": {
      "image/png": "[encoded data removed]",
      "text/plain": [
       "<Figure size 432x288 with 1 Axes>"
      ]
     },
     "metadata": {
      "needs_background": "light"
     },
     "output_type": "display_data"
    }
   ],
   "source": [
    "plt.bar(permit_type_df['permittype'], permit_type_df['count'])\n",
    "plt.xticks(rotation=90)\n",
    "plt.title('Amount of Different Types of Permits Approved')\n",
    "plt.xlabel('Permit Type')\n",
    "plt.ylabel('Count')"
   ]
  },
  {
   "cell_type": "code",
   "execution_count": 7,
   "id": "2b61af75-cbf7-408b-aabe-b1310c2422d2",
   "metadata": {},
   "outputs": [],
   "source": [
    "new = pd.concat([df[df['permittypedescr'] == 'Erect/New Construction'], df[df['permittypedescr'] == 'Long Form/Alteration Permit'],\n",
    "                df[df['permittypedescr'] == 'Amendment to a Long Form']])\n",
    "new.to_csv('UPDATED_approved_projects_with_demographics.csv')"
   ]
  },
  {
   "cell_type": "code",
   "execution_count": 28,
   "id": "e280cfdc-6812-45b1-b525-9139e1c9eab7",
   "metadata": {},
   "outputs": [
    {
     "data": {
      "text/html": [
       "<div>\n",
       "<style scoped>\n",
       "    .dataframe tbody tr th:only-of-type {\n",
       "        vertical-align: middle;\n",
       "    }\n",
       "\n",
       "    .dataframe tbody tr th {\n",
       "        vertical-align: top;\n",
       "    }\n",
       "\n",
       "    .dataframe thead th {\n",
       "        text-align: right;\n",
       "    }\n",
       "</style>\n",
       "<table border=\"1\" class=\"dataframe\">\n",
       "  <thead>\n",
       "    <tr style=\"text-align: right;\">\n",
       "      <th></th>\n",
       "      <th>occupancytype</th>\n",
       "      <th>count</th>\n",
       "    </tr>\n",
       "  </thead>\n",
       "  <tbody>\n",
       "    <tr>\n",
       "      <th>0</th>\n",
       "      <td>Mixed</td>\n",
       "      <td>92</td>\n",
       "    </tr>\n",
       "    <tr>\n",
       "      <th>1</th>\n",
       "      <td>Unlabeled</td>\n",
       "      <td>6970</td>\n",
       "    </tr>\n",
       "    <tr>\n",
       "      <th>2</th>\n",
       "      <td>Multi</td>\n",
       "      <td>194</td>\n",
       "    </tr>\n",
       "    <tr>\n",
       "      <th>3</th>\n",
       "      <td>Comm</td>\n",
       "      <td>104</td>\n",
       "    </tr>\n",
       "    <tr>\n",
       "      <th>4</th>\n",
       "      <td>VacLd</td>\n",
       "      <td>110</td>\n",
       "    </tr>\n",
       "    <tr>\n",
       "      <th>5</th>\n",
       "      <td>1-3FAM</td>\n",
       "      <td>126</td>\n",
       "    </tr>\n",
       "    <tr>\n",
       "      <th>6</th>\n",
       "      <td>2unit</td>\n",
       "      <td>4</td>\n",
       "    </tr>\n",
       "    <tr>\n",
       "      <th>7</th>\n",
       "      <td>Other</td>\n",
       "      <td>36</td>\n",
       "    </tr>\n",
       "    <tr>\n",
       "      <th>8</th>\n",
       "      <td>7More</td>\n",
       "      <td>1</td>\n",
       "    </tr>\n",
       "    <tr>\n",
       "      <th>9</th>\n",
       "      <td>1-4FAM</td>\n",
       "      <td>35</td>\n",
       "    </tr>\n",
       "    <tr>\n",
       "      <th>10</th>\n",
       "      <td>1Unit</td>\n",
       "      <td>3</td>\n",
       "    </tr>\n",
       "    <tr>\n",
       "      <th>11</th>\n",
       "      <td>4unit</td>\n",
       "      <td>3</td>\n",
       "    </tr>\n",
       "    <tr>\n",
       "      <th>12</th>\n",
       "      <td>1-7FAM</td>\n",
       "      <td>7</td>\n",
       "    </tr>\n",
       "    <tr>\n",
       "      <th>13</th>\n",
       "      <td></td>\n",
       "      <td>30</td>\n",
       "    </tr>\n",
       "    <tr>\n",
       "      <th>14</th>\n",
       "      <td>7unit</td>\n",
       "      <td>1</td>\n",
       "    </tr>\n",
       "  </tbody>\n",
       "</table>\n",
       "</div>"
      ],
      "text/plain": [
       "   occupancytype count\n",
       "0          Mixed    92\n",
       "1      Unlabeled  6970\n",
       "2          Multi   194\n",
       "3           Comm   104\n",
       "4          VacLd   110\n",
       "5         1-3FAM   126\n",
       "6          2unit     4\n",
       "7          Other    36\n",
       "8          7More     1\n",
       "9         1-4FAM    35\n",
       "10         1Unit     3\n",
       "11         4unit     3\n",
       "12        1-7FAM     7\n",
       "13                  30\n",
       "14         7unit     1"
      ]
     },
     "execution_count": 28,
     "metadata": {},
     "output_type": "execute_result"
    }
   ],
   "source": [
    "occupancy_type_df = pd.DataFrame(columns = ['occupancytype', 'count'])\n",
    "\n",
    "occupancytypes = df['occupancytype'].unique()\n",
    "\n",
    "types_groups = df.groupby(df.occupancytype)\n",
    "\n",
    "for i in range(len(occupancytypes)):\n",
    "    temp_df = types_groups.get_group(occupancytypes[i])\n",
    "    occupancy_type_df.loc[i] = [occupancytypes[i], len(temp_df)]\n",
    "\n",
    "occupancy_type_df.loc[1] = ['Unlabeled', 6970]\n",
    "occupancy_type_df"
   ]
  },
  {
   "cell_type": "code",
   "execution_count": 29,
   "id": "d3c7e43a-8514-4a4e-8d25-e64c8757a24a",
   "metadata": {},
   "outputs": [
    {
     "data": {
      "text/plain": [
       "Text(0, 0.5, 'Count')"
      ]
     },
     "execution_count": 29,
     "metadata": {},
     "output_type": "execute_result"
    },
    {
     "data": {
      "image/png": "[encoded data removed]",
      "text/plain": [
       "<Figure size 432x288 with 1 Axes>"
      ]
     },
     "metadata": {
      "needs_background": "light"
     },
     "output_type": "display_data"
    }
   ],
   "source": [
    "plt.bar(occupancy_type_df['occupancytype'], occupancy_type_df['count'])\n",
    "plt.xticks(rotation=90)\n",
    "plt.title('Amount of Different Occupancies of Projects')\n",
    "plt.xlabel('Occupancy Type')\n",
    "plt.ylabel('Count')"
   ]
  },
  {
   "cell_type": "code",
   "execution_count": 30,
   "id": "aa100d59-4263-44a5-81f5-3b0b09bba676",
   "metadata": {},
   "outputs": [
    {
     "data": {
      "text/html": [
       "<div>\n",
       "<style scoped>\n",
       "    .dataframe tbody tr th:only-of-type {\n",
       "        vertical-align: middle;\n",
       "    }\n",
       "\n",
       "    .dataframe tbody tr th {\n",
       "        vertical-align: top;\n",
       "    }\n",
       "\n",
       "    .dataframe thead th {\n",
       "        text-align: right;\n",
       "    }\n",
       "</style>\n",
       "<table border=\"1\" class=\"dataframe\">\n",
       "  <thead>\n",
       "    <tr style=\"text-align: right;\">\n",
       "      <th></th>\n",
       "      <th>declared_valuation</th>\n",
       "      <th>count</th>\n",
       "    </tr>\n",
       "  </thead>\n",
       "  <tbody>\n",
       "    <tr>\n",
       "      <th>0</th>\n",
       "      <td>Above $30,000</td>\n",
       "      <td>809</td>\n",
       "    </tr>\n",
       "    <tr>\n",
       "      <th>1</th>\n",
       "      <td>Less than or equal to $30,000</td>\n",
       "      <td>281</td>\n",
       "    </tr>\n",
       "  </tbody>\n",
       "</table>\n",
       "</div>"
      ],
      "text/plain": [
       "              declared_valuation count\n",
       "0                  Above $30,000   809\n",
       "1  Less than or equal to $30,000   281"
      ]
     },
     "execution_count": 30,
     "metadata": {},
     "output_type": "execute_result"
    }
   ],
   "source": [
    "valuation_df = pd.DataFrame(columns = ['declared_valuation', 'count'])\n",
    "\n",
    "m = df['declared_valuation'].gt(30000)\n",
    "df['above 30,000'] = (m.groupby(df['permitnumber']).transform('sum').eq(1) & m).astype(int)\n",
    "\n",
    "valuation_df.loc[0] = ['Above $30,000', sum(df['above 30,000'])]\n",
    "valuation_df.loc[1] = ['Less than or equal to $30,000', len(df) - sum(df['above 30,000'])]\n",
    "\n",
    "valuation_df"
   ]
  },
  {
   "cell_type": "code",
   "execution_count": 31,
   "id": "fa2c91a9-12d9-4283-bc0b-080b9a3ef643",
   "metadata": {},
   "outputs": [
    {
     "data": {
      "text/plain": [
       "Text(0, 0.5, 'Count')"
      ]
     },
     "execution_count": 31,
     "metadata": {},
     "output_type": "execute_result"
    },
    {
     "data": {
      "image/png": "[encoded data removed]",
      "text/plain": [
       "<Figure size 432x288 with 1 Axes>"
      ]
     },
     "metadata": {
      "needs_background": "light"
     },
     "output_type": "display_data"
    }
   ],
   "source": [
    "plt.bar(valuation_df['declared_valuation'], valuation_df['count'])\n",
    "#plt.xticks(rotation=90)\n",
    "plt.title('Distribution of Project Valuations')\n",
    "plt.xlabel('Valuation')\n",
    "plt.ylabel('Count')"
   ]
  },
  {
   "cell_type": "code",
   "execution_count": 32,
   "id": "eb36ba98-1260-41c5-bf4c-b0abae630901",
   "metadata": {},
   "outputs": [
    {
     "data": {
      "text/html": [
       "<div>\n",
       "<style scoped>\n",
       "    .dataframe tbody tr th:only-of-type {\n",
       "        vertical-align: middle;\n",
       "    }\n",
       "\n",
       "    .dataframe tbody tr th {\n",
       "        vertical-align: top;\n",
       "    }\n",
       "\n",
       "    .dataframe thead th {\n",
       "        text-align: right;\n",
       "    }\n",
       "</style>\n",
       "<table border=\"1\" class=\"dataframe\">\n",
       "  <thead>\n",
       "    <tr style=\"text-align: right;\">\n",
       "      <th></th>\n",
       "      <th>declared_valuation</th>\n",
       "      <th>count</th>\n",
       "    </tr>\n",
       "  </thead>\n",
       "  <tbody>\n",
       "    <tr>\n",
       "      <th>0</th>\n",
       "      <td>Above $0</td>\n",
       "      <td>866</td>\n",
       "    </tr>\n",
       "    <tr>\n",
       "      <th>1</th>\n",
       "      <td>Equal to $0</td>\n",
       "      <td>224</td>\n",
       "    </tr>\n",
       "  </tbody>\n",
       "</table>\n",
       "</div>"
      ],
      "text/plain": [
       "  declared_valuation count\n",
       "0           Above $0   866\n",
       "1        Equal to $0   224"
      ]
     },
     "execution_count": 32,
     "metadata": {},
     "output_type": "execute_result"
    }
   ],
   "source": [
    "valuation_df2 = pd.DataFrame(columns = ['declared_valuation', 'count'])\n",
    "\n",
    "m = df['declared_valuation'].gt(0)\n",
    "df['above 0'] = (m.groupby(df['permitnumber']).transform('sum').eq(1) & m).astype(int)\n",
    "\n",
    "valuation_df2.loc[0] = ['Above $0', sum(df['above 0'])]\n",
    "valuation_df2.loc[1] = ['Equal to $0', len(df) - sum(df['above 0'])]\n",
    "\n",
    "valuation_df2"
   ]
  },
  {
   "cell_type": "code",
   "execution_count": 33,
   "id": "8aeb7354-5f0e-4f23-8a32-42091428baf3",
   "metadata": {},
   "outputs": [
    {
     "data": {
      "text/plain": [
       "Text(0, 0.5, 'Count')"
      ]
     },
     "execution_count": 33,
     "metadata": {},
     "output_type": "execute_result"
    },
    {
     "data": {
      "image/png": "[encoded data removed]",
      "text/plain": [
       "<Figure size 432x288 with 1 Axes>"
      ]
     },
     "metadata": {
      "needs_background": "light"
     },
     "output_type": "display_data"
    }
   ],
   "source": [
    "plt.bar(valuation_df2['declared_valuation'], valuation_df2['count'])\n",
    "#plt.xticks(rotation=90)\n",
    "plt.title('Distribution of Project Valuations')\n",
    "plt.xlabel('Valuation')\n",
    "plt.ylabel('Count')"
   ]
  },
  {
   "cell_type": "code",
   "execution_count": 34,
   "id": "4e9ee39e-a775-4ce1-93cf-5d005b1ea8f7",
   "metadata": {},
   "outputs": [
    {
     "name": "stderr",
     "output_type": "stream",
     "text": [
      "<ipython-input-34-56eeea366270>:7: SettingWithCopyWarning: \n",
      "A value is trying to be set on a copy of a slice from a DataFrame.\n",
      "Try using .loc[row_indexer,col_indexer] = value instead\n",
      "\n",
      "See the caveats in the documentation: https://pandas.pydata.org/pandas-docs/stable/user_guide/indexing.html#returning-a-view-versus-a-copy\n",
      "  df2['above 30,000'] = (m.groupby(df2['permitnumber']).transform('sum').eq(1) & m).astype(int)\n"
     ]
    },
    {
     "data": {
      "text/html": [
       "<div>\n",
       "<style scoped>\n",
       "    .dataframe tbody tr th:only-of-type {\n",
       "        vertical-align: middle;\n",
       "    }\n",
       "\n",
       "    .dataframe tbody tr th {\n",
       "        vertical-align: top;\n",
       "    }\n",
       "\n",
       "    .dataframe thead th {\n",
       "        text-align: right;\n",
       "    }\n",
       "</style>\n",
       "<table border=\"1\" class=\"dataframe\">\n",
       "  <thead>\n",
       "    <tr style=\"text-align: right;\">\n",
       "      <th></th>\n",
       "      <th>declared_valuation</th>\n",
       "      <th>count</th>\n",
       "    </tr>\n",
       "  </thead>\n",
       "  <tbody>\n",
       "    <tr>\n",
       "      <th>0</th>\n",
       "      <td>Above $30,000</td>\n",
       "      <td>809</td>\n",
       "    </tr>\n",
       "    <tr>\n",
       "      <th>1</th>\n",
       "      <td>Less than or equal to $30,000</td>\n",
       "      <td>57</td>\n",
       "    </tr>\n",
       "  </tbody>\n",
       "</table>\n",
       "</div>"
      ],
      "text/plain": [
       "              declared_valuation count\n",
       "0                  Above $30,000   809\n",
       "1  Less than or equal to $30,000    57"
      ]
     },
     "execution_count": 34,
     "metadata": {},
     "output_type": "execute_result"
    }
   ],
   "source": [
    "filt = df['above 0'] == 1\n",
    "df2 = df[filt]\n",
    "\n",
    "valuation_df = pd.DataFrame(columns = ['declared_valuation', 'count'])\n",
    "\n",
    "m = df2['declared_valuation'].gt(30000)\n",
    "df2['above 30,000'] = (m.groupby(df2['permitnumber']).transform('sum').eq(1) & m).astype(int)\n",
    "\n",
    "valuation_df.loc[0] = ['Above $30,000', sum(df2['above 30,000'])]\n",
    "valuation_df.loc[1] = ['Less than or equal to $30,000', len(df2) - sum(df2['above 30,000'])]\n",
    "\n",
    "valuation_df"
   ]
  },
  {
   "cell_type": "code",
   "execution_count": 35,
   "id": "8e38268b-67f8-4595-a4d2-12598166e3d5",
   "metadata": {},
   "outputs": [
    {
     "data": {
      "text/plain": [
       "Text(0, 0.5, 'Count')"
      ]
     },
     "execution_count": 35,
     "metadata": {},
     "output_type": "execute_result"
    },
    {
     "data": {
      "image/png": "[encoded data removed]",
      "text/plain": [
       "<Figure size 432x288 with 1 Axes>"
      ]
     },
     "metadata": {
      "needs_background": "light"
     },
     "output_type": "display_data"
    }
   ],
   "source": [
    "plt.bar(valuation_df['declared_valuation'], valuation_df['count'])\n",
    "#plt.xticks(rotation=90)\n",
    "plt.title('Distribution of Project Valuations Greater than 0')\n",
    "plt.xlabel('Valuation')\n",
    "plt.ylabel('Count')"
   ]
  },
  {
   "cell_type": "code",
   "execution_count": 38,
   "id": "f238086b-8402-4960-b1d1-1bc3c12ae432",
   "metadata": {},
   "outputs": [
    {
     "data": {
      "text/html": [
       "<div>\n",
       "<style scoped>\n",
       "    .dataframe tbody tr th:only-of-type {\n",
       "        vertical-align: middle;\n",
       "    }\n",
       "\n",
       "    .dataframe tbody tr th {\n",
       "        vertical-align: top;\n",
       "    }\n",
       "\n",
       "    .dataframe thead th {\n",
       "        text-align: right;\n",
       "    }\n",
       "</style>\n",
       "<table border=\"1\" class=\"dataframe\">\n",
       "  <thead>\n",
       "    <tr style=\"text-align: right;\">\n",
       "      <th></th>\n",
       "      <th>city</th>\n",
       "      <th>count</th>\n",
       "    </tr>\n",
       "  </thead>\n",
       "  <tbody>\n",
       "    <tr>\n",
       "      <th>0</th>\n",
       "      <td>Mission Hill</td>\n",
       "      <td>18</td>\n",
       "    </tr>\n",
       "    <tr>\n",
       "      <th>1</th>\n",
       "      <td>West Roxbury</td>\n",
       "      <td>54</td>\n",
       "    </tr>\n",
       "    <tr>\n",
       "      <th>2</th>\n",
       "      <td>South Boston</td>\n",
       "      <td>212</td>\n",
       "    </tr>\n",
       "    <tr>\n",
       "      <th>3</th>\n",
       "      <td>Roslindale</td>\n",
       "      <td>40</td>\n",
       "    </tr>\n",
       "    <tr>\n",
       "      <th>4</th>\n",
       "      <td>East Boston</td>\n",
       "      <td>121</td>\n",
       "    </tr>\n",
       "    <tr>\n",
       "      <th>5</th>\n",
       "      <td>Jamaica Plain</td>\n",
       "      <td>54</td>\n",
       "    </tr>\n",
       "    <tr>\n",
       "      <th>6</th>\n",
       "      <td>Boston</td>\n",
       "      <td>72</td>\n",
       "    </tr>\n",
       "    <tr>\n",
       "      <th>7</th>\n",
       "      <td>Dorchester</td>\n",
       "      <td>272</td>\n",
       "    </tr>\n",
       "    <tr>\n",
       "      <th>8</th>\n",
       "      <td>Roxbury</td>\n",
       "      <td>86</td>\n",
       "    </tr>\n",
       "    <tr>\n",
       "      <th>9</th>\n",
       "      <td>Chestnut Hill</td>\n",
       "      <td>1</td>\n",
       "    </tr>\n",
       "    <tr>\n",
       "      <th>10</th>\n",
       "      <td>Brighton</td>\n",
       "      <td>54</td>\n",
       "    </tr>\n",
       "    <tr>\n",
       "      <th>11</th>\n",
       "      <td>Allston</td>\n",
       "      <td>19</td>\n",
       "    </tr>\n",
       "    <tr>\n",
       "      <th>12</th>\n",
       "      <td>Mattapan</td>\n",
       "      <td>20</td>\n",
       "    </tr>\n",
       "    <tr>\n",
       "      <th>13</th>\n",
       "      <td>Hyde Park</td>\n",
       "      <td>42</td>\n",
       "    </tr>\n",
       "    <tr>\n",
       "      <th>14</th>\n",
       "      <td>Charlestown</td>\n",
       "      <td>25</td>\n",
       "    </tr>\n",
       "  </tbody>\n",
       "</table>\n",
       "</div>"
      ],
      "text/plain": [
       "             city count\n",
       "0    Mission Hill    18\n",
       "1    West Roxbury    54\n",
       "2    South Boston   212\n",
       "3      Roslindale    40\n",
       "4     East Boston   121\n",
       "5   Jamaica Plain    54\n",
       "6          Boston    72\n",
       "7      Dorchester   272\n",
       "8         Roxbury    86\n",
       "9   Chestnut Hill     1\n",
       "10       Brighton    54\n",
       "11        Allston    19\n",
       "12       Mattapan    20\n",
       "13      Hyde Park    42\n",
       "14    Charlestown    25"
      ]
     },
     "metadata": {},
     "output_type": "display_data"
    }
   ],
   "source": [
    "city_df = pd.DataFrame(columns = ['city', 'count'])\n",
    "\n",
    "cities = list(df['city'].unique())\n",
    "\n",
    "city_groups = df.groupby(df.city)\n",
    "\n",
    "for i in range(len(cities)):\n",
    "    if type(cities[i]) == float:\n",
    "        pass\n",
    "    else:\n",
    "        temp_df = city_groups.get_group(cities[i])\n",
    "        city_df.loc[i] = [cities[i], len(temp_df)]\n",
    "\n",
    "display(city_df)"
   ]
  },
  {
   "cell_type": "code",
   "execution_count": 39,
   "id": "c4f0ee39-5f47-482c-bd3d-bb6e48fe5e9f",
   "metadata": {},
   "outputs": [
    {
     "data": {
      "text/plain": [
       "Text(0, 0.5, 'Count')"
      ]
     },
     "execution_count": 39,
     "metadata": {},
     "output_type": "execute_result"
    },
    {
     "data": {
      "image/png": "[encoded data removed]",
      "text/plain": [
       "<Figure size 432x288 with 1 Axes>"
      ]
     },
     "metadata": {
      "needs_background": "light"
     },
     "output_type": "display_data"
    }
   ],
   "source": [
    "plt.bar(city_df['city'], city_df['count'])\n",
    "plt.xticks(rotation=90)\n",
    "plt.title('Distribution of Approved Permits per City')\n",
    "plt.xlabel('City')\n",
    "plt.ylabel('Count')"
   ]
  },
  {
   "cell_type": "code",
   "execution_count": 43,
   "id": "260a086b-7c11-4cf2-aee2-d2b0af4a9a95",
   "metadata": {},
   "outputs": [
    {
     "data": {
      "text/plain": [
       "array([0.])"
      ]
     },
     "execution_count": 43,
     "metadata": {},
     "output_type": "execute_result"
    }
   ],
   "source": [
    "filt = df['permittypedescr'] == 'Excavation Permit'\n",
    "df2 = df[filt]\n",
    "df2['declared_valuation'].unique()"
   ]
  },
  {
   "cell_type": "code",
   "execution_count": 56,
   "id": "0cd74e3b-0acd-4586-8bc9-40bd04e3bd92",
   "metadata": {},
   "outputs": [
    {
     "data": {
      "text/html": [
       "<div>\n",
       "<style scoped>\n",
       "    .dataframe tbody tr th:only-of-type {\n",
       "        vertical-align: middle;\n",
       "    }\n",
       "\n",
       "    .dataframe tbody tr th {\n",
       "        vertical-align: top;\n",
       "    }\n",
       "\n",
       "    .dataframe thead th {\n",
       "        text-align: right;\n",
       "    }\n",
       "</style>\n",
       "<table border=\"1\" class=\"dataframe\">\n",
       "  <thead>\n",
       "    <tr style=\"text-align: right;\">\n",
       "      <th></th>\n",
       "      <th>permitnumber</th>\n",
       "      <th>worktype</th>\n",
       "      <th>permittypedescr</th>\n",
       "      <th>declared_valuation</th>\n",
       "      <th>occupancytype</th>\n",
       "      <th>city</th>\n",
       "    </tr>\n",
       "  </thead>\n",
       "  <tbody>\n",
       "    <tr>\n",
       "      <th>0</th>\n",
       "      <td>A1048</td>\n",
       "      <td>ERECT</td>\n",
       "      <td>Amendment to a Long Form</td>\n",
       "      <td>0.0</td>\n",
       "      <td>Mixed</td>\n",
       "      <td>Mission Hill</td>\n",
       "    </tr>\n",
       "    <tr>\n",
       "      <th>1</th>\n",
       "      <td>A21302</td>\n",
       "      <td>NEWCON</td>\n",
       "      <td>Amendment to a Long Form</td>\n",
       "      <td>15000.0</td>\n",
       "      <td>Mixed</td>\n",
       "      <td>Mission Hill</td>\n",
       "    </tr>\n",
       "    <tr>\n",
       "      <th>2</th>\n",
       "      <td>COO752522</td>\n",
       "      <td>ERECT</td>\n",
       "      <td>Certificate of Occupancy</td>\n",
       "      <td>0.0</td>\n",
       "      <td>Mixed</td>\n",
       "      <td>Mission Hill</td>\n",
       "    </tr>\n",
       "    <tr>\n",
       "      <th>3</th>\n",
       "      <td>COO752522</td>\n",
       "      <td>ERECT</td>\n",
       "      <td>Certificate of Occupancy</td>\n",
       "      <td>0.0</td>\n",
       "      <td>Mixed</td>\n",
       "      <td>Mission Hill</td>\n",
       "    </tr>\n",
       "    <tr>\n",
       "      <th>4</th>\n",
       "      <td>COO752522</td>\n",
       "      <td>ERECT</td>\n",
       "      <td>Certificate of Occupancy</td>\n",
       "      <td>0.0</td>\n",
       "      <td>Mixed</td>\n",
       "      <td>Mission Hill</td>\n",
       "    </tr>\n",
       "    <tr>\n",
       "      <th>...</th>\n",
       "      <td>...</td>\n",
       "      <td>...</td>\n",
       "      <td>...</td>\n",
       "      <td>...</td>\n",
       "      <td>...</td>\n",
       "      <td>...</td>\n",
       "    </tr>\n",
       "    <tr>\n",
       "      <th>9161</th>\n",
       "      <td>EXCA-846479</td>\n",
       "      <td>Service</td>\n",
       "      <td>Excavation Permit</td>\n",
       "      <td>0.0</td>\n",
       "      <td></td>\n",
       "      <td>South Boston</td>\n",
       "    </tr>\n",
       "    <tr>\n",
       "      <th>9162</th>\n",
       "      <td>EXCA-961507</td>\n",
       "      <td>Capital</td>\n",
       "      <td>Excavation Permit</td>\n",
       "      <td>0.0</td>\n",
       "      <td></td>\n",
       "      <td>South Boston</td>\n",
       "    </tr>\n",
       "    <tr>\n",
       "      <th>9163</th>\n",
       "      <td>SF522908</td>\n",
       "      <td>ERECT</td>\n",
       "      <td>Short Form Bldg Permit</td>\n",
       "      <td>915.0</td>\n",
       "      <td>VacLd</td>\n",
       "      <td>South Boston</td>\n",
       "    </tr>\n",
       "    <tr>\n",
       "      <th>9165</th>\n",
       "      <td>SF95509</td>\n",
       "      <td>ERECT</td>\n",
       "      <td>Short Form Bldg Permit</td>\n",
       "      <td>1350.0</td>\n",
       "      <td>VacLd</td>\n",
       "      <td>Jamaica Plain</td>\n",
       "    </tr>\n",
       "    <tr>\n",
       "      <th>9168</th>\n",
       "      <td>SF76652</td>\n",
       "      <td>ERECT</td>\n",
       "      <td>Short Form Bldg Permit</td>\n",
       "      <td>1000.0</td>\n",
       "      <td>Other</td>\n",
       "      <td>East Boston</td>\n",
       "    </tr>\n",
       "  </tbody>\n",
       "</table>\n",
       "<p>6310 rows × 6 columns</p>\n",
       "</div>"
      ],
      "text/plain": [
       "     permitnumber worktype           permittypedescr  declared_valuation  \\\n",
       "0           A1048    ERECT  Amendment to a Long Form                 0.0   \n",
       "1          A21302   NEWCON  Amendment to a Long Form             15000.0   \n",
       "2       COO752522    ERECT  Certificate of Occupancy                 0.0   \n",
       "3       COO752522    ERECT  Certificate of Occupancy                 0.0   \n",
       "4       COO752522    ERECT  Certificate of Occupancy                 0.0   \n",
       "...           ...      ...                       ...                 ...   \n",
       "9161  EXCA-846479  Service         Excavation Permit                 0.0   \n",
       "9162  EXCA-961507  Capital         Excavation Permit                 0.0   \n",
       "9163     SF522908    ERECT    Short Form Bldg Permit               915.0   \n",
       "9165      SF95509    ERECT    Short Form Bldg Permit              1350.0   \n",
       "9168      SF76652    ERECT    Short Form Bldg Permit              1000.0   \n",
       "\n",
       "     occupancytype           city  \n",
       "0            Mixed   Mission Hill  \n",
       "1            Mixed   Mission Hill  \n",
       "2            Mixed   Mission Hill  \n",
       "3            Mixed   Mission Hill  \n",
       "4            Mixed   Mission Hill  \n",
       "...            ...            ...  \n",
       "9161                 South Boston  \n",
       "9162                 South Boston  \n",
       "9163         VacLd   South Boston  \n",
       "9165         VacLd  Jamaica Plain  \n",
       "9168         Other    East Boston  \n",
       "\n",
       "[6310 rows x 6 columns]"
      ]
     },
     "execution_count": 56,
     "metadata": {},
     "output_type": "execute_result"
    }
   ],
   "source": [
    "# REMOVED ALL MAIN WORKTYPE (MAIN = MAINTENANCE)\n",
    "filt = df['worktype'] == 'Main'\n",
    "drop = df[filt]\n",
    "inds = drop.index\n",
    "df = df.drop(inds)\n",
    "df"
   ]
  },
  {
   "cell_type": "code",
   "execution_count": 18,
   "id": "095fed6f-9239-45c5-a578-89959b62b6ef",
   "metadata": {},
   "outputs": [],
   "source": [
    "df = pd.read_csv('UPDATED_approved_projects_with_demographics.csv')"
   ]
  },
  {
   "cell_type": "code",
   "execution_count": 19,
   "id": "52280975-f4eb-477a-8715-3cd3c6e68e28",
   "metadata": {},
   "outputs": [
    {
     "data": {
      "text/html": [
       "<div>\n",
       "<style scoped>\n",
       "    .dataframe tbody tr th:only-of-type {\n",
       "        vertical-align: middle;\n",
       "    }\n",
       "\n",
       "    .dataframe tbody tr th {\n",
       "        vertical-align: top;\n",
       "    }\n",
       "\n",
       "    .dataframe thead th {\n",
       "        text-align: right;\n",
       "    }\n",
       "</style>\n",
       "<table border=\"1\" class=\"dataframe\">\n",
       "  <thead>\n",
       "    <tr style=\"text-align: right;\">\n",
       "      <th></th>\n",
       "      <th>declared_valuation</th>\n",
       "      <th>count</th>\n",
       "    </tr>\n",
       "  </thead>\n",
       "  <tbody>\n",
       "    <tr>\n",
       "      <th>0</th>\n",
       "      <td>Above $30,000</td>\n",
       "      <td>809</td>\n",
       "    </tr>\n",
       "    <tr>\n",
       "      <th>1</th>\n",
       "      <td>Less than or equal to $30,000</td>\n",
       "      <td>281</td>\n",
       "    </tr>\n",
       "  </tbody>\n",
       "</table>\n",
       "</div>"
      ],
      "text/plain": [
       "              declared_valuation count\n",
       "0                  Above $30,000   809\n",
       "1  Less than or equal to $30,000   281"
      ]
     },
     "execution_count": 19,
     "metadata": {},
     "output_type": "execute_result"
    }
   ],
   "source": [
    "valuation_df = pd.DataFrame(columns = ['declared_valuation', 'count'])\n",
    "\n",
    "m = df['declared_valuation'].gt(30000)\n",
    "df['above 30,000'] = (m.groupby(df['permitnumber']).transform('sum').eq(1) & m).astype(int)\n",
    "\n",
    "valuation_df.loc[0] = ['Above $30,000', sum(df['above 30,000'])]\n",
    "valuation_df.loc[1] = ['Less than or equal to $30,000', len(df) - sum(df['above 30,000'])]\n",
    "\n",
    "valuation_df"
   ]
  },
  {
   "cell_type": "code",
   "execution_count": 20,
   "id": "4b8c60ac-01da-4537-927e-2d9722cffc89",
   "metadata": {},
   "outputs": [
    {
     "data": {
      "text/html": [
       "<div>\n",
       "<style scoped>\n",
       "    .dataframe tbody tr th:only-of-type {\n",
       "        vertical-align: middle;\n",
       "    }\n",
       "\n",
       "    .dataframe tbody tr th {\n",
       "        vertical-align: top;\n",
       "    }\n",
       "\n",
       "    .dataframe thead th {\n",
       "        text-align: right;\n",
       "    }\n",
       "</style>\n",
       "<table border=\"1\" class=\"dataframe\">\n",
       "  <thead>\n",
       "    <tr style=\"text-align: right;\">\n",
       "      <th></th>\n",
       "      <th>declared_valuation</th>\n",
       "      <th>count</th>\n",
       "    </tr>\n",
       "  </thead>\n",
       "  <tbody>\n",
       "    <tr>\n",
       "      <th>0</th>\n",
       "      <td>Above $0</td>\n",
       "      <td>866</td>\n",
       "    </tr>\n",
       "    <tr>\n",
       "      <th>1</th>\n",
       "      <td>Equal to $0</td>\n",
       "      <td>224</td>\n",
       "    </tr>\n",
       "  </tbody>\n",
       "</table>\n",
       "</div>"
      ],
      "text/plain": [
       "  declared_valuation count\n",
       "0           Above $0   866\n",
       "1        Equal to $0   224"
      ]
     },
     "execution_count": 20,
     "metadata": {},
     "output_type": "execute_result"
    }
   ],
   "source": [
    "valuation_df2 = pd.DataFrame(columns = ['declared_valuation', 'count'])\n",
    "\n",
    "m = df['declared_valuation'].gt(0)\n",
    "df['above 0'] = (m.groupby(df['permitnumber']).transform('sum').eq(1) & m).astype(int)\n",
    "\n",
    "valuation_df2.loc[0] = ['Above $0', sum(df['above 0'])]\n",
    "valuation_df2.loc[1] = ['Equal to $0', len(df) - sum(df['above 0'])]\n",
    "\n",
    "valuation_df2"
   ]
  },
  {
   "cell_type": "code",
   "execution_count": null,
   "id": "01dc2b16-b4a9-4c55-9c58-4611f73f51d6",
   "metadata": {},
   "outputs": [],
   "source": []
  }
 ],
 "metadata": {
  "kernelspec": {
   "display_name": "Python 3",
   "language": "python",
   "name": "python3"
  },
  "language_info": {
   "codemirror_mode": {
    "name": "ipython",
    "version": 3
   },
   "file_extension": ".py",
   "mimetype": "text/x-python",
   "name": "python",
   "nbconvert_exporter": "python",
   "pygments_lexer": "ipython3",
   "version": "3.8.8"
  }
 },
 "nbformat": 4,
 "nbformat_minor": 5
}
