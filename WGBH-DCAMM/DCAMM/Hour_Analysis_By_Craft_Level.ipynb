{
 "cells": [
  {
   "cell_type": "code",
   "execution_count": 3,
   "metadata": {},
   "outputs": [],
   "source": [
    "import pandas as pd"
   ]
  },
  {
   "cell_type": "code",
   "execution_count": 5,
   "metadata": {},
   "outputs": [],
   "source": [
    "f1 = 'WorkforceUtilizationReport-Apprentice.csv'\n",
    "f2 = 'WorkforceUtilizationReport-Journeymen.csv'\n",
    "df = pd.read_csv(f1)\n",
    "temp_df = pd.read_csv(f2)\n",
    "\n",
    "df = pd.concat([df, temp_df], join='inner')"
   ]
  },
  {
   "cell_type": "code",
   "execution_count": 6,
   "metadata": {},
   "outputs": [],
   "source": [
    "craft_levels = ['Journeymen', 'Apprentice']\n",
    "\n",
    "levels = df.groupby(df.CRAFT_LEVEL)\n",
    "\n",
    "summary = pd.DataFrame(columns=['LEVEL', 'CAUCASIAN', 'AFRICAN_AMERICAN', 'HISPANIC', 'ASIAN', 'NATIVE_AMERICAN', \n",
    "                                'OTHER', 'FEMALE'])\n",
    "\n",
    "for i in range(len(craft_levels)):\n",
    "    lvl = levels.get_group(craft_levels[i])\n",
    "    summary.loc[i] = [craft_levels[i], lvl['CAUCASIAN'].sum()/df['CAUCASIAN'].sum(), \n",
    "                      lvl['AFRICAN_AMERICAN'].sum()/df['AFRICAN_AMERICAN'].sum(),\n",
    "                      lvl['HISPANIC'].sum()/df['HISPANIC'].sum(), lvl['ASIAN'].sum()/df['ASIAN'].sum(),\n",
    "                      lvl['NATIVE_AMERICAN'].sum()/df['NATIVE_AMERICAN'].sum(), \n",
    "                      lvl['OTHER'].sum()/df['OTHER'].sum(), lvl['TOTAL_FEMALE'].sum()/df['TOTAL_FEMALE'].sum()]"
   ]
  },
  {
   "cell_type": "code",
   "execution_count": 7,
   "metadata": {},
   "outputs": [
    {
     "data": {
      "text/html": [
       "<div>\n",
       "<style scoped>\n",
       "    .dataframe tbody tr th:only-of-type {\n",
       "        vertical-align: middle;\n",
       "    }\n",
       "\n",
       "    .dataframe tbody tr th {\n",
       "        vertical-align: top;\n",
       "    }\n",
       "\n",
       "    .dataframe thead th {\n",
       "        text-align: right;\n",
       "    }\n",
       "</style>\n",
       "<table border=\"1\" class=\"dataframe\">\n",
       "  <thead>\n",
       "    <tr style=\"text-align: right;\">\n",
       "      <th></th>\n",
       "      <th>LEVEL</th>\n",
       "      <th>CAUCASIAN</th>\n",
       "      <th>AFRICAN_AMERICAN</th>\n",
       "      <th>HISPANIC</th>\n",
       "      <th>ASIAN</th>\n",
       "      <th>NATIVE_AMERICAN</th>\n",
       "      <th>OTHER</th>\n",
       "      <th>FEMALE</th>\n",
       "    </tr>\n",
       "  </thead>\n",
       "  <tbody>\n",
       "    <tr>\n",
       "      <th>0</th>\n",
       "      <td>Journeymen</td>\n",
       "      <td>0.917302</td>\n",
       "      <td>0.767743</td>\n",
       "      <td>0.822106</td>\n",
       "      <td>0.782835</td>\n",
       "      <td>0.931969</td>\n",
       "      <td>0.95408</td>\n",
       "      <td>0.590112</td>\n",
       "    </tr>\n",
       "    <tr>\n",
       "      <th>1</th>\n",
       "      <td>Apprentice</td>\n",
       "      <td>0.082698</td>\n",
       "      <td>0.232257</td>\n",
       "      <td>0.177894</td>\n",
       "      <td>0.217165</td>\n",
       "      <td>0.068031</td>\n",
       "      <td>0.04592</td>\n",
       "      <td>0.409888</td>\n",
       "    </tr>\n",
       "  </tbody>\n",
       "</table>\n",
       "</div>"
      ],
      "text/plain": [
       "        LEVEL  CAUCASIAN  AFRICAN_AMERICAN  HISPANIC     ASIAN  \\\n",
       "0  Journeymen   0.917302          0.767743  0.822106  0.782835   \n",
       "1  Apprentice   0.082698          0.232257  0.177894  0.217165   \n",
       "\n",
       "   NATIVE_AMERICAN    OTHER    FEMALE  \n",
       "0         0.931969  0.95408  0.590112  \n",
       "1         0.068031  0.04592  0.409888  "
      ]
     },
     "execution_count": 7,
     "metadata": {},
     "output_type": "execute_result"
    }
   ],
   "source": [
    "summary"
   ]
  },
  {
   "cell_type": "code",
   "execution_count": null,
   "metadata": {},
   "outputs": [],
   "source": []
  }
 ],
 "metadata": {
  "hide_input": false,
  "kernelspec": {
   "display_name": "Python 3",
   "language": "python",
   "name": "python3"
  },
  "language_info": {
   "codemirror_mode": {
    "name": "ipython",
    "version": 3
   },
   "file_extension": ".py",
   "mimetype": "text/x-python",
   "name": "python",
   "nbconvert_exporter": "python",
   "pygments_lexer": "ipython3",
   "version": "3.6.13"
  }
 },
 "nbformat": 4,
 "nbformat_minor": 4
}
