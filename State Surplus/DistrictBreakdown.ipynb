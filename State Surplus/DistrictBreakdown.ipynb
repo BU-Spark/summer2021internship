{
 "cells": [
  {
   "cell_type": "code",
   "execution_count": 1,
   "source": [
    "import pandas as pd\n",
    "import geopandas as gpd\n",
    "import matplotlib.pyplot as plt\n",
    "import numpy as np\n",
    "import dataframe_image as dfi\n",
    "from shapely import wkt\n",
    "import sys\n",
    "# !{sys.executable} -m pip install contextily\n",
    "import contextily as ctx \n",
    "import matplotlib as mpl\n",
    "from pandas import ExcelWriter\n"
   ],
   "outputs": [
    {
     "output_type": "stream",
     "name": "stderr",
     "text": [
      "/usr/local/lib/python3.8/site-packages/geopandas/_compat.py:106: UserWarning: The Shapely GEOS version (3.8.0-CAPI-1.13.1 ) is incompatible with the GEOS version PyGEOS was compiled with (3.9.1-CAPI-1.14.2). Conversions between both will be slow.\n",
      "  warnings.warn(\n"
     ]
    }
   ],
   "metadata": {}
  },
  {
   "cell_type": "code",
   "execution_count": 2,
   "source": [
    "FilePath = '/Users/hoperuse/summer2021internship/State Surplus/final_data.geojson' # Replace with your own file path to csv of DOT parcels\n",
    "\n",
    "# Data - Pandas DataFrame holding all parcel data in the final data universe, dropping leftover garbarge index columns\n",
    "data = gpd.read_file(FilePath,index=False).drop(columns=['index'])\n",
    "\n",
    "# Removing the word \"District\" from the column holding the name of the corresponding districts for each parcel\n",
    "# to prep for geomerge with State House district lines shapefile.\n",
    "data['District'] = data['District'].str.replace(' District','')\n",
    "\n",
    "data = data.rename(columns={'District': 'REP_DIST'})\n",
    "\n",
    "data['lot_area_acres'] = data['lot_areaft']/43560\n",
    "\n",
    "# subsetData - filtered dataset of just those parcels with land use codes of 973 (vacant, DOH) and 975 (vacant, DOT)\n",
    "subsetData = data[data['luc_adj_2'].isin(['973','975'])] \n",
    "\n",
    "# MA House Leg Districts (https://www.mass.gov/info-details/massgis-data-massachusetts-house-legislative-districts#downloads-)\n",
    "houseDistricts = gpd.read_file('/Users/hoperuse/summer2021internship/State Surplus/house2012/HOUSE2012_POLY.shp')"
   ],
   "outputs": [],
   "metadata": {}
  },
  {
   "cell_type": "code",
   "execution_count": 3,
   "source": [
    "pd.reset_option('^display.', silent=True)"
   ],
   "outputs": [],
   "metadata": {}
  },
  {
   "cell_type": "code",
   "execution_count": 4,
   "source": [
    "data_districts = data.groupby('REP_DIST')"
   ],
   "outputs": [],
   "metadata": {}
  },
  {
   "cell_type": "code",
   "execution_count": 5,
   "source": [
    "with pd.ExcelWriter('/Users/hoperuse/summer2021internship/State Surplus/district_breakdowns.xlsx') as writer:\n",
    "    for district in list(data_districts.groups.keys()):\n",
    "        df = data_districts.get_group(district)\n",
    "        df.to_excel(writer, sheet_name=district,index=False)"
   ],
   "outputs": [],
   "metadata": {}
  },
  {
   "cell_type": "code",
   "execution_count": 6,
   "source": [
    "from pandas import ExcelWriter\n",
    "pd.options.display.float_format = '{:20,.2f}'.format\n",
    "\n",
    "with pd.ExcelWriter('/Users/hoperuse/summer2021internship/State Surplus/district_totals.xlsx') as writer:\n",
    "    for district in list(data_districts.groups.keys()):\n",
    "        df = data_districts.get_group(district)[['land_value','lot_areaft','lot_area_acres','numTransitStops','luc_adj_2']]\n",
    "        number_parcels = pd.Series(data = {0: len(df.index)}, name = 'number_parcels')\n",
    "        number_transit_friendly_parcels = pd.Series(data = { 0: len(df[df.numTransitStops.notna()])},name = 'number_transit_parcels')\n",
    "        number_ID_parcels = pd.Series(data = {0: len(df[df.luc_adj_2.isin(['973','975'])].index)}, name = 'number_ID_parcels')\n",
    "        df = pd.DataFrame(df.sum())\n",
    "        df = df.append([number_parcels,number_transit_friendly_parcels,number_ID_parcels])\n",
    "        df = df.drop(index = ['numTransitStops', 'luc_adj_2'])\n",
    "        df.to_excel(writer, sheet_name = district, index = True)\n"
   ],
   "outputs": [],
   "metadata": {}
  },
  {
   "cell_type": "code",
   "execution_count": 66,
   "source": [
    "allParcels = data.pivot_table(index='REP_DIST', values=['mapc_id','land_value','lot_areaft','lot_area_acres','numTransitStops'], aggfunc={'mapc_id':'count','land_value':sum,'lot_areaft':sum, 'lot_area_acres':sum,'numTransitStops':'count'}).reset_index()\n",
    "\n",
    "file = open(\"report.txt\", \"w\")\n",
    "\n",
    "file.write(\"ALL PARCELS: \\n\")\n",
    "file.write(\"Total Number of Parcels: \" + str(len(data.index)) + \"\\n\")\n",
    "file.write(\"Total Land Area of All Parcels (sq ft): \"+ str(data.lot_areaft.sum()) + '\\n')\n",
    "file.write(\"Total Land Area of All Parcels (acres): \" + str(data.lot_area_acres.sum()) + \"\\n\")\n",
    "file.write(\"Total Land Value of All Parcels: \" + '$' + str(data.land_value.sum()) + \"\\n\")\n",
    "file.write(\"Total Number of All Parcels with Transit Stops: \" + str(len(data[data.numTransitStops.notna()])) + \"\\n\")\n",
    "\n",
    "subsetParcels = subsetData.pivot_table(index='REP_DIST', values=['mapc_id','land_value','lot_areaft','lot_area_acres','numTransitStops'], aggfunc={'mapc_id':'count','land_value':sum,'lot_areaft':sum, 'lot_area_acres':sum,'numTransitStops':'count'}).reset_index()\n",
    "\n",
    "file.write('\\nSUBSET OF PARCELS: ' + str(subsetData.luc_adj_2.unique().flatten()) + \"\\n\")\n",
    "file.write(\"Total Number of Subset Parcels: \" + str(len(subsetData.index)) + \"\\n\")\n",
    "file.write(\"Total Land Area of Subset Parcels (sq ft): \" +  str(subsetData.lot_areaft.sum()) + \"\\n\")\n",
    "file.write(\"Total Land Area of Subset Parcels (acres): \" + str(subsetData.lot_area_acres.sum()) + \"\\n\")\n",
    "file.write(\"Total Land Value of Subset Parcels: \" + '$' + str(subsetData.land_value.sum()) + \"\\n\")\n",
    "file.write(\"Total Number of Subset Parcels with Transit Stops: \"+ str(len(subsetData[subsetData.numTransitStops.notna()])) + '\\n')\n",
    "file.close()"
   ],
   "outputs": [],
   "metadata": {}
  },
  {
   "cell_type": "code",
   "execution_count": 67,
   "source": [
    "pd.options.display.float_format = '{:.2f}'.format\n",
    "\n",
    "with pd.ExcelWriter('/Users/hoperuse/summer2021internship/State Surplus/rankings.xlsx') as writer:\n",
    "    for value in ['mapc_id','land_value','lot_area_acres']:\n",
    "        df1 = allParcels.sort_values(by=value,ascending=False).reset_index(drop=True)\n",
    "        df1 = df1[['REP_DIST', value]]\n",
    "\n",
    "        df2 = subsetParcels.sort_values(by=value,ascending=False).reset_index(drop=True)\n",
    "        df2 = df2[['REP_DIST', value]] \n",
    "\n",
    "        if value == 'lot_area_acres':\n",
    "            df1[value] = df1[value].astype(int)\n",
    "            df2[value] = df2[value].astype(int)\n",
    "\n",
    "        df1.to_excel(writer, sheet_name=value + '_all_parcels',index=False)\n",
    "        df2.to_excel(writer, sheet_name=value + '_subset_parcels',index=False)\n",
    "       "
   ],
   "outputs": [],
   "metadata": {}
  },
  {
   "cell_type": "code",
   "execution_count": 68,
   "source": [
    "members = ['David Henry Argosky Leboeuf (D)','James Arciero (D)','John H. Rogers (D)','Christopher Hendricks (D)','Patrick Joseph Kearney (D)','Mike Connolly (D)','Rob Consalvo (D)','Nika Elugardo (D)','Kip A. Diggs (D)','David F. DeCoste (R)','David K. Muradian, Jr. (R)']"
   ],
   "outputs": [],
   "metadata": {}
  },
  {
   "cell_type": "code",
   "execution_count": 71,
   "source": [
    "import pathlib\n",
    "for member in members:\n",
    "    new_dir = pathlib.Path('/Users/hoperuse/summer2021internship/State Surplus/district_maps/', '_'.join(member.split(' ')[:-1]))\n",
    "    new_dir.mkdir(parents=True, exist_ok=True)\n",
    "\n",
    "    district = houseDistricts[houseDistricts.REP == member]['REP_DIST'].values[0]\n",
    "    \n",
    "    base_map = houseDistricts[houseDistricts.REP == member]\n",
    "\n",
    "    ax = base_map.plot(figsize=(10, 10), alpha=0.5, edgecolor='k')\n",
    "\n",
    "    parcel_map = data[data.REP_DIST == district]\n",
    "\n",
    "    parcel_map.plot(ax=ax, marker='o', color='red', markersize=20,zorder=2)\n",
    "    ctx.add_basemap(ax,zoom=12)\n",
    "    ax.set_axis_off()\n",
    "\n",
    "    plt.savefig('/Users/hoperuse/summer2021internship/State Surplus/district_maps/' + '_'.join(member.split(' ')[:-1]) + '/' + district.replace(' ', '_') + '_map.png')\n",
    "    plt.close()\n",
    "\n",
    "    all_parcels_district = allParcels[allParcels.REP_DIST == district].reset_index(drop=True)\n",
    "    all_parcels_district = all_parcels_district.rename(columns = {'land_value': 'Total Land Value', 'lot_area_acres': 'Total Area (Acres)', 'mapc_id':'Total # Parcels','numTransitStops':'# Transit Friendly Parcels'}).transpose()\n",
    "    all_parcels_district.to_csv('/Users/hoperuse/summer2021internship/State Surplus/district_maps/' + '_'.join(member.split(' ')[:-1]) + '/' + district.replace(' ', '_') + '_all_parcels.csv')\n",
    "\n",
    "    subset_parcels_district = subsetParcels[subsetParcels.REP_DIST == district].reset_index(drop=True)\n",
    "    subset_parcels_district = subset_parcels_district.rename(columns = {'land_value': 'Total Land Value', 'lot_area_acres': 'Total Area (Acres)', 'mapc_id':'Total # Parcels','numTransitStops':'# Transit Friendly Parcels'}).transpose()\n",
    "    subset_parcels_district.to_csv('/Users/hoperuse/summer2021internship/State Surplus/district_maps/' + '_'.join(member.split(' ')[:-1]) + '/' + district.replace(' ', '_') + '_subset_parcels.csv')"
   ],
   "outputs": [
    {
     "output_type": "stream",
     "name": "stderr",
     "text": [
      "/usr/local/lib/python3.8/site-packages/geopandas/plotting.py:678: UserWarning: The GeoDataFrame you are attempting to plot is empty. Nothing has been displayed.\n",
      "  warnings.warn(\n",
      "/usr/local/lib/python3.8/site-packages/geopandas/plotting.py:678: UserWarning: The GeoDataFrame you are attempting to plot is empty. Nothing has been displayed.\n",
      "  warnings.warn(\n"
     ]
    }
   ],
   "metadata": {}
  }
 ],
 "metadata": {
  "orig_nbformat": 4,
  "language_info": {
   "name": "python",
   "version": "3.8.6",
   "mimetype": "text/x-python",
   "codemirror_mode": {
    "name": "ipython",
    "version": 3
   },
   "pygments_lexer": "ipython3",
   "nbconvert_exporter": "python",
   "file_extension": ".py"
  },
  "kernelspec": {
   "name": "python3",
   "display_name": "Python 3.8.6 64-bit"
  },
  "interpreter": {
   "hash": "aee8b7b246df8f9039afb4144a1f6fd8d2ca17a180786b69acc140d282b71a49"
  }
 },
 "nbformat": 4,
 "nbformat_minor": 2
}