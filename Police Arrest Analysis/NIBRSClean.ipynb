{
 "cells": [
  {
   "cell_type": "code",
   "execution_count": 272,
   "metadata": {},
   "outputs": [],
   "source": [
    "import pandas as pd\n",
    "import matplotlib.pyplot as plt"
   ]
  },
  {
   "cell_type": "code",
   "execution_count": 274,
   "metadata": {},
   "outputs": [],
   "source": [
    "for i in range(2016,2021):\n",
    "    filename = \"/Users/hoperuse/Downloads/NIBRS Agency Crime Overview \" + str(i) + \".csv\"\n",
    "    nibrs = pd.read_csv(filename)\n",
    "    \n",
    "    # GROUP B OFFENSES\n",
    "    groupB = nibrs.loc[4:13]\n",
    "    groupB = groupB.drop(columns=['Measures_Group_A_Crimes_per_100_000_population_Incident_Clearance_Incident_Clearance_Hierarchy_All_Clearance_Types','Total_Arrests','textbox71','textbox69','txtTotalUnknownAgeArrests','txtArrestsPer100000','textbox62'])\n",
    "    groupB = groupB.rename(columns={'textbox48':'Offense','Population_Estimate':'Arrests_Adult','Offense_Total':'Arrests_Juvenile'})\n",
    "    groupB = groupB.append({'Offense':'Total Group B', 'Arrests_Adult': groupB.at[4,'Number_Cleared'], 'Arrests_Juvenile': groupB.loc[4,'Percent_Cleared']},ignore_index=True)\n",
    "    groupB = groupB.drop(columns = ['Number_Cleared', 'Percent_Cleared'])\n",
    "    groupB['Classification'] = 'B'\n",
    "\n",
    "    # crimes against persons group A\n",
    "    groupACP = nibrs.loc[14:28]\n",
    "    groupACP = groupACP.drop(columns=['Number_Cleared','Percent_Cleared','Measures_Group_A_Crimes_per_100_000_population_Incident_Clearance_Incident_Clearance_Hierarchy_All_Clearance_Types','Total_Arrests','textbox71','textbox69','txtTotalUnknownAgeArrests','txtArrestsPer100000','textbox62'])\n",
    "    groupACP = groupACP.rename(columns={'textbox48':'Offense','Population_Estimate':'Offenses_Reported','Offense_Total':'Offenses_Cleared'})\n",
    "    groupACP = groupACP.drop(index = 14)\n",
    "\n",
    "    groupACP2 = nibrs.loc[30:43][['textbox48','Population_Estimate']]\n",
    "\n",
    "    groupACP.insert(3,'Arrests_Adult',groupACP2['textbox48'].values)\n",
    "    groupACP.insert(4,'Arrests_Juvenile',groupACP2['Population_Estimate'].values)\n",
    "    groupACP['Classification'] = 'A: Crimes Against Persons'\n",
    "\n",
    "    # crimes against property group A\n",
    "    groupACPr = nibrs.loc[44:69]\n",
    "    groupACPr = groupACPr.drop(columns=['Number_Cleared','Percent_Cleared','Measures_Group_A_Crimes_per_100_000_population_Incident_Clearance_Incident_Clearance_Hierarchy_All_Clearance_Types','Total_Arrests','textbox71','textbox69','txtTotalUnknownAgeArrests','txtArrestsPer100000','textbox62'])\n",
    "    groupACPr = groupACPr.drop(index=44)\n",
    "    groupACPr = groupACPr.rename(columns = {'textbox48':'Offense', 'Population_Estimate':'Offenses_Reported','Offense_Total':'Offenses_Cleared'})\n",
    "\n",
    "    groupACPr2 = nibrs.loc[71:95][['textbox48','Population_Estimate']]\n",
    "    groupACPr.insert(3,'Arrests_Adult',groupACPr2['textbox48'].values)\n",
    "    groupACPr.insert(4,'Arrests_Juvenile',groupACPr2['Population_Estimate'].values)\n",
    "    groupACPr['Classification'] = 'A: Crimes Against Property'\n",
    "\n",
    "    # crimes against society group A\n",
    "    groupACAS = nibrs.loc[97:108]\n",
    "    groupACAS = groupACAS.drop(columns=['Measures_Group_A_Crimes_per_100_000_population_Incident_Clearance_Incident_Clearance_Hierarchy_All_Clearance_Types','Total_Arrests','textbox71','textbox69','txtTotalUnknownAgeArrests','txtArrestsPer100000','textbox62'])\n",
    "    groupACAS = groupACAS.rename(columns={'textbox48':'Offense','Population_Estimate':'Offenses_Reported','Offense_Total':'Offenses_Cleared'})\n",
    "\n",
    "    groupACAS2 = nibrs.loc[109:]\n",
    "    groupACAS2 = groupACAS2.drop(columns=['Percent_Cleared','Measures_Group_A_Crimes_per_100_000_population_Incident_Clearance_Incident_Clearance_Hierarchy_All_Clearance_Types','Total_Arrests','textbox71','textbox69','txtTotalUnknownAgeArrests','txtArrestsPer100000','textbox62'])\n",
    "    groupACAS2.columns = groupACAS2.iloc[0]\n",
    "    groupACAS2 = groupACAS2.drop(index=109)\n",
    "\n",
    "    # collecting all of the totals values which were repeated across the document into a single row\n",
    "    row = {'Offense':'Total Group A Offenses','Offenses_Reported':groupACAS.at[108,'Number_Cleared'],'Offenses_Cleared':groupACAS.at[108,'Percent_Cleared'],'Arrests_Adult': groupACAS2.at[121, 'Total_Adult_Arrests'], 'Arrests_Juvenile':groupACAS2.at[121,'Total_Juvenile_Arrests']}\n",
    "\n",
    "    # inserting the correct data values to their corresponding indexes within the table for group A crimes against society\n",
    "    groupACAS.insert(3,'Arrests_Adult',groupACAS2['textbox139'].values)\n",
    "    groupACAS.insert(4,'Arrests_Juvenile',groupACAS2['textbox140'].values)\n",
    "    groupACAS = groupACAS.append(row,ignore_index=True)\n",
    "\n",
    "    groupACAS = groupACAS.drop(columns = ['Number_Cleared','Percent_Cleared'])\n",
    "    groupACAS['Classification'] = 'A: Crimes Against Society'\n",
    "\n",
    "    data = pd.DataFrame(columns = ['Offense', 'Arrests_Adult', 'Arrests_Juvenile', 'Offenses_Reported','Offenses_Cleared','Classification'])\n",
    "\n",
    "    data = data.append(groupACP, ignore_index=True)\n",
    "    data = data.append(groupACPr, ignore_index=True)\n",
    "    data= data.append(groupACAS, ignore_index=True)\n",
    "    data = data.append(groupB, ignore_index=True)\n",
    "    data['Year'] = i\n",
    "\n",
    "    out = \"nibrs_\" + str(i) + \".csv\"\n",
    "    data.to_csv(out)\n",
    "\n"
   ]
  },
  {
   "cell_type": "code",
   "execution_count": 280,
   "metadata": {},
   "outputs": [],
   "source": [
    "yr2016 = pd.read_csv('nibrs_2016.csv')\n",
    "yr2017 = pd.read_csv('nibrs_2017.csv')\n",
    "yr2018 = pd.read_csv('nibrs_2018.csv')\n",
    "yr2019 = pd.read_csv('nibrs_2019.csv')\n",
    "yr2020 = pd.read_csv('nibrs_2020.csv')\n",
    "\n",
    "allTime = pd.concat([yr2016,yr2017,yr2018,yr2019,yr2020],ignore_index=True)\n",
    "allTime = allTime.drop(allTime.columns[0],axis=1)\n",
    "allTime.to_csv('cumulativeNIBRS.csv')"
   ]
  }
 ],
 "metadata": {
  "interpreter": {
   "hash": "aee8b7b246df8f9039afb4144a1f6fd8d2ca17a180786b69acc140d282b71a49"
  },
  "kernelspec": {
   "display_name": "Python 3.8.6 64-bit",
   "name": "python3"
  },
  "language_info": {
   "codemirror_mode": {
    "name": "ipython",
    "version": 3
   },
   "file_extension": ".py",
   "mimetype": "text/x-python",
   "name": "python",
   "nbconvert_exporter": "python",
   "pygments_lexer": "ipython3",
   "version": "3.8.6"
  },
  "orig_nbformat": 4
 },
 "nbformat": 4,
 "nbformat_minor": 2
}