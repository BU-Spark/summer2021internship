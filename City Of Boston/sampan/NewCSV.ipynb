{
 "cells": [
  {
   "cell_type": "code",
   "execution_count": 6,
   "id": "c83a0b5c",
   "metadata": {},
   "outputs": [],
   "source": [
    "# Import libraries\n",
    "import pandas as pd\n",
    "import numpy as np\n",
    "import math\n",
    "from csv import writer\n",
    "csv_wrtr = writer(open('more-data.csv', 'a'))\n",
    "\n",
    "ds = pd.read_csv('data.csv') #as double array (csv)\n",
    "r, c = ds.shape"
   ]
  },
  {
   "cell_type": "code",
   "execution_count": 5,
   "id": "cb7000bc",
   "metadata": {},
   "outputs": [],
   "source": [
    "setit = true\n",
    "counter = 0\n",
    "for row in range(r):\n",
    "    if(setit):\n",
    "        setit = false\n",
    "        counter += 1\n",
    "        date, title\n",
    "    else:\n",
    "        "
   ]
  },
  {
   "cell_type": "code",
   "execution_count": null,
   "id": "a2e683e1",
   "metadata": {},
   "outputs": [],
   "source": []
  }
 ],
 "metadata": {
  "kernelspec": {
   "display_name": "Python 3 (ipykernel)",
   "language": "python",
   "name": "python3"
  },
  "language_info": {
   "codemirror_mode": {
    "name": "ipython",
    "version": 3
   },
   "file_extension": ".py",
   "mimetype": "text/x-python",
   "name": "python",
   "nbconvert_exporter": "python",
   "pygments_lexer": "ipython3",
   "version": "3.8.5"
  }
 },
 "nbformat": 4,
 "nbformat_minor": 5
}
