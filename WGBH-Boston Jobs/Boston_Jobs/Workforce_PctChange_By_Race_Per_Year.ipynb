{
 "cells": [
  {
   "cell_type": "code",
   "execution_count": 1,
   "metadata": {},
   "outputs": [],
   "source": [
    "import pandas as pd\n",
    "import numpy as np\n",
    "\n",
    "df = pd.read_csv('NumberOfJobsToMinorities_PerYear.csv', index_col=1, parse_dates=True)"
   ]
  },
  {
   "cell_type": "code",
   "execution_count": 2,
   "metadata": {},
   "outputs": [
    {
     "data": {
      "text/html": [
       "<div>\n",
       "<style scoped>\n",
       "    .dataframe tbody tr th:only-of-type {\n",
       "        vertical-align: middle;\n",
       "    }\n",
       "\n",
       "    .dataframe tbody tr th {\n",
       "        vertical-align: top;\n",
       "    }\n",
       "\n",
       "    .dataframe thead th {\n",
       "        text-align: right;\n",
       "    }\n",
       "</style>\n",
       "<table border=\"1\" class=\"dataframe\">\n",
       "  <thead>\n",
       "    <tr style=\"text-align: right;\">\n",
       "      <th></th>\n",
       "      <th>Unnamed: 0</th>\n",
       "      <th>CAUCASIAN</th>\n",
       "      <th>AFRICAN_AMERICAN</th>\n",
       "      <th>HISPANIC</th>\n",
       "      <th>ASIAN</th>\n",
       "      <th>OTHER</th>\n",
       "      <th>TOTAL</th>\n",
       "    </tr>\n",
       "    <tr>\n",
       "      <th>YEAR</th>\n",
       "      <th></th>\n",
       "      <th></th>\n",
       "      <th></th>\n",
       "      <th></th>\n",
       "      <th></th>\n",
       "      <th></th>\n",
       "      <th></th>\n",
       "    </tr>\n",
       "  </thead>\n",
       "  <tbody>\n",
       "    <tr>\n",
       "      <th>2016</th>\n",
       "      <td>2016</td>\n",
       "      <td>42263</td>\n",
       "      <td>13988</td>\n",
       "      <td>14400</td>\n",
       "      <td>2262</td>\n",
       "      <td>1395</td>\n",
       "      <td>74308</td>\n",
       "    </tr>\n",
       "    <tr>\n",
       "      <th>2017</th>\n",
       "      <td>2017</td>\n",
       "      <td>71055</td>\n",
       "      <td>26562</td>\n",
       "      <td>28763</td>\n",
       "      <td>3696</td>\n",
       "      <td>2499</td>\n",
       "      <td>132575</td>\n",
       "    </tr>\n",
       "    <tr>\n",
       "      <th>2018</th>\n",
       "      <td>2018</td>\n",
       "      <td>76966</td>\n",
       "      <td>28796</td>\n",
       "      <td>31493</td>\n",
       "      <td>4249</td>\n",
       "      <td>2851</td>\n",
       "      <td>144355</td>\n",
       "    </tr>\n",
       "    <tr>\n",
       "      <th>2019</th>\n",
       "      <td>2019</td>\n",
       "      <td>81180</td>\n",
       "      <td>32957</td>\n",
       "      <td>33406</td>\n",
       "      <td>4408</td>\n",
       "      <td>3385</td>\n",
       "      <td>155336</td>\n",
       "    </tr>\n",
       "    <tr>\n",
       "      <th>2020</th>\n",
       "      <td>2020</td>\n",
       "      <td>60426</td>\n",
       "      <td>20863</td>\n",
       "      <td>21836</td>\n",
       "      <td>2785</td>\n",
       "      <td>1845</td>\n",
       "      <td>107755</td>\n",
       "    </tr>\n",
       "    <tr>\n",
       "      <th>2021</th>\n",
       "      <td>2021</td>\n",
       "      <td>10973</td>\n",
       "      <td>4051</td>\n",
       "      <td>4241</td>\n",
       "      <td>536</td>\n",
       "      <td>332</td>\n",
       "      <td>20133</td>\n",
       "    </tr>\n",
       "  </tbody>\n",
       "</table>\n",
       "</div>"
      ],
      "text/plain": [
       "      Unnamed: 0  CAUCASIAN  AFRICAN_AMERICAN  HISPANIC  ASIAN  OTHER   TOTAL\n",
       "YEAR                                                                         \n",
       "2016        2016      42263             13988     14400   2262   1395   74308\n",
       "2017        2017      71055             26562     28763   3696   2499  132575\n",
       "2018        2018      76966             28796     31493   4249   2851  144355\n",
       "2019        2019      81180             32957     33406   4408   3385  155336\n",
       "2020        2020      60426             20863     21836   2785   1845  107755\n",
       "2021        2021      10973              4051      4241    536    332   20133"
      ]
     },
     "execution_count": 2,
     "metadata": {},
     "output_type": "execute_result"
    }
   ],
   "source": [
    "# convert index to yearly DateTime object\n",
    "df.index = df.index.to_period('Y')\n",
    "df"
   ]
  },
  {
   "cell_type": "code",
   "execution_count": 3,
   "metadata": {},
   "outputs": [],
   "source": [
    "df = df.drop(['Unnamed: 0'], axis=1)"
   ]
  },
  {
   "cell_type": "code",
   "execution_count": 4,
   "metadata": {},
   "outputs": [
    {
     "data": {
      "text/html": [
       "<div>\n",
       "<style scoped>\n",
       "    .dataframe tbody tr th:only-of-type {\n",
       "        vertical-align: middle;\n",
       "    }\n",
       "\n",
       "    .dataframe tbody tr th {\n",
       "        vertical-align: top;\n",
       "    }\n",
       "\n",
       "    .dataframe thead th {\n",
       "        text-align: right;\n",
       "    }\n",
       "</style>\n",
       "<table border=\"1\" class=\"dataframe\">\n",
       "  <thead>\n",
       "    <tr style=\"text-align: right;\">\n",
       "      <th></th>\n",
       "      <th>CAUCASIAN</th>\n",
       "      <th>AFRICAN_AMERICAN</th>\n",
       "      <th>HISPANIC</th>\n",
       "      <th>ASIAN</th>\n",
       "      <th>OTHER</th>\n",
       "      <th>TOTAL</th>\n",
       "    </tr>\n",
       "    <tr>\n",
       "      <th>YEAR</th>\n",
       "      <th></th>\n",
       "      <th></th>\n",
       "      <th></th>\n",
       "      <th></th>\n",
       "      <th></th>\n",
       "      <th></th>\n",
       "    </tr>\n",
       "  </thead>\n",
       "  <tbody>\n",
       "    <tr>\n",
       "      <th>2016</th>\n",
       "      <td>42263</td>\n",
       "      <td>13988</td>\n",
       "      <td>14400</td>\n",
       "      <td>2262</td>\n",
       "      <td>1395</td>\n",
       "      <td>74308</td>\n",
       "    </tr>\n",
       "    <tr>\n",
       "      <th>2017</th>\n",
       "      <td>71055</td>\n",
       "      <td>26562</td>\n",
       "      <td>28763</td>\n",
       "      <td>3696</td>\n",
       "      <td>2499</td>\n",
       "      <td>132575</td>\n",
       "    </tr>\n",
       "    <tr>\n",
       "      <th>2018</th>\n",
       "      <td>76966</td>\n",
       "      <td>28796</td>\n",
       "      <td>31493</td>\n",
       "      <td>4249</td>\n",
       "      <td>2851</td>\n",
       "      <td>144355</td>\n",
       "    </tr>\n",
       "    <tr>\n",
       "      <th>2019</th>\n",
       "      <td>81180</td>\n",
       "      <td>32957</td>\n",
       "      <td>33406</td>\n",
       "      <td>4408</td>\n",
       "      <td>3385</td>\n",
       "      <td>155336</td>\n",
       "    </tr>\n",
       "    <tr>\n",
       "      <th>2020</th>\n",
       "      <td>60426</td>\n",
       "      <td>20863</td>\n",
       "      <td>21836</td>\n",
       "      <td>2785</td>\n",
       "      <td>1845</td>\n",
       "      <td>107755</td>\n",
       "    </tr>\n",
       "    <tr>\n",
       "      <th>2021</th>\n",
       "      <td>10973</td>\n",
       "      <td>4051</td>\n",
       "      <td>4241</td>\n",
       "      <td>536</td>\n",
       "      <td>332</td>\n",
       "      <td>20133</td>\n",
       "    </tr>\n",
       "  </tbody>\n",
       "</table>\n",
       "</div>"
      ],
      "text/plain": [
       "      CAUCASIAN  AFRICAN_AMERICAN  HISPANIC  ASIAN  OTHER   TOTAL\n",
       "YEAR                                                             \n",
       "2016      42263             13988     14400   2262   1395   74308\n",
       "2017      71055             26562     28763   3696   2499  132575\n",
       "2018      76966             28796     31493   4249   2851  144355\n",
       "2019      81180             32957     33406   4408   3385  155336\n",
       "2020      60426             20863     21836   2785   1845  107755\n",
       "2021      10973              4051      4241    536    332   20133"
      ]
     },
     "execution_count": 4,
     "metadata": {},
     "output_type": "execute_result"
    }
   ],
   "source": [
    "df"
   ]
  },
  {
   "cell_type": "code",
   "execution_count": 5,
   "metadata": {},
   "outputs": [
    {
     "data": {
      "text/html": [
       "<div>\n",
       "<style scoped>\n",
       "    .dataframe tbody tr th:only-of-type {\n",
       "        vertical-align: middle;\n",
       "    }\n",
       "\n",
       "    .dataframe tbody tr th {\n",
       "        vertical-align: top;\n",
       "    }\n",
       "\n",
       "    .dataframe thead th {\n",
       "        text-align: right;\n",
       "    }\n",
       "</style>\n",
       "<table border=\"1\" class=\"dataframe\">\n",
       "  <thead>\n",
       "    <tr style=\"text-align: right;\">\n",
       "      <th></th>\n",
       "      <th>CAUCASIAN</th>\n",
       "      <th>AFRICAN_AMERICAN</th>\n",
       "      <th>HISPANIC</th>\n",
       "      <th>ASIAN</th>\n",
       "      <th>OTHER</th>\n",
       "    </tr>\n",
       "    <tr>\n",
       "      <th>YEAR</th>\n",
       "      <th></th>\n",
       "      <th></th>\n",
       "      <th></th>\n",
       "      <th></th>\n",
       "      <th></th>\n",
       "    </tr>\n",
       "  </thead>\n",
       "  <tbody>\n",
       "    <tr>\n",
       "      <th>2017</th>\n",
       "      <td>0.681258</td>\n",
       "      <td>0.898913</td>\n",
       "      <td>0.997431</td>\n",
       "      <td>0.633952</td>\n",
       "      <td>0.791398</td>\n",
       "    </tr>\n",
       "    <tr>\n",
       "      <th>2018</th>\n",
       "      <td>0.083189</td>\n",
       "      <td>0.084105</td>\n",
       "      <td>0.094914</td>\n",
       "      <td>0.149621</td>\n",
       "      <td>0.140856</td>\n",
       "    </tr>\n",
       "    <tr>\n",
       "      <th>2019</th>\n",
       "      <td>0.054751</td>\n",
       "      <td>0.144499</td>\n",
       "      <td>0.060744</td>\n",
       "      <td>0.037421</td>\n",
       "      <td>0.187303</td>\n",
       "    </tr>\n",
       "    <tr>\n",
       "      <th>2020</th>\n",
       "      <td>-0.255654</td>\n",
       "      <td>-0.366963</td>\n",
       "      <td>-0.346345</td>\n",
       "      <td>-0.368194</td>\n",
       "      <td>-0.454948</td>\n",
       "    </tr>\n",
       "    <tr>\n",
       "      <th>2021</th>\n",
       "      <td>-0.818406</td>\n",
       "      <td>-0.805829</td>\n",
       "      <td>-0.805779</td>\n",
       "      <td>-0.807540</td>\n",
       "      <td>-0.820054</td>\n",
       "    </tr>\n",
       "  </tbody>\n",
       "</table>\n",
       "</div>"
      ],
      "text/plain": [
       "      CAUCASIAN  AFRICAN_AMERICAN  HISPANIC     ASIAN     OTHER\n",
       "YEAR                                                           \n",
       "2017   0.681258          0.898913  0.997431  0.633952  0.791398\n",
       "2018   0.083189          0.084105  0.094914  0.149621  0.140856\n",
       "2019   0.054751          0.144499  0.060744  0.037421  0.187303\n",
       "2020  -0.255654         -0.366963 -0.346345 -0.368194 -0.454948\n",
       "2021  -0.818406         -0.805829 -0.805779 -0.807540 -0.820054"
      ]
     },
     "execution_count": 5,
     "metadata": {},
     "output_type": "execute_result"
    }
   ],
   "source": [
    "comp_change = df.pct_change().dropna()\n",
    "comp_change = comp_change.drop(['TOTAL'], axis=1)\n",
    "comp_change"
   ]
  },
  {
   "cell_type": "code",
   "execution_count": 6,
   "metadata": {},
   "outputs": [
    {
     "data": {
      "text/plain": [
       "<AxesSubplot:title={'center':'Percentage Change For Each Race Per Year'}, xlabel='YEAR'>"
      ]
     },
     "execution_count": 6,
     "metadata": {},
     "output_type": "execute_result"
    },
    {
     "data": {
      "image/png": "[encoded data removed]",
      "text/plain": [
       "<Figure size 864x432 with 1 Axes>"
      ]
     },
     "metadata": {
      "needs_background": "light"
     },
     "output_type": "display_data"
    }
   ],
   "source": [
    "comp_change.plot(figsize=(12, 6), legend=True, title='Percentage Change For Each Race Per Year')"
   ]
  },
  {
   "cell_type": "code",
   "execution_count": 7,
   "metadata": {},
   "outputs": [
    {
     "data": {
      "text/plain": [
       "<AxesSubplot:title={'center':'Percentage Change For Each Race Per Year'}, xlabel='YEAR'>"
      ]
     },
     "execution_count": 7,
     "metadata": {},
     "output_type": "execute_result"
    },
    {
     "data": {
      "image/png": "[encoded data removed]",
      "text/plain": [
       "<Figure size 864x432 with 1 Axes>"
      ]
     },
     "metadata": {
      "needs_background": "light"
     },
     "output_type": "display_data"
    }
   ],
   "source": [
    "comp_change.plot(kind='bar', figsize=(12, 6), legend=True, title='Percentage Change For Each Race Per Year')"
   ]
  }
 ],
 "metadata": {
  "kernelspec": {
   "display_name": "Python 3",
   "language": "python",
   "name": "python3"
  },
  "language_info": {
   "codemirror_mode": {
    "name": "ipython",
    "version": 3
   },
   "file_extension": ".py",
   "mimetype": "text/x-python",
   "name": "python",
   "nbconvert_exporter": "python",
   "pygments_lexer": "ipython3",
   "version": "3.8.5"
  }
 },
 "nbformat": 4,
 "nbformat_minor": 4
}
