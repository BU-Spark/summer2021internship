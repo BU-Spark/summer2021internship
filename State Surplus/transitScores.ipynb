{
 "cells": [
  {
   "cell_type": "code",
   "execution_count": 8,
   "metadata": {},
   "outputs": [],
   "source": [
    "import pandas as pd\n",
    "import numpy as np\n",
    "from walkscore import WalkScoreAPI"
   ]
  },
  {
   "cell_type": "code",
   "execution_count": 9,
   "metadata": {},
   "outputs": [],
   "source": [
    "# Replace with your own file path to csv of parcels\n",
    "FilePath = '/Users/hoperuse/summer2021internship/State Surplus/vacant_transportation_authority.csv'\n",
    "dot = pd.read_csv(FilePath)"
   ]
  },
  {
   "cell_type": "code",
   "execution_count": 10,
   "metadata": {},
   "outputs": [],
   "source": [
    "# Add your own WalkScore API key: https://www.walkscore.com/professional/api.php\n",
    "api_key = 'XXXXX'\n",
    "\n",
    "# Using Python library to access WalkScore\n",
    "walkscore_api = WalkScoreAPI(api_key = api_key)\n",
    "\n",
    "# Creating three columns for the corresponding scores in the DOT frame, and filling them with initial Null values\n",
    "dot['TransitScore'] = np.nan\n",
    "dot['WalkScore'] = np.nan\n",
    "dot['BikeScore'] = np.nan\n",
    "\n",
    "for i in range(len(dot.index)):\n",
    "    lat = dot.loc[i,'latitude']\n",
    "    long = dot.loc[i,'longitude']\n",
    "    \n",
    "    # If a given tuple doesn't have valid longitude / latitude coordinates, the API cannot calculate any scores, so set all to nan and \n",
    "    # continue to the next iteration\n",
    "    if np.isnan(lat) or np.isnan(long): \n",
    "        dot.at[i, 'TransitScore'] = np.nan\n",
    "        dot.at[i,'WalkScore'] = np.nan\n",
    "        dot.at[i, 'BikeScore'] = np.nan\n",
    "        continue\n",
    "    \n",
    "    # Collecting the individual values for street number, street, and zipcode to construct an address string\n",
    "    streetNum = dot.loc[i,'addr_num']\n",
    "    street = dot.loc[i,'addr_str']\n",
    "    zipcode = dot.loc[i,'addr_zip']\n",
    "\n",
    "    # If any of the address values are null, the WalkScore API will be called just using the longitude and latitidue coordinates\n",
    "    if np.isnan(streetNum) or np.isnan(street) or np.isnan(zipcode):\n",
    "       result = walkscore_api.get_score(latitude = lat, longitude = long) \n",
    "    else:\n",
    "        if len(str(zipcode)) == 4:\n",
    "            zipcode = '0' + str(zipcode)\n",
    "        address = str(streetNum) + ' ' + str(street) + ', MA ' + str(zipcode)\n",
    "        result = walkscore_api.get_score(latitude = lat, longitude = long, address=address)  \n",
    "\n",
    "    if np.isnan(result.transit_score):\n",
    "        # The walkscore API does not offer transit score calculations for many cities, whereas it will always return a walk / bike score, \n",
    "        # so a lot of the returned transit values are empty\n",
    "        dot.at[i, 'TransitScore'] = np.nan\n",
    "    else:\n",
    "        dot.at[i, 'TransitScore'] = result.transit_score\n",
    "    dot.at[i,'WalkScore'] = result.walk_score\n",
    "    dot.at[i, 'BikeScore'] = result.bike_score\n"
   ]
  },
  {
   "cell_type": "code",
   "execution_count": 11,
   "metadata": {},
   "outputs": [],
   "source": [
    "# load dataframe with transit information to CSV\n",
    "dot.to_csv('DOTtransitScores.csv')"
   ]
  }
 ],
 "metadata": {
  "interpreter": {
   "hash": "aee8b7b246df8f9039afb4144a1f6fd8d2ca17a180786b69acc140d282b71a49"
  },
  "kernelspec": {
   "display_name": "Python 3.8.6 64-bit",
   "name": "python3"
  },
  "language_info": {
   "codemirror_mode": {
    "name": "ipython",
    "version": 3
   },
   "file_extension": ".py",
   "mimetype": "text/x-python",
   "name": "python",
   "nbconvert_exporter": "python",
   "pygments_lexer": "ipython3",
   "version": "3.8.6"
  },
  "orig_nbformat": 4
 },
 "nbformat": 4,
 "nbformat_minor": 2
}
