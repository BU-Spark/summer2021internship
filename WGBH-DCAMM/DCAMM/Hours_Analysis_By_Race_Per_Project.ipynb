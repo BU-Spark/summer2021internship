{
 "cells": [
  {
   "cell_type": "code",
   "execution_count": 1,
   "metadata": {},
   "outputs": [],
   "source": [
    "import pandas as pd\n",
    "import numpy\n",
    "import matplotlib.pyplot as plt"
   ]
  },
  {
   "cell_type": "code",
   "execution_count": 2,
   "metadata": {},
   "outputs": [
    {
     "name": "stdout",
     "output_type": "stream",
     "text": [
      "(7422, 18)\n"
     ]
    },
    {
     "data": {
      "text/plain": [
       "(14844, 18)"
      ]
     },
     "execution_count": 2,
     "metadata": {},
     "output_type": "execute_result"
    }
   ],
   "source": [
    "# combine data for apprentices and journeymen\n",
    "filename1 = 'WorkforceUtilizationReport-Apprentice.csv'\n",
    "filename2 = 'WorkforceUtilizationReport-Journeymen.csv'\n",
    "df = pd.read_csv(filename1)\n",
    "temp_df = pd.read_csv(filename2)\n",
    "\n",
    "df = pd.concat([df, temp_df], join='inner')\n",
    "\n",
    "print(temp_df.shape)\n",
    "df.shape"
   ]
  },
  {
   "cell_type": "code",
   "execution_count": 3,
   "metadata": {},
   "outputs": [],
   "source": [
    "# get the list of unique projects\n",
    "projects_list = df['PROJECT_CODE'].unique()\n",
    "\n",
    "# group into different DataFrames by project code\n",
    "project_groups = df.groupby(df.PROJECT_CODE)\n",
    "\n",
    "agg_df = pd.DataFrame(columns=['PROJECT_CODE', 'CAUCASIAN', 'AFRICAN_AMERICAN', 'HISPANIC', 'ASIAN', 'NATIVE_AMERICAN'])\n",
    "\n",
    "# for each project, find the mean hours assigned to employees from different races\n",
    "for i in range(len(projects_list)):\n",
    "    temp_df = project_groups.get_group(projects_list[i])\n",
    "    agg_df.loc[i] = [projects_list[i], temp_df['CAUCASIAN'].mean(), temp_df['AFRICAN_AMERICAN'].mean(), temp_df['HISPANIC'].mean(),\n",
    "                     temp_df['ASIAN'].mean(), temp_df['NATIVE_AMERICAN'].mean()]"
   ]
  },
  {
   "cell_type": "code",
   "execution_count": 4,
   "metadata": {},
   "outputs": [
    {
     "data": {
      "text/html": [
       "<div>\n",
       "<style scoped>\n",
       "    .dataframe tbody tr th:only-of-type {\n",
       "        vertical-align: middle;\n",
       "    }\n",
       "\n",
       "    .dataframe tbody tr th {\n",
       "        vertical-align: top;\n",
       "    }\n",
       "\n",
       "    .dataframe thead th {\n",
       "        text-align: right;\n",
       "    }\n",
       "</style>\n",
       "<table border=\"1\" class=\"dataframe\">\n",
       "  <thead>\n",
       "    <tr style=\"text-align: right;\">\n",
       "      <th></th>\n",
       "      <th>PROJECT_CODE</th>\n",
       "      <th>CAUCASIAN</th>\n",
       "      <th>AFRICAN_AMERICAN</th>\n",
       "      <th>HISPANIC</th>\n",
       "      <th>ASIAN</th>\n",
       "      <th>NATIVE_AMERICAN</th>\n",
       "    </tr>\n",
       "  </thead>\n",
       "  <tbody>\n",
       "    <tr>\n",
       "      <th>0</th>\n",
       "      <td>AEP 1407E UT1</td>\n",
       "      <td>1.333333</td>\n",
       "      <td>0.000000</td>\n",
       "      <td>1.333333</td>\n",
       "      <td>2.666667</td>\n",
       "      <td>0.000000</td>\n",
       "    </tr>\n",
       "    <tr>\n",
       "      <th>1</th>\n",
       "      <td>CME0902 DC1 CM</td>\n",
       "      <td>34.727991</td>\n",
       "      <td>1.696594</td>\n",
       "      <td>5.947344</td>\n",
       "      <td>0.278868</td>\n",
       "      <td>0.000000</td>\n",
       "    </tr>\n",
       "    <tr>\n",
       "      <th>2</th>\n",
       "      <td>DMH1301 DC1 C</td>\n",
       "      <td>104.360119</td>\n",
       "      <td>9.262897</td>\n",
       "      <td>5.341270</td>\n",
       "      <td>0.000000</td>\n",
       "      <td>0.000000</td>\n",
       "    </tr>\n",
       "    <tr>\n",
       "      <th>3</th>\n",
       "      <td>DPH1350E EC1</td>\n",
       "      <td>19.554598</td>\n",
       "      <td>0.031609</td>\n",
       "      <td>11.936782</td>\n",
       "      <td>0.275862</td>\n",
       "      <td>0.000000</td>\n",
       "    </tr>\n",
       "    <tr>\n",
       "      <th>4</th>\n",
       "      <td>HCC0801 DC2</td>\n",
       "      <td>77.788371</td>\n",
       "      <td>3.603107</td>\n",
       "      <td>9.662900</td>\n",
       "      <td>0.291902</td>\n",
       "      <td>0.311676</td>\n",
       "    </tr>\n",
       "  </tbody>\n",
       "</table>\n",
       "</div>"
      ],
      "text/plain": [
       "     PROJECT_CODE   CAUCASIAN  AFRICAN_AMERICAN   HISPANIC     ASIAN  \\\n",
       "0   AEP 1407E UT1    1.333333          0.000000   1.333333  2.666667   \n",
       "1  CME0902 DC1 CM   34.727991          1.696594   5.947344  0.278868   \n",
       "2   DMH1301 DC1 C  104.360119          9.262897   5.341270  0.000000   \n",
       "3    DPH1350E EC1   19.554598          0.031609  11.936782  0.275862   \n",
       "4     HCC0801 DC2   77.788371          3.603107   9.662900  0.291902   \n",
       "\n",
       "   NATIVE_AMERICAN  \n",
       "0         0.000000  \n",
       "1         0.000000  \n",
       "2         0.000000  \n",
       "3         0.000000  \n",
       "4         0.311676  "
      ]
     },
     "execution_count": 4,
     "metadata": {},
     "output_type": "execute_result"
    }
   ],
   "source": [
    "agg_df.head()"
   ]
  },
  {
   "cell_type": "code",
   "execution_count": 5,
   "metadata": {},
   "outputs": [],
   "source": [
    "filename = r'Mean_Hours_Assigned_By_Project.csv'\n",
    "agg_df.to_csv(filename, index = True)"
   ]
  },
  {
   "cell_type": "code",
   "execution_count": null,
   "metadata": {},
   "outputs": [],
   "source": []
  }
 ],
 "metadata": {
  "kernelspec": {
   "display_name": "Python 3",
   "language": "python",
   "name": "python3"
  },
  "language_info": {
   "codemirror_mode": {
    "name": "ipython",
    "version": 3
   },
   "file_extension": ".py",
   "mimetype": "text/x-python",
   "name": "python",
   "nbconvert_exporter": "python",
   "pygments_lexer": "ipython3",
   "version": "3.8.8"
  }
 },
 "nbformat": 4,
 "nbformat_minor": 4
}
