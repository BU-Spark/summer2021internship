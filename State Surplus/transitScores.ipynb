{
 "cells": [
  {
   "cell_type": "code",
   "execution_count": 69,
   "metadata": {},
   "outputs": [],
   "source": [
    "import pandas as pd\n",
    "import numpy as np\n",
    "import urllib3\n",
    "import urllib.request as re\n",
    "import json"
   ]
  },
  {
   "cell_type": "code",
   "execution_count": 91,
   "metadata": {},
   "outputs": [],
   "source": [
    "# Replace with your own file path to csv of parcels\n",
    "FilePath = '/Users/hoperuse/summer2021internship/State Surplus/final_data.csv'\n",
    "df = pd.read_csv(FilePath,index_col = False).drop(columns=['Unnamed: 0', 'index'])\n",
    "\n",
    "# Filtering for parcels with some value in the numTransitStops column\n",
    "df = df[df['numTransitStops'].notna()].reset_index(drop=True)\n",
    "\n",
    "# Create appropriate columns for each score value, and filling each with initial null values\n",
    "df['TransitScore'] = np.nan\n",
    "df['WalkScore'] = np.nan\n",
    "df['BikeScore'] = np.nan"
   ]
  },
  {
   "cell_type": "code",
   "execution_count": null,
   "metadata": {},
   "outputs": [],
   "source": [
    "# Replace with your own WalkScore API key: https://www.walkscore.com/professional/api.php\n",
    "api_key = '9c3fc53f0a33c604bd6a3e9c141ab7a6'\n",
    "url = 'http://api.walkscore.com/score?format=json'\n",
    "\n",
    "errors = 0\n",
    "for i in range(len(df.index)):\n",
    "   \n",
    "    latitude = df.loc[i,'latitude']\n",
    "    longitude = df.loc[i,'longitude']\n",
    "\n",
    "    # If a given tuple doesn't have valid longitude / latitude coordinates, the API cannot calculate any scores, so set all to nan and \n",
    "    # continue to the next iteration\n",
    "    if pd.isna(latitude) or pd.isna(longitude): \n",
    "        df.at[i, 'TransitScore'] = np.nan\n",
    "        df.at[i,'WalkScore'] = np.nan\n",
    "        df.at[i, 'BikeScore'] = np.nan\n",
    "        continue\n",
    "    try:\n",
    "        request = url + '&lat=' + str(latitude) +'&lon=' + str(longitude) + '&transit=1&bike=1&wsapikey=' + api_key\n",
    "        response = re.urlopen(request)\n",
    "        data = json.load(response)\n",
    "\n",
    "        # Using try statements to access each response from the API, as some locations don't return any of the values\n",
    "        try:\n",
    "            df.at[i, 'WalkScore'] = data['walkscore']\n",
    "        except KeyError:\n",
    "            df.at[i, 'WalkScore'] = np.nan\n",
    "            \n",
    "        try:\n",
    "            df.at[i, 'TransitScore'] = data['transit']['score']\n",
    "        except KeyError:\n",
    "            df.at[i, 'TransitScore'] = np.nan\n",
    "\n",
    "        try:\n",
    "            df.at[i, 'BikeScore'] = data['bike']['score']\n",
    "        except KeyError:\n",
    "            df.at[i, 'BikeScore'] = np.nan\n",
    "    \n",
    "    except urllib3.exceptions.HTTPError as e:\n",
    "        errors += 1\n",
    "        print(e)\n",
    "\n",
    "print('There were ' + str(errors) + ' errors...')"
   ]
  },
  {
   "cell_type": "code",
   "execution_count": 99,
   "metadata": {},
   "outputs": [],
   "source": [
    "# load dataframe with transit information to CSV\n",
    "df.to_csv('TransitScores.csv',index=False)"
   ]
  }
 ],
 "metadata": {
  "interpreter": {
   "hash": "aee8b7b246df8f9039afb4144a1f6fd8d2ca17a180786b69acc140d282b71a49"
  },
  "kernelspec": {
   "display_name": "Python 3.8.6 64-bit",
   "name": "python3"
  },
  "language_info": {
   "codemirror_mode": {
    "name": "ipython",
    "version": 3
   },
   "file_extension": ".py",
   "mimetype": "text/x-python",
   "name": "python",
   "nbconvert_exporter": "python",
   "pygments_lexer": "ipython3",
   "version": "3.8.6"
  },
  "orig_nbformat": 4
 },
 "nbformat": 4,
 "nbformat_minor": 2
}