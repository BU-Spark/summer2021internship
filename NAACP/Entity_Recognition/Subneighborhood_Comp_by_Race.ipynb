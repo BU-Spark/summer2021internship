{
 "cells": [
  {
   "cell_type": "code",
   "execution_count": 1,
   "metadata": {},
   "outputs": [],
   "source": [
    "import spacy\n",
    "import pandas as pd\n",
    "import en_core_web_md\n",
    "import ast"
   ]
  },
  {
   "cell_type": "code",
   "execution_count": 2,
   "metadata": {},
   "outputs": [],
   "source": [
    "# load medium English model in case we need to work with vectors\n",
    "nlp = en_core_web_md.load()"
   ]
  },
  {
   "cell_type": "code",
   "execution_count": 3,
   "metadata": {},
   "outputs": [],
   "source": [
    "df = pd.read_csv('../Word2Vec/subneighborhood_separated_articles/2018.csv')"
   ]
  },
  {
   "cell_type": "code",
   "execution_count": 4,
   "metadata": {},
   "outputs": [],
   "source": [
    "#black_neighborhoods = ['dorchester', 'roxbury', 'mattapan', 'hyde_park']\n",
    "#white_neighborhoods = ['fenway', 'beacon_hill', 'downtown', 'south_boston', 'east_boston', 'back_bay', 'jamaica_plain',\n",
    "#                      'south_end', 'charlestown', 'brighton', 'allston', 'west_end', 'roslindale', 'north_end',\n",
    "#                      'mission_hill', 'harbor_islands', 'longwood_medical_area', 'west_roxbury']\n",
    "#df = df.fillna(\"('no article', 'no_id')\")\n",
    "#df['dorchester'] = df['dorchester'].apply(ast.literal_eval)\n",
    "#df['roxbury'] = df['roxbury'].apply(ast.literal_eval)\n",
    "#df['mattapan'] = df['mattapan'].apply(ast.literal_eval)\n",
    "#df['hyde_park'] = df['hyde_park'].apply(ast.literal_eval)\n",
    "#df['fenway'] = df['fenway'].apply(ast.literal_eval)\n",
    "#df['beacon_hill'] = df['beacon_hill'].apply(ast.literal_eval)\n",
    "#df['downtown'] = df['downtown'].apply(ast.literal_eval)\n",
    "#df['south_boston'] = df['south_boston'].apply(ast.literal_eval)\n",
    "#df['east_boston'] = df['east_boston'].apply(ast.literal_eval)\n",
    "#df['back_bay'] = df['back_bay'].apply(ast.literal_eval)\n",
    "#df['jamaica_plain'] = df['jamaica_plain'].apply(ast.literal_eval)\n",
    "#df['south_end'] = df['south_end'].apply(ast.literal_eval)\n",
    "#df['charlestown'] = df['charlestown'].apply(ast.literal_eval)\n",
    "#df['brighton'] = df['brighton'].apply(ast.literal_eval)\n",
    "#df['allston'] = df['allston'].apply(ast.literal_eval)\n",
    "#df['west_end'] = df['west_end'].apply(ast.literal_eval)\n",
    "#df['roslindale'] = df['roslindale'].apply(ast.literal_eval)\n",
    "#df['north_end'] = df['north_end'].apply(ast.literal_eval)\n",
    "#df['mission_hill'] = df['mission_hill'].apply(ast.literal_eval)\n",
    "#df['harbor_islands'] = df['harbor_islands'].apply(ast.literal_eval)\n",
    "#df['longwood_medical_area'] = df['longwood_medical_area'].apply(ast.literal_eval)\n",
    "#df['west_roxbury'] = df['west_roxbury'].apply(ast.literal_eval)"
   ]
  },
  {
   "cell_type": "code",
   "execution_count": 5,
   "metadata": {},
   "outputs": [],
   "source": [
    "black_sub_neighborhoods = ['wellington_hill', 'southern_mattapan', 'west_codman_hill', 'west_lower_mills', 'washington_hill',\n",
    "                          'mattapan', 'franklin_field_south', 'dorchester_center', 'dorchester', 'bowdoin_north', 'mount_bowdoin',\n",
    "                          'west_street', 'river_street', 'dudley', 'brunswick_king', 'nubian_square', 'roxbury', 'grove_hall',\n",
    "                          'codman_square', 'upham\\'s_corner', 'meeting_house_hill', 'washington_park', 'hyde_park', 'jones_hill',\n",
    "                          'milton_hill', 'forest_hills', 'woodbourne', 'lower_roxbury', 'fields_corner_wester',\n",
    "                          'frederick_douglas_square_historic_district', 'georgetown', 'st._marks', 'fort_hill', 'ashcroft',\n",
    "                          'ashmount', 'clam_point', 'neponset', 'port_norfolk', 'columbus_park', \n",
    "                          'andrew_square', 'adams_village']\n",
    "\n",
    "white_sub_neighborhoods = ['metropolitan_hill', 'beech_street', 'washington', 'mount_hope', 'd_street', 'west_broadway', \n",
    "                          'central_maverick_square', 'paris_square', 'bunker_hill', 'high_street_hill', 'roslindale',\n",
    "                          'eagle_hill', 'columbus', 'central_village', 'east_boston',\n",
    "                          'shawmut', 'harbor_view', 'orient_heights', 'mission_hill', 'south_end', 'jeffries_point', \n",
    "                          'upper_washington', 'spring_street', 'charlestown', 'stonybrook', 'bay_village', 'city_point',\n",
    "                          'jamaica_plain', 'back_bay', 'brighton', 'egleston_square', 'west_fens', 'allston', 'lower_allston',\n",
    "                          'hunnwell_hill', 'salisbury_road-corey_farm', 'boston', 'fenway-kenmore', 'oak_square', \n",
    "                          'medford_street', 'the_neck', 'brook_farm', 'seaport_district', 'centre_south',\n",
    "                          'st._elizabeth\\'s', 'china_town', 'aberdeen', 'bellevue_hill', 'downtown_crossing', \n",
    "                          'chestnut_hill_neighborhood_association', 'back_bay_west', 'west_end', 'telegraph_hill', \n",
    "                          'beachmont']\n",
    "\n",
    "df = df.fillna(\"('no article', 'no_id')\")\n",
    "df = df.drop(['Unnamed: 0'], axis=1)\n",
    "for col in df.columns:\n",
    "    df[col] = df[col].apply(ast.literal_eval)"
   ]
  },
  {
   "cell_type": "code",
   "execution_count": 6,
   "metadata": {},
   "outputs": [
    {
     "data": {
      "text/plain": [
       "'beachmont'"
      ]
     },
     "execution_count": 6,
     "metadata": {},
     "output_type": "execute_result"
    }
   ],
   "source": [
    "col"
   ]
  },
  {
   "cell_type": "code",
   "execution_count": 7,
   "metadata": {},
   "outputs": [],
   "source": [
    "cols = df.columns\n",
    "for col in df.columns:\n",
    "    if df.iloc[0][col] == ('no article', 'no_id'):\n",
    "        df = df.drop([col], axis=1)\n",
    "\n",
    "rem_cols = df.columns"
   ]
  },
  {
   "cell_type": "code",
   "execution_count": 8,
   "metadata": {},
   "outputs": [
    {
     "name": "stdout",
     "output_type": "stream",
     "text": [
      "mattapan DONE\n",
      "dorchester DONE\n",
      "west_street DONE\n",
      "dudley DONE\n",
      "roxbury DONE\n",
      "grove_hall DONE\n",
      "codman_square DONE\n",
      "hyde_park DONE\n",
      "neponset DONE\n",
      "washington DONE\n",
      "bunker_hill DONE\n",
      "columbus DONE\n",
      "boston DONE\n",
      "the_neck DONE\n"
     ]
    }
   ],
   "source": [
    "articles = {}\n",
    "for col in rem_cols:\n",
    "    articles[col] = []\n",
    "\n",
    "for sub in rem_cols:\n",
    "    for i in range(df.shape[0]):\n",
    "        if df.loc[i][sub] != ('no article', 'no_id'):\n",
    "            articles[sub].append((nlp(df.loc[i, sub][0]), df.loc[i, sub][1]))\n",
    "    print(sub + ' DONE')"
   ]
  },
  {
   "cell_type": "code",
   "execution_count": 9,
   "metadata": {},
   "outputs": [
    {
     "data": {
      "text/plain": [
       "(736, 14)"
      ]
     },
     "execution_count": 9,
     "metadata": {},
     "output_type": "execute_result"
    }
   ],
   "source": [
    "df.shape"
   ]
  },
  {
   "cell_type": "code",
   "execution_count": 10,
   "metadata": {},
   "outputs": [],
   "source": [
    "#articles = {'hyde_park': [], 'beacon_hill': [], 'south_boston': [], 'jamaica_plain': [], 'east_boston': [],\n",
    "#                'south_end': [], 'back_bay': [], 'north_end': [], 'west_roxbury': [], 'mission_hill': [],\n",
    "#                'harbor_islands': [], 'west_end': [], 'longwood_medical_area': [],\n",
    "#                'dorchester': [], 'roxbury': [], 'downtown': [], 'fenway': [], 'mattapan': [], 'brighton': [],\n",
    "#                'charlestown': [], 'roslindale': [], 'allston': []}\n",
    "#for sub_neighborhood in articles.keys():\n",
    "#    for i in range(df.shape[0]):\n",
    "#        if type(df.loc[i, sub_neighborhood]) == tuple:\n",
    "#            articles[sub_neighborhood].append((nlp(df.loc[i, sub_neighborhood][0]), df.loc[i, sub_neighborhood][1]))\n",
    "#    print(sub_neighborhood + ' DONE')"
   ]
  },
  {
   "cell_type": "code",
   "execution_count": 11,
   "metadata": {},
   "outputs": [
    {
     "data": {
      "text/plain": [
       "'2018_1904'"
      ]
     },
     "execution_count": 11,
     "metadata": {},
     "output_type": "execute_result"
    }
   ],
   "source": [
    "articles['dorchester'][0][1]"
   ]
  },
  {
   "cell_type": "code",
   "execution_count": 12,
   "metadata": {},
   "outputs": [],
   "source": [
    "people = {}\n",
    "for col in rem_cols:\n",
    "    people[col] = []\n",
    "    \n",
    "for sub_neighborhood in articles.keys():\n",
    "    for (doc, article_id) in articles[sub_neighborhood]:\n",
    "        for ent in doc.ents:\n",
    "            if ent.label_ == 'PERSON':\n",
    "                name = ent[0:2]\n",
    "                # sentence = ent.sent\n",
    "                people[sub_neighborhood].append((name, article_id))"
   ]
  },
  {
   "cell_type": "code",
   "execution_count": 13,
   "metadata": {},
   "outputs": [],
   "source": [
    "#people = {'hyde_park': [], 'beacon_hill': [], 'south_boston': [], 'jamaica_plain': [], 'east_boston': [],\n",
    "#                'south_end': [], 'back_bay': [], 'north_end': [], 'west_roxbury': [], 'mission_hill': [],\n",
    "#                'harbor_islands': [], 'west_end': [], 'longwood_medical_area': [],\n",
    "#                'dorchester': [], 'roxbury': [], 'downtown': [], 'fenway': [], 'mattapan': [], 'brighton': [],\n",
    "#                'charlestown': [], 'roslindale': [], 'allston': []}\n",
    "#\n",
    "#for sub_neighborhood in articles.keys():\n",
    "#    for (doc, article_id) in articles[sub_neighborhood]:\n",
    "#        for ent in doc.ents:\n",
    "#            if ent.label_ == 'PERSON':\n",
    "#                name = ent[0:2]\n",
    "#                # sentence = ent.sent\n",
    "#                people[sub_neighborhood].append((name, article_id))"
   ]
  },
  {
   "cell_type": "code",
   "execution_count": 14,
   "metadata": {},
   "outputs": [],
   "source": [
    "for sub_neighborhood in people.keys():\n",
    "    list1 = people[sub_neighborhood]\n",
    "    # convert the list to the set\n",
    "    list_set = set(list1)\n",
    "    # convert the set to the list\n",
    "    unique_list = (list(list_set))\n",
    "    people[sub_neighborhood] = unique_list"
   ]
  },
  {
   "cell_type": "code",
   "execution_count": 15,
   "metadata": {},
   "outputs": [],
   "source": [
    "for sub_neighborhood in people.keys():\n",
    "    for i in range(len(people[sub_neighborhood])):\n",
    "        if people[sub_neighborhood][i][0].text.strip() != '':\n",
    "            temp = people[sub_neighborhood][i][0].text.split()\n",
    "            if len(temp) > 1:\n",
    "                people[sub_neighborhood][i] = (temp[-1], people[sub_neighborhood][i][1])\n",
    "            else:\n",
    "                people[sub_neighborhood][i] = (temp[0], people[sub_neighborhood][i][1])"
   ]
  },
  {
   "cell_type": "code",
   "execution_count": 16,
   "metadata": {},
   "outputs": [
    {
     "data": {
      "text/plain": [
       "('Mary', '2018_2151')"
      ]
     },
     "execution_count": 16,
     "metadata": {},
     "output_type": "execute_result"
    }
   ],
   "source": [
    "people['dorchester'][0]"
   ]
  },
  {
   "cell_type": "code",
   "execution_count": 28,
   "metadata": {
    "scrolled": true,
    "tags": []
   },
   "outputs": [],
   "source": [
    "from ethnicolr import pred_wiki_ln"
   ]
  },
  {
   "cell_type": "code",
   "execution_count": 29,
   "metadata": {
    "scrolled": true,
    "tags": []
   },
   "outputs": [],
   "source": [
    "# temp = pd.DataFrame(people['fenway'], columns=['last_name', 'article_id'])\n",
    "# temp = temp.drop(['article_id'], axis=1)\n",
    "# temp['subneighborhood'] = 'fenway'\n",
    "# temp.head()\n",
    "# people['dorchester']"
   ]
  },
  {
   "cell_type": "code",
   "execution_count": 31,
   "metadata": {
    "scrolled": true,
    "tags": []
   },
   "outputs": [
    {
     "name": "stdout",
     "output_type": "stream",
     "text": [
      "mattapan DONE\n",
      "dorchester DONE\n",
      "west_street DONE\n",
      "dudley DONE\n",
      "roxbury DONE\n",
      "grove_hall DONE\n",
      "codman_square DONE\n",
      "hyde_park DONE\n",
      "neponset DONE\n",
      "washington DONE\n",
      "bunker_hill DONE\n",
      "columbus DONE\n",
      "boston DONE\n",
      "the_neck DONE\n"
     ]
    }
   ],
   "source": [
    "final_df = pd.DataFrame(columns=['last_name', 'subneighborhood'])\n",
    "subs = list(rem_cols)\n",
    "#subs.remove('longwood_medical_area')\n",
    "for col in subs:\n",
    "    temp = pd.DataFrame(people[col], columns=['last_name', 'article_id'])\n",
    "    temp = temp.drop(['article_id'], axis=1)\n",
    "    temp['subneighborhood'] = col\n",
    "    preds = pred_wiki_ln(temp, 'last_name')\n",
    "    final_df = pd.concat([final_df, preds], axis=0)\n",
    "    print(col + ' DONE')"
   ]
  },
  {
   "cell_type": "code",
   "execution_count": 32,
   "metadata": {
    "scrolled": true,
    "tags": []
   },
   "outputs": [
    {
     "data": {
      "text/html": [
       "<div>\n",
       "<style scoped>\n",
       "    .dataframe tbody tr th:only-of-type {\n",
       "        vertical-align: middle;\n",
       "    }\n",
       "\n",
       "    .dataframe tbody tr th {\n",
       "        vertical-align: top;\n",
       "    }\n",
       "\n",
       "    .dataframe thead th {\n",
       "        text-align: right;\n",
       "    }\n",
       "</style>\n",
       "<table border=\"1\" class=\"dataframe\">\n",
       "  <thead>\n",
       "    <tr style=\"text-align: right;\">\n",
       "      <th></th>\n",
       "      <th>race</th>\n",
       "    </tr>\n",
       "  </thead>\n",
       "  <tbody>\n",
       "    <tr>\n",
       "      <th>GreaterEuropean,British</th>\n",
       "      <td>16460</td>\n",
       "    </tr>\n",
       "    <tr>\n",
       "      <th>Asian,GreaterEastAsian,EastAsian</th>\n",
       "      <td>2094</td>\n",
       "    </tr>\n",
       "    <tr>\n",
       "      <th>GreaterEuropean,WestEuropean,French</th>\n",
       "      <td>1762</td>\n",
       "    </tr>\n",
       "    <tr>\n",
       "      <th>GreaterEuropean,WestEuropean,Hispanic</th>\n",
       "      <td>1622</td>\n",
       "    </tr>\n",
       "    <tr>\n",
       "      <th>GreaterEuropean,WestEuropean,Italian</th>\n",
       "      <td>1494</td>\n",
       "    </tr>\n",
       "    <tr>\n",
       "      <th>GreaterEuropean,Jewish</th>\n",
       "      <td>1332</td>\n",
       "    </tr>\n",
       "    <tr>\n",
       "      <th>Asian,IndianSubContinent</th>\n",
       "      <td>564</td>\n",
       "    </tr>\n",
       "    <tr>\n",
       "      <th>GreaterAfrican,Muslim</th>\n",
       "      <td>505</td>\n",
       "    </tr>\n",
       "    <tr>\n",
       "      <th>GreaterEuropean,EastEuropean</th>\n",
       "      <td>361</td>\n",
       "    </tr>\n",
       "    <tr>\n",
       "      <th>GreaterEuropean,WestEuropean,Nordic</th>\n",
       "      <td>263</td>\n",
       "    </tr>\n",
       "    <tr>\n",
       "      <th>GreaterEuropean,WestEuropean,Germanic</th>\n",
       "      <td>202</td>\n",
       "    </tr>\n",
       "    <tr>\n",
       "      <th>Asian,GreaterEastAsian,Japanese</th>\n",
       "      <td>187</td>\n",
       "    </tr>\n",
       "    <tr>\n",
       "      <th>GreaterAfrican,Africans</th>\n",
       "      <td>141</td>\n",
       "    </tr>\n",
       "  </tbody>\n",
       "</table>\n",
       "</div>"
      ],
      "text/plain": [
       "                                        race\n",
       "GreaterEuropean,British                16460\n",
       "Asian,GreaterEastAsian,EastAsian        2094\n",
       "GreaterEuropean,WestEuropean,French     1762\n",
       "GreaterEuropean,WestEuropean,Hispanic   1622\n",
       "GreaterEuropean,WestEuropean,Italian    1494\n",
       "GreaterEuropean,Jewish                  1332\n",
       "Asian,IndianSubContinent                 564\n",
       "GreaterAfrican,Muslim                    505\n",
       "GreaterEuropean,EastEuropean             361\n",
       "GreaterEuropean,WestEuropean,Nordic      263\n",
       "GreaterEuropean,WestEuropean,Germanic    202\n",
       "Asian,GreaterEastAsian,Japanese          187\n",
       "GreaterAfrican,Africans                  141"
      ]
     },
     "execution_count": 32,
     "metadata": {},
     "output_type": "execute_result"
    }
   ],
   "source": [
    "hen = final_df['race'].value_counts()\n",
    "pd.DataFrame(hen)"
   ]
  },
  {
   "cell_type": "code",
   "execution_count": 33,
   "metadata": {
    "scrolled": true,
    "tags": []
   },
   "outputs": [
    {
     "data": {
      "text/html": [
       "<div>\n",
       "<style scoped>\n",
       "    .dataframe tbody tr th:only-of-type {\n",
       "        vertical-align: middle;\n",
       "    }\n",
       "\n",
       "    .dataframe tbody tr th {\n",
       "        vertical-align: top;\n",
       "    }\n",
       "\n",
       "    .dataframe thead th {\n",
       "        text-align: right;\n",
       "    }\n",
       "</style>\n",
       "<table border=\"1\" class=\"dataframe\">\n",
       "  <thead>\n",
       "    <tr style=\"text-align: right;\">\n",
       "      <th></th>\n",
       "      <th>last_name</th>\n",
       "      <th>subneighborhood</th>\n",
       "      <th>race</th>\n",
       "    </tr>\n",
       "  </thead>\n",
       "  <tbody>\n",
       "    <tr>\n",
       "      <th>0</th>\n",
       "      <td>Yancey</td>\n",
       "      <td>mattapan</td>\n",
       "      <td>white</td>\n",
       "    </tr>\n",
       "    <tr>\n",
       "      <th>1</th>\n",
       "      <td>Labossiere</td>\n",
       "      <td>mattapan</td>\n",
       "      <td>white</td>\n",
       "    </tr>\n",
       "    <tr>\n",
       "      <th>2</th>\n",
       "      <td>Davis</td>\n",
       "      <td>mattapan</td>\n",
       "      <td>white</td>\n",
       "    </tr>\n",
       "    <tr>\n",
       "      <th>3</th>\n",
       "      <td>Eddins</td>\n",
       "      <td>mattapan</td>\n",
       "      <td>white</td>\n",
       "    </tr>\n",
       "    <tr>\n",
       "      <th>4</th>\n",
       "      <td>Hilaire</td>\n",
       "      <td>mattapan</td>\n",
       "      <td>white</td>\n",
       "    </tr>\n",
       "    <tr>\n",
       "      <th>...</th>\n",
       "      <td>...</td>\n",
       "      <td>...</td>\n",
       "      <td>...</td>\n",
       "    </tr>\n",
       "    <tr>\n",
       "      <th>38</th>\n",
       "      <td>Flanagan</td>\n",
       "      <td>the_neck</td>\n",
       "      <td>white</td>\n",
       "    </tr>\n",
       "    <tr>\n",
       "      <th>39</th>\n",
       "      <td>Reynolds</td>\n",
       "      <td>the_neck</td>\n",
       "      <td>white</td>\n",
       "    </tr>\n",
       "    <tr>\n",
       "      <th>40</th>\n",
       "      <td>Flanagan</td>\n",
       "      <td>the_neck</td>\n",
       "      <td>white</td>\n",
       "    </tr>\n",
       "    <tr>\n",
       "      <th>41</th>\n",
       "      <td>Briggs</td>\n",
       "      <td>the_neck</td>\n",
       "      <td>white</td>\n",
       "    </tr>\n",
       "    <tr>\n",
       "      <th>42</th>\n",
       "      <td>Coleman</td>\n",
       "      <td>the_neck</td>\n",
       "      <td>white</td>\n",
       "    </tr>\n",
       "  </tbody>\n",
       "</table>\n",
       "<p>26987 rows × 3 columns</p>\n",
       "</div>"
      ],
      "text/plain": [
       "     last_name subneighborhood   race\n",
       "0       Yancey        mattapan  white\n",
       "1   Labossiere        mattapan  white\n",
       "2        Davis        mattapan  white\n",
       "3       Eddins        mattapan  white\n",
       "4      Hilaire        mattapan  white\n",
       "..         ...             ...    ...\n",
       "38    Flanagan        the_neck  white\n",
       "39    Reynolds        the_neck  white\n",
       "40    Flanagan        the_neck  white\n",
       "41      Briggs        the_neck  white\n",
       "42     Coleman        the_neck  white\n",
       "\n",
       "[26987 rows x 3 columns]"
      ]
     },
     "execution_count": 33,
     "metadata": {},
     "output_type": "execute_result"
    }
   ],
   "source": [
    "final_df = final_df.drop(['Asian,GreaterEastAsian,EastAsian', 'Asian,GreaterEastAsian,Japanese', 'Asian,IndianSubContinent', 'GreaterAfrican,Africans', 'GreaterAfrican,Muslim', 'GreaterEuropean,British', 'GreaterEuropean,EastEuropean', 'GreaterEuropean,Jewish', 'GreaterEuropean,WestEuropean,French','GreaterEuropean,WestEuropean,Germanic','GreaterEuropean,WestEuropean,Hispanic','GreaterEuropean,WestEuropean,Italian','GreaterEuropean,WestEuropean,Nordic'], axis=1)\n",
    "\n",
    "for i in range(len(final_df.index)):\n",
    "    if final_df.iloc[i]['race'] == 'Asian,GreaterEastAsian,EastAsian' or final_df.iloc[i]['race'] == 'Asian,GreaterEastAsian,Japanese' or final_df.iloc[i]['race'] == 'Asian,IndianSubContinent':\n",
    "        final_df.iloc[i]['race'] = 'api'\n",
    "    elif final_df.iloc[i]['race'] == 'GreaterEuropean,WestEuropean,Hispanic':\n",
    "        final_df.iloc[i]['race'] = 'hispanic'\n",
    "    elif final_df.iloc[i]['race'] == 'GreaterAfrican,Muslim' or final_df.iloc[i]['race'] == 'GreaterAfrican,Africans':\n",
    "        final_df.iloc[i]['race'] = 'black'\n",
    "    else:\n",
    "        final_df.iloc[i]['race'] = 'white'\n",
    "\n",
    "final_df"
   ]
  },
  {
   "cell_type": "code",
   "execution_count": 34,
   "metadata": {
    "scrolled": true,
    "tags": []
   },
   "outputs": [],
   "source": [
    "groups = final_df.groupby(final_df.subneighborhood)\n",
    "race_df = pd.DataFrame(columns=subs)\n",
    "races = final_df.race.unique()\n",
    "for col in subs:\n",
    "    group = groups.get_group(col)\n",
    "    race_df[col] = group.race.value_counts()"
   ]
  },
  {
   "cell_type": "code",
   "execution_count": 35,
   "metadata": {},
   "outputs": [
    {
     "data": {
      "text/html": [
       "<div>\n",
       "<style scoped>\n",
       "    .dataframe tbody tr th:only-of-type {\n",
       "        vertical-align: middle;\n",
       "    }\n",
       "\n",
       "    .dataframe tbody tr th {\n",
       "        vertical-align: top;\n",
       "    }\n",
       "\n",
       "    .dataframe thead th {\n",
       "        text-align: right;\n",
       "    }\n",
       "</style>\n",
       "<table border=\"1\" class=\"dataframe\">\n",
       "  <thead>\n",
       "    <tr style=\"text-align: right;\">\n",
       "      <th></th>\n",
       "      <th>mattapan</th>\n",
       "      <th>dorchester</th>\n",
       "      <th>west_street</th>\n",
       "      <th>dudley</th>\n",
       "      <th>roxbury</th>\n",
       "      <th>grove_hall</th>\n",
       "      <th>codman_square</th>\n",
       "      <th>hyde_park</th>\n",
       "      <th>neponset</th>\n",
       "      <th>washington</th>\n",
       "      <th>bunker_hill</th>\n",
       "      <th>columbus</th>\n",
       "      <th>boston</th>\n",
       "      <th>the_neck</th>\n",
       "    </tr>\n",
       "  </thead>\n",
       "  <tbody>\n",
       "    <tr>\n",
       "      <th>white</th>\n",
       "      <td>832</td>\n",
       "      <td>6186</td>\n",
       "      <td>6.0</td>\n",
       "      <td>316</td>\n",
       "      <td>1958</td>\n",
       "      <td>12.0</td>\n",
       "      <td>2.0</td>\n",
       "      <td>520</td>\n",
       "      <td>3.0</td>\n",
       "      <td>394</td>\n",
       "      <td>35.0</td>\n",
       "      <td>62.0</td>\n",
       "      <td>11508</td>\n",
       "      <td>40.0</td>\n",
       "    </tr>\n",
       "    <tr>\n",
       "      <th>api</th>\n",
       "      <td>112</td>\n",
       "      <td>623</td>\n",
       "      <td>0.0</td>\n",
       "      <td>40</td>\n",
       "      <td>219</td>\n",
       "      <td>4.0</td>\n",
       "      <td>0.0</td>\n",
       "      <td>94</td>\n",
       "      <td>0.0</td>\n",
       "      <td>47</td>\n",
       "      <td>2.0</td>\n",
       "      <td>0.0</td>\n",
       "      <td>1701</td>\n",
       "      <td>3.0</td>\n",
       "    </tr>\n",
       "    <tr>\n",
       "      <th>hispanic</th>\n",
       "      <td>31</td>\n",
       "      <td>596</td>\n",
       "      <td>0.0</td>\n",
       "      <td>10</td>\n",
       "      <td>224</td>\n",
       "      <td>0.0</td>\n",
       "      <td>0.0</td>\n",
       "      <td>4</td>\n",
       "      <td>0.0</td>\n",
       "      <td>5</td>\n",
       "      <td>1.0</td>\n",
       "      <td>2.0</td>\n",
       "      <td>749</td>\n",
       "      <td>0.0</td>\n",
       "    </tr>\n",
       "    <tr>\n",
       "      <th>black</th>\n",
       "      <td>24</td>\n",
       "      <td>149</td>\n",
       "      <td>0.0</td>\n",
       "      <td>3</td>\n",
       "      <td>68</td>\n",
       "      <td>2.0</td>\n",
       "      <td>0.0</td>\n",
       "      <td>27</td>\n",
       "      <td>0.0</td>\n",
       "      <td>6</td>\n",
       "      <td>0.0</td>\n",
       "      <td>0.0</td>\n",
       "      <td>367</td>\n",
       "      <td>0.0</td>\n",
       "    </tr>\n",
       "  </tbody>\n",
       "</table>\n",
       "</div>"
      ],
      "text/plain": [
       "          mattapan  dorchester  west_street  dudley  roxbury  grove_hall  \\\n",
       "white          832        6186          6.0     316     1958        12.0   \n",
       "api            112         623          0.0      40      219         4.0   \n",
       "hispanic        31         596          0.0      10      224         0.0   \n",
       "black           24         149          0.0       3       68         2.0   \n",
       "\n",
       "          codman_square  hyde_park  neponset  washington  bunker_hill  \\\n",
       "white               2.0        520       3.0         394         35.0   \n",
       "api                 0.0         94       0.0          47          2.0   \n",
       "hispanic            0.0          4       0.0           5          1.0   \n",
       "black               0.0         27       0.0           6          0.0   \n",
       "\n",
       "          columbus  boston  the_neck  \n",
       "white         62.0   11508      40.0  \n",
       "api            0.0    1701       3.0  \n",
       "hispanic       2.0     749       0.0  \n",
       "black          0.0     367       0.0  "
      ]
     },
     "execution_count": 35,
     "metadata": {},
     "output_type": "execute_result"
    }
   ],
   "source": [
    "race_df = race_df.fillna(0.0)\n",
    "race_df"
   ]
  },
  {
   "cell_type": "code",
   "execution_count": 36,
   "metadata": {},
   "outputs": [],
   "source": [
    "for i in range(len(subs)):\n",
    "    tot = race_df[subs[i]].sum()\n",
    "    for j in race_df.index:\n",
    "        race_df.loc[j, [subs[i]]] = (race_df.loc[j, [subs[i]]] / tot) * 100"
   ]
  },
  {
   "cell_type": "code",
   "execution_count": 37,
   "metadata": {},
   "outputs": [
    {
     "data": {
      "text/html": [
       "<div>\n",
       "<style scoped>\n",
       "    .dataframe tbody tr th:only-of-type {\n",
       "        vertical-align: middle;\n",
       "    }\n",
       "\n",
       "    .dataframe tbody tr th {\n",
       "        vertical-align: top;\n",
       "    }\n",
       "\n",
       "    .dataframe thead th {\n",
       "        text-align: right;\n",
       "    }\n",
       "</style>\n",
       "<table border=\"1\" class=\"dataframe\">\n",
       "  <thead>\n",
       "    <tr style=\"text-align: right;\">\n",
       "      <th></th>\n",
       "      <th>mattapan</th>\n",
       "      <th>dorchester</th>\n",
       "      <th>west_street</th>\n",
       "      <th>dudley</th>\n",
       "      <th>roxbury</th>\n",
       "      <th>grove_hall</th>\n",
       "      <th>codman_square</th>\n",
       "      <th>hyde_park</th>\n",
       "      <th>neponset</th>\n",
       "      <th>washington</th>\n",
       "      <th>bunker_hill</th>\n",
       "      <th>columbus</th>\n",
       "      <th>boston</th>\n",
       "      <th>the_neck</th>\n",
       "    </tr>\n",
       "  </thead>\n",
       "  <tbody>\n",
       "    <tr>\n",
       "      <th>white</th>\n",
       "      <td>83.283283</td>\n",
       "      <td>81.890389</td>\n",
       "      <td>100.0</td>\n",
       "      <td>85.636856</td>\n",
       "      <td>79.303362</td>\n",
       "      <td>66.666667</td>\n",
       "      <td>100.0</td>\n",
       "      <td>80.620155</td>\n",
       "      <td>100.0</td>\n",
       "      <td>87.168142</td>\n",
       "      <td>92.105263</td>\n",
       "      <td>96.875</td>\n",
       "      <td>80.335079</td>\n",
       "      <td>93.023256</td>\n",
       "    </tr>\n",
       "    <tr>\n",
       "      <th>api</th>\n",
       "      <td>11.211211</td>\n",
       "      <td>8.247286</td>\n",
       "      <td>0.0</td>\n",
       "      <td>10.840108</td>\n",
       "      <td>8.869988</td>\n",
       "      <td>22.222222</td>\n",
       "      <td>0.0</td>\n",
       "      <td>14.573643</td>\n",
       "      <td>0.0</td>\n",
       "      <td>10.398230</td>\n",
       "      <td>5.263158</td>\n",
       "      <td>0.000</td>\n",
       "      <td>11.874346</td>\n",
       "      <td>6.976744</td>\n",
       "    </tr>\n",
       "    <tr>\n",
       "      <th>hispanic</th>\n",
       "      <td>3.103103</td>\n",
       "      <td>7.889860</td>\n",
       "      <td>0.0</td>\n",
       "      <td>2.710027</td>\n",
       "      <td>9.072499</td>\n",
       "      <td>0.000000</td>\n",
       "      <td>0.0</td>\n",
       "      <td>0.620155</td>\n",
       "      <td>0.0</td>\n",
       "      <td>1.106195</td>\n",
       "      <td>2.631579</td>\n",
       "      <td>3.125</td>\n",
       "      <td>5.228621</td>\n",
       "      <td>0.000000</td>\n",
       "    </tr>\n",
       "    <tr>\n",
       "      <th>black</th>\n",
       "      <td>2.402402</td>\n",
       "      <td>1.972465</td>\n",
       "      <td>0.0</td>\n",
       "      <td>0.813008</td>\n",
       "      <td>2.754151</td>\n",
       "      <td>11.111111</td>\n",
       "      <td>0.0</td>\n",
       "      <td>4.186047</td>\n",
       "      <td>0.0</td>\n",
       "      <td>1.327434</td>\n",
       "      <td>0.000000</td>\n",
       "      <td>0.000</td>\n",
       "      <td>2.561955</td>\n",
       "      <td>0.000000</td>\n",
       "    </tr>\n",
       "  </tbody>\n",
       "</table>\n",
       "</div>"
      ],
      "text/plain": [
       "           mattapan  dorchester  west_street     dudley    roxbury  \\\n",
       "white     83.283283   81.890389        100.0  85.636856  79.303362   \n",
       "api       11.211211    8.247286          0.0  10.840108   8.869988   \n",
       "hispanic   3.103103    7.889860          0.0   2.710027   9.072499   \n",
       "black      2.402402    1.972465          0.0   0.813008   2.754151   \n",
       "\n",
       "          grove_hall  codman_square  hyde_park  neponset  washington  \\\n",
       "white      66.666667          100.0  80.620155     100.0   87.168142   \n",
       "api        22.222222            0.0  14.573643       0.0   10.398230   \n",
       "hispanic    0.000000            0.0   0.620155       0.0    1.106195   \n",
       "black      11.111111            0.0   4.186047       0.0    1.327434   \n",
       "\n",
       "          bunker_hill  columbus     boston   the_neck  \n",
       "white       92.105263    96.875  80.335079  93.023256  \n",
       "api          5.263158     0.000  11.874346   6.976744  \n",
       "hispanic     2.631579     3.125   5.228621   0.000000  \n",
       "black        0.000000     0.000   2.561955   0.000000  "
      ]
     },
     "execution_count": 37,
     "metadata": {},
     "output_type": "execute_result"
    }
   ],
   "source": [
    "race_df"
   ]
  },
  {
   "cell_type": "code",
   "execution_count": 38,
   "metadata": {},
   "outputs": [
    {
     "data": {
      "text/html": [
       "<div>\n",
       "<style scoped>\n",
       "    .dataframe tbody tr th:only-of-type {\n",
       "        vertical-align: middle;\n",
       "    }\n",
       "\n",
       "    .dataframe tbody tr th {\n",
       "        vertical-align: top;\n",
       "    }\n",
       "\n",
       "    .dataframe thead th {\n",
       "        text-align: right;\n",
       "    }\n",
       "</style>\n",
       "<table border=\"1\" class=\"dataframe\">\n",
       "  <thead>\n",
       "    <tr style=\"text-align: right;\">\n",
       "      <th></th>\n",
       "      <th>mattapan</th>\n",
       "      <th>dorchester</th>\n",
       "      <th>west_street</th>\n",
       "      <th>dudley</th>\n",
       "      <th>roxbury</th>\n",
       "      <th>grove_hall</th>\n",
       "      <th>codman_square</th>\n",
       "      <th>hyde_park</th>\n",
       "      <th>neponset</th>\n",
       "      <th>washington</th>\n",
       "      <th>bunker_hill</th>\n",
       "      <th>columbus</th>\n",
       "      <th>boston</th>\n",
       "      <th>the_neck</th>\n",
       "    </tr>\n",
       "  </thead>\n",
       "  <tbody>\n",
       "    <tr>\n",
       "      <th>white</th>\n",
       "      <td>83.283283</td>\n",
       "      <td>81.890389</td>\n",
       "      <td>100.0</td>\n",
       "      <td>85.636856</td>\n",
       "      <td>79.303362</td>\n",
       "      <td>66.666667</td>\n",
       "      <td>100.0</td>\n",
       "      <td>80.620155</td>\n",
       "      <td>100.0</td>\n",
       "      <td>87.168142</td>\n",
       "      <td>92.105263</td>\n",
       "      <td>96.875</td>\n",
       "      <td>80.335079</td>\n",
       "      <td>93.023256</td>\n",
       "    </tr>\n",
       "    <tr>\n",
       "      <th>api</th>\n",
       "      <td>11.211211</td>\n",
       "      <td>8.247286</td>\n",
       "      <td>0.0</td>\n",
       "      <td>10.840108</td>\n",
       "      <td>8.869988</td>\n",
       "      <td>22.222222</td>\n",
       "      <td>0.0</td>\n",
       "      <td>14.573643</td>\n",
       "      <td>0.0</td>\n",
       "      <td>10.398230</td>\n",
       "      <td>5.263158</td>\n",
       "      <td>0.000</td>\n",
       "      <td>11.874346</td>\n",
       "      <td>6.976744</td>\n",
       "    </tr>\n",
       "    <tr>\n",
       "      <th>hispanic</th>\n",
       "      <td>3.103103</td>\n",
       "      <td>7.889860</td>\n",
       "      <td>0.0</td>\n",
       "      <td>2.710027</td>\n",
       "      <td>9.072499</td>\n",
       "      <td>0.000000</td>\n",
       "      <td>0.0</td>\n",
       "      <td>0.620155</td>\n",
       "      <td>0.0</td>\n",
       "      <td>1.106195</td>\n",
       "      <td>2.631579</td>\n",
       "      <td>3.125</td>\n",
       "      <td>5.228621</td>\n",
       "      <td>0.000000</td>\n",
       "    </tr>\n",
       "    <tr>\n",
       "      <th>black</th>\n",
       "      <td>2.402402</td>\n",
       "      <td>1.972465</td>\n",
       "      <td>0.0</td>\n",
       "      <td>0.813008</td>\n",
       "      <td>2.754151</td>\n",
       "      <td>11.111111</td>\n",
       "      <td>0.0</td>\n",
       "      <td>4.186047</td>\n",
       "      <td>0.0</td>\n",
       "      <td>1.327434</td>\n",
       "      <td>0.000000</td>\n",
       "      <td>0.000</td>\n",
       "      <td>2.561955</td>\n",
       "      <td>0.000000</td>\n",
       "    </tr>\n",
       "  </tbody>\n",
       "</table>\n",
       "</div>"
      ],
      "text/plain": [
       "           mattapan  dorchester  west_street     dudley    roxbury  \\\n",
       "white     83.283283   81.890389        100.0  85.636856  79.303362   \n",
       "api       11.211211    8.247286          0.0  10.840108   8.869988   \n",
       "hispanic   3.103103    7.889860          0.0   2.710027   9.072499   \n",
       "black      2.402402    1.972465          0.0   0.813008   2.754151   \n",
       "\n",
       "          grove_hall  codman_square  hyde_park  neponset  washington  \\\n",
       "white      66.666667          100.0  80.620155     100.0   87.168142   \n",
       "api        22.222222            0.0  14.573643       0.0   10.398230   \n",
       "hispanic    0.000000            0.0   0.620155       0.0    1.106195   \n",
       "black      11.111111            0.0   4.186047       0.0    1.327434   \n",
       "\n",
       "          bunker_hill  columbus     boston   the_neck  \n",
       "white       92.105263    96.875  80.335079  93.023256  \n",
       "api          5.263158     0.000  11.874346   6.976744  \n",
       "hispanic     2.631579     3.125   5.228621   0.000000  \n",
       "black        0.000000     0.000   2.561955   0.000000  "
      ]
     },
     "execution_count": 38,
     "metadata": {},
     "output_type": "execute_result"
    }
   ],
   "source": [
    "#race_df.index = ['white', 'hispanic', 'black', 'asian']\n",
    "race_df"
   ]
  },
  {
   "cell_type": "code",
   "execution_count": 39,
   "metadata": {},
   "outputs": [],
   "source": [
    "race_df.to_csv('Wiki_Last_Name_Race_Representation_by_Sub_Neighborhood/2018_representation.csv')"
   ]
  },
  {
   "cell_type": "code",
   "execution_count": null,
   "metadata": {},
   "outputs": [],
   "source": []
  },
  {
   "cell_type": "code",
   "execution_count": null,
   "metadata": {},
   "outputs": [],
   "source": []
  },
  {
   "cell_type": "code",
   "execution_count": null,
   "metadata": {},
   "outputs": [],
   "source": []
  },
  {
   "cell_type": "code",
   "execution_count": 23,
   "metadata": {},
   "outputs": [],
   "source": [
    "#agg_df = pd.DataFrame(columns=subs, index=['white', 'black', 'api', 'hispanic'])"
   ]
  },
  {
   "cell_type": "code",
   "execution_count": 24,
   "metadata": {},
   "outputs": [],
   "source": [
    "#agg_df = agg_df.fillna(0.0)"
   ]
  },
  {
   "cell_type": "code",
   "execution_count": 25,
   "metadata": {},
   "outputs": [],
   "source": [
    "#pred_races = race_df.index\n",
    "#for sub in subs:\n",
    "#    for each in pred_races:\n",
    "#        temp = race_df.loc[each][sub]\n",
    "#        if each == 'GreaterEuropean,WestEuropean,Hispanic':\n",
    "#            agg_df.loc['hispanic'][sub] += temp\n",
    "#        elif each == 'Asian,GreaterEastAsian,EastAsian' or each == 'Asian,IndianSubContinent' or each == 'Asian,GreaterEastAsian,Japanese':\n",
    "#            agg_df.loc['api'][sub] += temp\n",
    "#        elif each == 'GreaterAfrican,Muslim' or each == 'GreaterAfrican,Africans':\n",
    "#            agg_df.loc['black'][sub] += temp\n",
    "#        else:\n",
    "#            agg_df.loc['white'][sub] += temp"
   ]
  },
  {
   "cell_type": "code",
   "execution_count": 26,
   "metadata": {},
   "outputs": [],
   "source": [
    "#agg_df.to_csv('Wiki_Full_Name_Race_Representation_by_Neighborhood/2018_representation.csv')"
   ]
  },
  {
   "cell_type": "code",
   "execution_count": 27,
   "metadata": {},
   "outputs": [],
   "source": [
    "#agg_df"
   ]
  },
  {
   "cell_type": "code",
   "execution_count": null,
   "metadata": {},
   "outputs": [],
   "source": []
  }
 ],
 "metadata": {
  "kernelspec": {
   "display_name": "Python 3",
   "language": "python",
   "name": "python3"
  },
  "language_info": {
   "codemirror_mode": {
    "name": "ipython",
    "version": 3
   },
   "file_extension": ".py",
   "mimetype": "text/x-python",
   "name": "python",
   "nbconvert_exporter": "python",
   "pygments_lexer": "ipython3",
   "version": "3.8.5"
  }
 },
 "nbformat": 4,
 "nbformat_minor": 5
}
