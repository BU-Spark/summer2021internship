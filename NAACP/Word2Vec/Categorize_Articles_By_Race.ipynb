{
 "cells": [
  {
   "cell_type": "code",
   "execution_count": 1,
   "id": "75cc059b-5b99-4149-83a5-8d392ba10d99",
   "metadata": {},
   "outputs": [],
   "source": [
    "import pandas as pd"
   ]
  },
  {
   "cell_type": "code",
   "execution_count": 2,
   "id": "fa3d020d-f2ff-4cb0-bc8d-3d71739b7078",
   "metadata": {},
   "outputs": [],
   "source": [
    "# dataframe to hold all articles after grouping\n",
    "race_separated_articles = pd.DataFrame(columns=['black', 'white'])\n",
    "\n",
    "# read in neighborhood-separated articles\n",
    "data = pd.read_csv('../Entity_Recognition/Neighborhood_Separated_Articles/2018.csv')"
   ]
  },
  {
   "cell_type": "code",
   "execution_count": 3,
   "id": "3118aa96-7085-45d0-9ce7-092ff2d0ab66",
   "metadata": {},
   "outputs": [],
   "source": [
    "data = data.drop(['Unnamed: 0'], axis=1)"
   ]
  },
  {
   "cell_type": "code",
   "execution_count": 4,
   "id": "8cf29416-527f-4c2d-991c-757ece453c25",
   "metadata": {},
   "outputs": [
    {
     "data": {
      "text/plain": [
       "Index(['dorchester', 'roxbury', 'mattapan', 'hyde_park', 'fenway',\n",
       "       'beacon_hill', 'downtown', 'south_boston', 'east_boston', 'back_bay',\n",
       "       'jamaica_plain', 'south_end', 'charlestown', 'brighton', 'allston',\n",
       "       'west_end', 'roslindale', 'north_end', 'mission_hill', 'harbor_islands',\n",
       "       'longwood_medical_area', 'west_roxbury'],\n",
       "      dtype='object')"
      ]
     },
     "execution_count": 4,
     "metadata": {},
     "output_type": "execute_result"
    }
   ],
   "source": [
    "data.columns"
   ]
  },
  {
   "cell_type": "code",
   "execution_count": 5,
   "id": "7a9a25a1-425c-4a10-a867-a5f7a72a31e9",
   "metadata": {},
   "outputs": [],
   "source": [
    "black_neighborhoods = ['dorchester', 'roxbury', 'mattapan', 'hyde_park']\n",
    "white_neighborhoods = ['fenway', 'beacon_hill', 'downtown', 'south_boston', 'east_boston', 'back_bay', 'jamaica_plain',\n",
    "                      'south_end', 'charlestown', 'brighton', 'allston', 'west_end', 'roslindale', 'north_end',\n",
    "                      'mission_hill', 'harbor_islands', 'longwood_medical_area', 'west_roxbury']\n",
    "\n",
    "black_articles = []\n",
    "white_articles = []\n",
    "\n",
    "for col in data.columns:\n",
    "    if col in black_neighborhoods:\n",
    "        black_articles = black_articles + list(set(list(data[col])))\n",
    "    else:\n",
    "        white_articles = white_articles + list(set(list(data[col])))"
   ]
  },
  {
   "cell_type": "code",
   "execution_count": 6,
   "id": "43aa089b-e16e-4097-8d26-9ad7251c3c6a",
   "metadata": {},
   "outputs": [
    {
     "data": {
      "text/plain": [
       "(854, 22)"
      ]
     },
     "execution_count": 6,
     "metadata": {},
     "output_type": "execute_result"
    }
   ],
   "source": [
    "data.shape"
   ]
  },
  {
   "cell_type": "code",
   "execution_count": 7,
   "id": "dd3d2f6d-8fc6-403a-9b93-44c84d73803e",
   "metadata": {},
   "outputs": [],
   "source": [
    "b = len(black_articles)"
   ]
  },
  {
   "cell_type": "code",
   "execution_count": 8,
   "id": "ebf6961c-d6dd-4e26-95ec-dc3198f9bdcb",
   "metadata": {},
   "outputs": [],
   "source": [
    "w = len(white_articles)"
   ]
  },
  {
   "cell_type": "code",
   "execution_count": 9,
   "id": "76f229d9-74c6-4312-a61f-0d180418f0b7",
   "metadata": {},
   "outputs": [],
   "source": [
    "if b > w:\n",
    "    white_articles = white_articles + [('no article', 'no_id')] * (b - w)\n",
    "else:\n",
    "    black_articles = black_articles + [('no article', 'no_id')] * (w - b)"
   ]
  },
  {
   "cell_type": "code",
   "execution_count": 10,
   "id": "dd8e0deb-e22c-4991-bc69-80277b2edbbc",
   "metadata": {},
   "outputs": [
    {
     "data": {
      "text/plain": [
       "1515"
      ]
     },
     "execution_count": 10,
     "metadata": {},
     "output_type": "execute_result"
    }
   ],
   "source": [
    "len(white_articles)"
   ]
  },
  {
   "cell_type": "code",
   "execution_count": 11,
   "id": "b0f23fcb-b23a-44fa-95e5-3ab48a0f719a",
   "metadata": {},
   "outputs": [
    {
     "data": {
      "text/plain": [
       "1515"
      ]
     },
     "execution_count": 11,
     "metadata": {},
     "output_type": "execute_result"
    }
   ],
   "source": [
    "len(black_articles)"
   ]
  },
  {
   "cell_type": "code",
   "execution_count": 12,
   "id": "46817dbc-5d9c-40bc-844a-62fa2b28ce73",
   "metadata": {},
   "outputs": [],
   "source": [
    "race_separated_articles['black'] = black_articles\n",
    "race_separated_articles['white'] = white_articles"
   ]
  },
  {
   "cell_type": "code",
   "execution_count": 13,
   "id": "86e0ac67-dcb0-40ef-99cd-66944ea43e82",
   "metadata": {},
   "outputs": [
    {
     "data": {
      "text/html": [
       "<div>\n",
       "<style scoped>\n",
       "    .dataframe tbody tr th:only-of-type {\n",
       "        vertical-align: middle;\n",
       "    }\n",
       "\n",
       "    .dataframe tbody tr th {\n",
       "        vertical-align: top;\n",
       "    }\n",
       "\n",
       "    .dataframe thead th {\n",
       "        text-align: right;\n",
       "    }\n",
       "</style>\n",
       "<table border=\"1\" class=\"dataframe\">\n",
       "  <thead>\n",
       "    <tr style=\"text-align: right;\">\n",
       "      <th></th>\n",
       "      <th>black</th>\n",
       "      <th>white</th>\n",
       "    </tr>\n",
       "  </thead>\n",
       "  <tbody>\n",
       "    <tr>\n",
       "      <th>0</th>\n",
       "      <td>('Early on a Saturday morning last August  peo...</td>\n",
       "      <td>NaN</td>\n",
       "    </tr>\n",
       "    <tr>\n",
       "      <th>1</th>\n",
       "      <td>('The administration of Mayor Martin J  Walsh ...</td>\n",
       "      <td>('No  “Black Panther” isn’t the greatest movie...</td>\n",
       "    </tr>\n",
       "    <tr>\n",
       "      <th>2</th>\n",
       "      <td>('n t nState Police are looking for the driver...</td>\n",
       "      <td>('To understand the legacy of Boston’s longtim...</td>\n",
       "    </tr>\n",
       "    <tr>\n",
       "      <th>3</th>\n",
       "      <td>('Confirming  last week about the fate of the ...</td>\n",
       "      <td>('Jerrelle Guy is standing in her Fenway studi...</td>\n",
       "    </tr>\n",
       "    <tr>\n",
       "      <th>4</th>\n",
       "      <td>('Olympic planners on Monday unveiled a bluepr...</td>\n",
       "      <td>('With the swiftness of a unanimous voice vote...</td>\n",
       "    </tr>\n",
       "  </tbody>\n",
       "</table>\n",
       "</div>"
      ],
      "text/plain": [
       "                                               black  \\\n",
       "0  ('Early on a Saturday morning last August  peo...   \n",
       "1  ('The administration of Mayor Martin J  Walsh ...   \n",
       "2  ('n t nState Police are looking for the driver...   \n",
       "3  ('Confirming  last week about the fate of the ...   \n",
       "4  ('Olympic planners on Monday unveiled a bluepr...   \n",
       "\n",
       "                                               white  \n",
       "0                                                NaN  \n",
       "1  ('No  “Black Panther” isn’t the greatest movie...  \n",
       "2  ('To understand the legacy of Boston’s longtim...  \n",
       "3  ('Jerrelle Guy is standing in her Fenway studi...  \n",
       "4  ('With the swiftness of a unanimous voice vote...  "
      ]
     },
     "execution_count": 13,
     "metadata": {},
     "output_type": "execute_result"
    }
   ],
   "source": [
    "race_separated_articles.head()"
   ]
  },
  {
   "cell_type": "code",
   "execution_count": 14,
   "id": "307d0a24-8c58-4137-a790-03dff92881ba",
   "metadata": {},
   "outputs": [],
   "source": [
    "race_separated_articles.to_csv('Race_Categorized_Articles/2018.csv')"
   ]
  },
  {
   "cell_type": "code",
   "execution_count": null,
   "id": "e717f896-f89c-4efb-b468-4e2a61a2fa29",
   "metadata": {},
   "outputs": [],
   "source": []
  }
 ],
 "metadata": {
  "kernelspec": {
   "display_name": "Python 3",
   "language": "python",
   "name": "python3"
  },
  "language_info": {
   "codemirror_mode": {
    "name": "ipython",
    "version": 3
   },
   "file_extension": ".py",
   "mimetype": "text/x-python",
   "name": "python",
   "nbconvert_exporter": "python",
   "pygments_lexer": "ipython3",
   "version": "3.6.13"
  }
 },
 "nbformat": 4,
 "nbformat_minor": 5
}
